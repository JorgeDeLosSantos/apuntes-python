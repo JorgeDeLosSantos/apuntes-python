{
 "cells": [
  {
   "cell_type": "markdown",
   "metadata": {},
   "source": [
    "# Fundamentos del lenguaje \n",
    "\n",
    "\n",
    "\n",
    "## Python\n",
    "\n",
    "Python es un lenguaje de programación, interpretado, de alto nivel y propósito general, además de ser un proyecto libre y de código abierto, con una comunidad enorme implicada en el desarrollo y mantenimiento de librerías que hacen posible el *multidominio* actual de Python.\n",
    "\n",
    "Dada su concepción como lenguaje de propósito general, Python es utilizado en una diversidad de aplicaciones, \n",
    "desde desarrollo web, encriptación, análisis de datos, procesamiento de imágenes, aprendizaje automático, \n",
    "computación simbólica, etc.  \n",
    "\n",
    "Las características de este lenguaje le hacen propicio para el prototipado de aplicaciones, dado que es muy \n",
    "sencillo y rápido revisar y modificar el código desarrollado. Otra característica muy notable de Python \n",
    "es su sintaxis simple y fácil de aprender, lo cual ayuda al momento de introducirse en el desarrollo de \n",
    "algoritmos o el mundo propio de la programación de computadoras.\n",
    "\n",
    "## Instalando Python\n",
    "\n",
    "En estos apuntes se utilizará la distribución Anaconda de Python, la cual contiene el intérprete y las librerías del \n",
    "*core*, pero además incluye la mayoría de librerías utilizadas para el desarrollo de aplicaciones de corte \n",
    "técnico-científico.\n",
    "\n",
    "La descarga de Anaconda puede realizarla desde el sitio https://www.anaconda.com/download/, selecciona el \n",
    "paquete de descarga conforme al sistema operativo (Windows, macOS o Linux) así como la arquitectura de su PC.\n",
    "La instalación suele ser muy sencilla, puede seguir las instrucciones dadas en el *How to install ANACONDA* de \n",
    "la misma página.\n",
    "\n",
    "## El notebook de Jupyter como una calculadora básica\n",
    "\n",
    "Una vez instalado Anaconda puede testear la correcta instalación abriendo el Jupyter Notebook, la cual es una aplicación web en la cual puede escribir código, texto, ecuaciones, etc., y que básicamente es donde se desarrollaron estos apuntes. Puede \n",
    "buscar esta aplicación en la carpeta de instalación correspondiente.\n",
    "\n",
    "A partir de este momento puede ingresar código Python en las celdas y teclear **Shift + Enter** para ejecutar la instrucción y la celda le devolverá lo que resulte de esto. Por ejemplo, si escribe un número cualesquiera y presiona la combinación indicada, la consola le devolverá justamente el mismo número:"
   ]
  },
  {
   "cell_type": "code",
   "execution_count": 1,
   "metadata": {},
   "outputs": [
    {
     "data": {
      "text/plain": [
       "1000"
      ]
     },
     "execution_count": 1,
     "metadata": {},
     "output_type": "execute_result"
    }
   ],
   "source": [
    "1000"
   ]
  },
  {
   "cell_type": "markdown",
   "metadata": {},
   "source": [
    "Puede ejecutar una simple suma aritmética:"
   ]
  },
  {
   "cell_type": "code",
   "execution_count": 2,
   "metadata": {},
   "outputs": [
    {
     "data": {
      "text/plain": [
       "300"
      ]
     },
     "execution_count": 2,
     "metadata": {},
     "output_type": "execute_result"
    }
   ],
   "source": [
    "100 + 200"
   ]
  },
  {
   "cell_type": "markdown",
   "metadata": {},
   "source": [
    "O una resta:"
   ]
  },
  {
   "cell_type": "code",
   "execution_count": 3,
   "metadata": {},
   "outputs": [
    {
     "data": {
      "text/plain": [
       "-100"
      ]
     },
     "execution_count": 3,
     "metadata": {},
     "output_type": "execute_result"
    }
   ],
   "source": [
    "550 - 650"
   ]
  },
  {
   "cell_type": "markdown",
   "metadata": {},
   "source": [
    "Naturalmente Python maneja sin complicaciones las cantidades negativas. Una multiplicación la realiza \n",
    "con el operador *:"
   ]
  },
  {
   "cell_type": "code",
   "execution_count": 4,
   "metadata": {},
   "outputs": [
    {
     "data": {
      "text/plain": [
       "1250"
      ]
     },
     "execution_count": 4,
     "metadata": {},
     "output_type": "execute_result"
    }
   ],
   "source": [
    "50*25"
   ]
  },
  {
   "cell_type": "markdown",
   "metadata": {},
   "source": [
    "Para las divisiones utiliza el operador /:"
   ]
  },
  {
   "cell_type": "code",
   "execution_count": 5,
   "metadata": {},
   "outputs": [
    {
     "data": {
      "text/plain": [
       "0.5"
      ]
     },
     "execution_count": 5,
     "metadata": {},
     "output_type": "execute_result"
    }
   ],
   "source": [
    "1/2"
   ]
  },
  {
   "cell_type": "markdown",
   "metadata": {},
   "source": [
    "Puede elevar a una potencia utilizando como operador el doble asterisco:"
   ]
  },
  {
   "cell_type": "code",
   "execution_count": 6,
   "metadata": {},
   "outputs": [
    {
     "data": {
      "text/plain": [
       "169"
      ]
     },
     "execution_count": 6,
     "metadata": {},
     "output_type": "execute_result"
    }
   ],
   "source": [
    "13**2"
   ]
  },
  {
   "cell_type": "markdown",
   "metadata": {},
   "source": [
    "Inclusive existe la posilidad de definir números complejos y realizar operaciones con ellos:"
   ]
  },
  {
   "cell_type": "code",
   "execution_count": 7,
   "metadata": {},
   "outputs": [
    {
     "data": {
      "text/plain": [
       "(5+2j)"
      ]
     },
     "execution_count": 7,
     "metadata": {},
     "output_type": "execute_result"
    }
   ],
   "source": [
    "5 + 2j"
   ]
  },
  {
   "cell_type": "code",
   "execution_count": 8,
   "metadata": {},
   "outputs": [
    {
     "data": {
      "text/plain": [
       "(-5-5j)"
      ]
     },
     "execution_count": 8,
     "metadata": {},
     "output_type": "execute_result"
    }
   ],
   "source": [
    "(5 + 2j) - (10 + 7j)"
   ]
  },
  {
   "cell_type": "code",
   "execution_count": 9,
   "metadata": {},
   "outputs": [
    {
     "data": {
      "text/plain": [
       "(36+55j)"
      ]
     },
     "execution_count": 9,
     "metadata": {},
     "output_type": "execute_result"
    }
   ],
   "source": [
    "(5 + 2j)*(10 + 7j)"
   ]
  },
  {
   "cell_type": "markdown",
   "metadata": {},
   "source": [
    "Puede ampliar la capacidad de las funcionalidades *built-in* de Python si importa alguna librería, como \n",
    "`math`, pero claro, eso será un tema a tratar con posterioridad."
   ]
  },
  {
   "cell_type": "markdown",
   "metadata": {},
   "source": [
    "## Variables y tipos de datos\n",
    "\n",
    "Al ser un lenguaje de alto nivel, Python dispone de los tipos de datos elementales en cualquier lenguaje de programación, \n",
    "pero además incluye estructuras de datos muy *avanzadas* y con altas prestaciones que facilitan en muchos \n",
    "aspectos la tarea del programador.\n",
    "\n",
    "Python es un lenguaje de tipado dinámico en el que no hace falta declarar el tipo de dato que asignará a una variable, \n",
    "de igual manera una variable puede cambiar de tipo conforme la ejecución del programa, por ello se debe tener cuidado \n",
    "con la sintaxis para definir cada tipo de dato.\n",
    "\n",
    "### Variables\n",
    "\n",
    "Las variables son referencias a los objetos de Python, son creadas por asignación mediante el signo `=`, por ejemplo:"
   ]
  },
  {
   "cell_type": "code",
   "execution_count": 10,
   "metadata": {},
   "outputs": [
    {
     "data": {
      "text/plain": [
       "12"
      ]
     },
     "execution_count": 10,
     "metadata": {},
     "output_type": "execute_result"
    }
   ],
   "source": [
    "a = 2\n",
    "b = 10\n",
    "a + b"
   ]
  },
  {
   "cell_type": "markdown",
   "metadata": {},
   "source": [
    "El nombre de una variable puede constar de una combinación de caracteres alfanúmericos y el guión bajo, \n",
    "siempre y cuando el primer caracter no sea un dígito. Además, en Python los nombres de variables son \n",
    "*case sensitive*, es decir, se distingue entre mayúsculas y minúsculas."
   ]
  },
  {
   "cell_type": "code",
   "execution_count": 11,
   "metadata": {},
   "outputs": [],
   "source": [
    "D = 177.8\n",
    "d = 95"
   ]
  },
  {
   "cell_type": "code",
   "execution_count": 12,
   "metadata": {},
   "outputs": [
    {
     "name": "stdout",
     "output_type": "stream",
     "text": [
      "177.8\n"
     ]
    }
   ],
   "source": [
    "print(D)"
   ]
  },
  {
   "cell_type": "code",
   "execution_count": 13,
   "metadata": {},
   "outputs": [
    {
     "name": "stdout",
     "output_type": "stream",
     "text": [
      "95\n"
     ]
    }
   ],
   "source": [
    "print(d)"
   ]
  },
  {
   "cell_type": "markdown",
   "metadata": {},
   "source": [
    "Existen algunas palabras reservadas del lenguaje que no puede utilizar como nombre de variable, \n",
    "puede verificar cuáles son estas palabras tecleando lo siguiente:"
   ]
  },
  {
   "cell_type": "code",
   "execution_count": 14,
   "metadata": {},
   "outputs": [
    {
     "name": "stdout",
     "output_type": "stream",
     "text": [
      "['False', 'None', 'True', 'and', 'as', 'assert', 'break', 'class', 'continue', 'def', 'del', 'elif', 'else', 'except', 'finally', 'for', 'from', 'global', 'if', 'import', 'in', 'is', 'lambda', 'nonlocal', 'not', 'or', 'pass', 'raise', 'return', 'try', 'while', 'with', 'yield']\n"
     ]
    }
   ],
   "source": [
    "import keyword \n",
    "print(keyword.kwlist)"
   ]
  },
  {
   "cell_type": "markdown",
   "metadata": {},
   "source": [
    "### Enteros (`int`)\n",
    "\n",
    "Los enteros son un tipo de dato básico en cualquier lenguaje de programación. En Python para definir un valor entero se debe colocar el número sin ningun punto decimal, por ejemplo:"
   ]
  },
  {
   "cell_type": "code",
   "execution_count": 30,
   "metadata": {},
   "outputs": [
    {
     "data": {
      "text/plain": [
       "int"
      ]
     },
     "execution_count": 30,
     "metadata": {},
     "output_type": "execute_result"
    }
   ],
   "source": [
    "a = 1\n",
    "type(a)"
   ]
  },
  {
   "cell_type": "markdown",
   "metadata": {},
   "source": [
    "De manera explícita se puede definir un valor entero utilizando la función `int`:"
   ]
  },
  {
   "cell_type": "code",
   "execution_count": 71,
   "metadata": {},
   "outputs": [
    {
     "data": {
      "text/plain": [
       "(float, int)"
      ]
     },
     "execution_count": 71,
     "metadata": {},
     "output_type": "execute_result"
    }
   ],
   "source": [
    "m = 5.0\n",
    "n = int(5.0)\n",
    "type(m), type(n)"
   ]
  },
  {
   "cell_type": "markdown",
   "metadata": {},
   "source": [
    "Observe que cuando colocamos un punto decimal, automáticamente la cantidad deja de ser un entero y pasa a ser un flotante."
   ]
  },
  {
   "cell_type": "markdown",
   "metadata": {},
   "source": [
    "### De coma flotante (`float`)\n",
    "\n",
    "Los valores de coma flotante son cantidades numéricas que incluyen a todos los reales. Para que Python reconozca un valor numérico como de tipo `float` se debe adicionar el punto decimal o bien utilizar la función `float` para hacer la indicación de manera explícita, por ejemplo:"
   ]
  },
  {
   "cell_type": "code",
   "execution_count": 72,
   "metadata": {},
   "outputs": [
    {
     "data": {
      "text/plain": [
       "(float, float, float, float)"
      ]
     },
     "execution_count": 72,
     "metadata": {},
     "output_type": "execute_result"
    }
   ],
   "source": [
    "w = 5.3\n",
    "x = 10.0\n",
    "y = 9.\n",
    "z = float(8)\n",
    "type(w), type(x), type(y), type(z)"
   ]
  },
  {
   "cell_type": "markdown",
   "metadata": {},
   "source": [
    "### Booleanos\n",
    "\n",
    "Las variables booleanas sólo pueden adoptar dos valores: verdadero (`True`) o falso (`False`). Un valor booleano se puede definir directamente a partir de las constantes `True` y `False`:"
   ]
  },
  {
   "cell_type": "code",
   "execution_count": 73,
   "metadata": {},
   "outputs": [
    {
     "data": {
      "text/plain": [
       "(bool, bool)"
      ]
     },
     "execution_count": 73,
     "metadata": {},
     "output_type": "execute_result"
    }
   ],
   "source": [
    "a = True\n",
    "b = False\n",
    "type(a), type(b)"
   ]
  },
  {
   "cell_type": "markdown",
   "metadata": {},
   "source": [
    "O bien a partir de otros objetos Python al aplicar la función `bool`:"
   ]
  },
  {
   "cell_type": "code",
   "execution_count": 74,
   "metadata": {},
   "outputs": [
    {
     "data": {
      "text/plain": [
       "True"
      ]
     },
     "execution_count": 74,
     "metadata": {},
     "output_type": "execute_result"
    }
   ],
   "source": [
    "bool(\"hola\")"
   ]
  },
  {
   "cell_type": "code",
   "execution_count": 75,
   "metadata": {},
   "outputs": [
    {
     "data": {
      "text/plain": [
       "False"
      ]
     },
     "execution_count": 75,
     "metadata": {},
     "output_type": "execute_result"
    }
   ],
   "source": [
    "bool([])"
   ]
  },
  {
   "cell_type": "code",
   "execution_count": 76,
   "metadata": {},
   "outputs": [
    {
     "data": {
      "text/plain": [
       "False"
      ]
     },
     "execution_count": 76,
     "metadata": {},
     "output_type": "execute_result"
    }
   ],
   "source": [
    "bool(0)"
   ]
  },
  {
   "cell_type": "code",
   "execution_count": 77,
   "metadata": {},
   "outputs": [
    {
     "data": {
      "text/plain": [
       "True"
      ]
     },
     "execution_count": 77,
     "metadata": {},
     "output_type": "execute_result"
    }
   ],
   "source": [
    "bool(10)"
   ]
  },
  {
   "cell_type": "markdown",
   "metadata": {},
   "source": [
    "En general, la función `bool` devolverá un `False` cuando se tienen objetos nulos o vacíos, en cualquier otro caso devolverá el valor `True`."
   ]
  },
  {
   "cell_type": "markdown",
   "metadata": {},
   "source": [
    "### Cadenas de caracteres (`str`)\n",
    "\n",
    "Las cadenas de caracteres (denominadas habitualmente y de manera indistinta como *strings* es un tipo de dato \n",
    "que contiene una secuencia de símbolos, mismos que pueden ser alfanúmericos hasta cualquier otro símbolo propio de \n",
    "un sistema de escritura. En Python los strings se definen entre comillas dobles o simples:"
   ]
  },
  {
   "cell_type": "code",
   "execution_count": 78,
   "metadata": {},
   "outputs": [
    {
     "data": {
      "text/plain": [
       "'esta es una cadena de caracteres'"
      ]
     },
     "execution_count": 78,
     "metadata": {},
     "output_type": "execute_result"
    }
   ],
   "source": [
    "\"esta es una cadena de caracteres\""
   ]
  },
  {
   "cell_type": "code",
   "execution_count": 79,
   "metadata": {},
   "outputs": [
    {
     "data": {
      "text/plain": [
       "'esta también'"
      ]
     },
     "execution_count": 79,
     "metadata": {},
     "output_type": "execute_result"
    }
   ],
   "source": [
    "'esta también'"
   ]
  },
  {
   "cell_type": "markdown",
   "metadata": {},
   "source": [
    "Puede concatenar dos strings utilizando el operador `+`:"
   ]
  },
  {
   "cell_type": "code",
   "execution_count": 80,
   "metadata": {},
   "outputs": [
    {
     "data": {
      "text/plain": [
       "'Holamundo'"
      ]
     },
     "execution_count": 80,
     "metadata": {},
     "output_type": "execute_result"
    }
   ],
   "source": [
    "\"Hola\" + \"mundo\""
   ]
  },
  {
   "cell_type": "markdown",
   "metadata": {},
   "source": [
    "Notará que Python por sí mismo no sabe que estamos uniendo dos palabras y que entre ellas debería haber un espacio \n",
    "para su correcta lectura, evidentemente este tipo de cuestiones son las que el programador debe tomar en cuenta al \n",
    "escribir un código.\n",
    "\n",
    "Una cadena de caracteres es lo que en Python se conoce como *iterable*, es decir, una secuencia de \n",
    "elementos agrupados a los cuales se puede acceder de manera individual mediante indexación. Por ejemplo, \n",
    "sea `nombre` una cadena de caracteres dada por:"
   ]
  },
  {
   "cell_type": "code",
   "execution_count": 81,
   "metadata": {},
   "outputs": [],
   "source": [
    "nombre=\"Catalina\""
   ]
  },
  {
   "cell_type": "markdown",
   "metadata": {},
   "source": [
    "Puede acceder a cada una de las letras que componen dicha cadena mediante la notación `iter[pos]`, donde \n",
    "`iter` es el nombre del iterable y `pos` la posición en que se encuentra el caracter al cual \n",
    "se desea acceder, siendo 0 para la primera letra, 1 para la segunda y así de manera consecutiva. Por ejemplo: "
   ]
  },
  {
   "cell_type": "code",
   "execution_count": 82,
   "metadata": {},
   "outputs": [
    {
     "data": {
      "text/plain": [
       "'C'"
      ]
     },
     "execution_count": 82,
     "metadata": {},
     "output_type": "execute_result"
    }
   ],
   "source": [
    "nombre[0]"
   ]
  },
  {
   "cell_type": "code",
   "execution_count": 83,
   "metadata": {},
   "outputs": [
    {
     "data": {
      "text/plain": [
       "'l'"
      ]
     },
     "execution_count": 83,
     "metadata": {},
     "output_type": "execute_result"
    }
   ],
   "source": [
    "nombre[4]"
   ]
  },
  {
   "cell_type": "code",
   "execution_count": 84,
   "metadata": {},
   "outputs": [
    {
     "data": {
      "text/plain": [
       "'t'"
      ]
     },
     "execution_count": 84,
     "metadata": {},
     "output_type": "execute_result"
    }
   ],
   "source": [
    "nombre[2]"
   ]
  },
  {
   "cell_type": "markdown",
   "metadata": {},
   "source": [
    "Al último elemento, sin importar la longitud de la cadena, se accede con el índice -1:"
   ]
  },
  {
   "cell_type": "code",
   "execution_count": 85,
   "metadata": {},
   "outputs": [
    {
     "data": {
      "text/plain": [
       "'a'"
      ]
     },
     "execution_count": 85,
     "metadata": {},
     "output_type": "execute_result"
    }
   ],
   "source": [
    "nombre[-1]"
   ]
  },
  {
   "cell_type": "markdown",
   "metadata": {},
   "source": [
    "### Listas\n",
    "\n",
    "Las listas son estructuras de datos que pueden almacenar cualquier otro tipo de dato, inclusive una lista \n",
    "puede contener otra lista, además, la cantidad de elementos de una lista se puede modificar removiendo o \n",
    "añadiendo elementos. Para definir una lista se utilizan los corchetes, dentro de estos se colocan todos \n",
    "los elementos separados por comas:"
   ]
  },
  {
   "cell_type": "code",
   "execution_count": 86,
   "metadata": {},
   "outputs": [],
   "source": [
    "calificaciones = [10,9,8,7.5,9]\n",
    "nombres = [\"Ana\",\"Juan\",\"Sofía\",\"Pablo\",\"Tania\"]\n",
    "mezcla = [True, 10.5, \"abc\", [0,1,1]]"
   ]
  },
  {
   "cell_type": "markdown",
   "metadata": {},
   "source": [
    "Las listas son *iterables* y por tanto se puede acceder a sus elementos mediante indexación:"
   ]
  },
  {
   "cell_type": "code",
   "execution_count": 87,
   "metadata": {},
   "outputs": [
    {
     "data": {
      "text/plain": [
       "'Sofía'"
      ]
     },
     "execution_count": 87,
     "metadata": {},
     "output_type": "execute_result"
    }
   ],
   "source": [
    "nombres[2]"
   ]
  },
  {
   "cell_type": "code",
   "execution_count": 88,
   "metadata": {},
   "outputs": [
    {
     "data": {
      "text/plain": [
       "'Tania'"
      ]
     },
     "execution_count": 88,
     "metadata": {},
     "output_type": "execute_result"
    }
   ],
   "source": [
    "nombres[-1]"
   ]
  },
  {
   "cell_type": "markdown",
   "metadata": {},
   "source": [
    "Se tiene la posibilidad de agregar elementos a una lista mediante el método `append`: "
   ]
  },
  {
   "cell_type": "code",
   "execution_count": 89,
   "metadata": {},
   "outputs": [
    {
     "name": "stdout",
     "output_type": "stream",
     "text": [
      "['Ana', 'Juan', 'Sofía', 'Pablo', 'Tania', 'Antonio', 'Ximena']\n"
     ]
    }
   ],
   "source": [
    "nombres.append(\"Antonio\")\n",
    "nombres.append(\"Ximena\")\n",
    "print(nombres)"
   ]
  },
  {
   "cell_type": "markdown",
   "metadata": {},
   "source": [
    "El método `remove` elimina un elemento de una lista:"
   ]
  },
  {
   "cell_type": "code",
   "execution_count": 90,
   "metadata": {},
   "outputs": [
    {
     "name": "stdout",
     "output_type": "stream",
     "text": [
      "['Juan', 'Sofía', 'Pablo', 'Tania', 'Antonio', 'Ximena']\n"
     ]
    }
   ],
   "source": [
    "nombres.remove(\"Ana\")\n",
    "print(nombres)"
   ]
  },
  {
   "cell_type": "markdown",
   "metadata": {},
   "source": [
    "Sí el valor pasado al método `remove` no existe, Python devolverá un `ValueError`:"
   ]
  },
  {
   "cell_type": "code",
   "execution_count": 91,
   "metadata": {},
   "outputs": [
    {
     "ename": "ValueError",
     "evalue": "list.remove(x): x not in list",
     "output_type": "error",
     "traceback": [
      "\u001b[1;31m---------------------------------------------------------------------------\u001b[0m",
      "\u001b[1;31mValueError\u001b[0m                                Traceback (most recent call last)",
      "\u001b[1;32m<ipython-input-91-d983d2559e2f>\u001b[0m in \u001b[0;36m<module>\u001b[1;34m()\u001b[0m\n\u001b[1;32m----> 1\u001b[1;33m \u001b[0mnombres\u001b[0m\u001b[1;33m.\u001b[0m\u001b[0mremove\u001b[0m\u001b[1;33m(\u001b[0m\u001b[1;34m\"Jorge\"\u001b[0m\u001b[1;33m)\u001b[0m\u001b[1;33m\u001b[0m\u001b[0m\n\u001b[0m",
      "\u001b[1;31mValueError\u001b[0m: list.remove(x): x not in list"
     ]
    }
   ],
   "source": [
    "nombres.remove(\"Jorge\")"
   ]
  },
  {
   "cell_type": "markdown",
   "metadata": {},
   "source": [
    "### Tuplas\n",
    "\n",
    "Las tuplas son secuencias de elementos similares a las listas, la diferencia principal es que \n",
    "las tuplas no pueden ser modificadas directamente, es decir, una tupla no dispone de los métodos \n",
    "como `append` o `insert` que modifican los elementos de una lista.\n",
    "\n",
    "Para definir una tupla, los elementos se separan con comas y se encierran entre paréntesis."
   ]
  },
  {
   "cell_type": "code",
   "execution_count": 92,
   "metadata": {},
   "outputs": [],
   "source": [
    "colores=(\"Azul\",\"Verde\",\"Rojo\",\"Amarillo\",\"Blanco\",\"Negro\",\"Gris\")"
   ]
  },
  {
   "cell_type": "markdown",
   "metadata": {},
   "source": [
    "Las tuplas al ser *iterables* pueden accederse mediante la notación de corchetes e índice."
   ]
  },
  {
   "cell_type": "code",
   "execution_count": 93,
   "metadata": {},
   "outputs": [
    {
     "data": {
      "text/plain": [
       "'Azul'"
      ]
     },
     "execution_count": 93,
     "metadata": {},
     "output_type": "execute_result"
    }
   ],
   "source": [
    "colores[0]"
   ]
  },
  {
   "cell_type": "code",
   "execution_count": 94,
   "metadata": {},
   "outputs": [
    {
     "data": {
      "text/plain": [
       "'Gris'"
      ]
     },
     "execution_count": 94,
     "metadata": {},
     "output_type": "execute_result"
    }
   ],
   "source": [
    "colores[-1]"
   ]
  },
  {
   "cell_type": "code",
   "execution_count": 95,
   "metadata": {},
   "outputs": [
    {
     "data": {
      "text/plain": [
       "'Amarillo'"
      ]
     },
     "execution_count": 95,
     "metadata": {},
     "output_type": "execute_result"
    }
   ],
   "source": [
    "colores[3]"
   ]
  },
  {
   "cell_type": "markdown",
   "metadata": {},
   "source": [
    "Si intentamos modificar alguno de los elementos de la tupla Python nos devolverá un `TypeError`:"
   ]
  },
  {
   "cell_type": "code",
   "execution_count": 96,
   "metadata": {},
   "outputs": [
    {
     "ename": "TypeError",
     "evalue": "'tuple' object does not support item assignment",
     "output_type": "error",
     "traceback": [
      "\u001b[1;31m---------------------------------------------------------------------------\u001b[0m",
      "\u001b[1;31mTypeError\u001b[0m                                 Traceback (most recent call last)",
      "\u001b[1;32m<ipython-input-96-3502c7127536>\u001b[0m in \u001b[0;36m<module>\u001b[1;34m()\u001b[0m\n\u001b[1;32m----> 1\u001b[1;33m \u001b[0mcolores\u001b[0m\u001b[1;33m[\u001b[0m\u001b[1;36m0\u001b[0m\u001b[1;33m]\u001b[0m \u001b[1;33m=\u001b[0m \u001b[1;34m\"Café\"\u001b[0m\u001b[1;33m\u001b[0m\u001b[0m\n\u001b[0m",
      "\u001b[1;31mTypeError\u001b[0m: 'tuple' object does not support item assignment"
     ]
    }
   ],
   "source": [
    "colores[0] = \"Café\""
   ]
  },
  {
   "cell_type": "markdown",
   "metadata": {},
   "source": [
    "### Diccionarios"
   ]
  },
  {
   "cell_type": "markdown",
   "metadata": {},
   "source": [
    "Los diccionarios son estructuras que contienen una colección de elementos de la \n",
    "forma `clave: valor` separados por comas y encerrados entre llaves. \n",
    "Las claves deben ser objetos inmutables y los valores pueden ser de cualquier tipo. \n",
    "Necesariamente las claves deben ser únicas en cada diccionario, no así \n",
    "los valores. \n",
    "\n",
    "Vamos a definir un diccionario llamado `edades` en el cual \n",
    "cada clave será un nombre y el valor una edad:"
   ]
  },
  {
   "cell_type": "code",
   "execution_count": 97,
   "metadata": {},
   "outputs": [],
   "source": [
    "edades = {\"Ana\": 25, \"David\": 18, \"Lucas\": 35, \"Ximena\": 30, \"Ale\": 20}"
   ]
  },
  {
   "cell_type": "markdown",
   "metadata": {},
   "source": [
    "Puede acceder a cada valor de un diccionario mediante su clave, por ejemplo, \n",
    "si quisieramos obtener la edad de la clave `Lucas` se tendría que escribir:"
   ]
  },
  {
   "cell_type": "code",
   "execution_count": 104,
   "metadata": {},
   "outputs": [
    {
     "data": {
      "text/plain": [
       "35"
      ]
     },
     "execution_count": 104,
     "metadata": {},
     "output_type": "execute_result"
    }
   ],
   "source": [
    "edades[\"Lucas\"]"
   ]
  },
  {
   "cell_type": "markdown",
   "metadata": {},
   "source": [
    "## Operadores relacionales y lógicos\n",
    "\n",
    "Los operadores relacionales (o de comparación) nos permite efectuar comparaciones entre objetos de Python. El resultado de una comparación es un valor booleano `True` o `False`, dependiendo la naturaleza de la comparación.\n",
    "\n",
    "A continuación se ejemplifican los operadores relacionales que podemos utilizar en Python:"
   ]
  },
  {
   "cell_type": "code",
   "execution_count": 105,
   "metadata": {},
   "outputs": [
    {
     "data": {
      "text/plain": [
       "True"
      ]
     },
     "execution_count": 105,
     "metadata": {},
     "output_type": "execute_result"
    }
   ],
   "source": [
    "# \"igual a\"\n",
    "1 == 1"
   ]
  },
  {
   "cell_type": "code",
   "execution_count": 106,
   "metadata": {},
   "outputs": [
    {
     "data": {
      "text/plain": [
       "False"
      ]
     },
     "execution_count": 106,
     "metadata": {},
     "output_type": "execute_result"
    }
   ],
   "source": [
    "# \"diferente a\"\n",
    "\"a\" != \"a\""
   ]
  },
  {
   "cell_type": "code",
   "execution_count": 107,
   "metadata": {},
   "outputs": [
    {
     "data": {
      "text/plain": [
       "True"
      ]
     },
     "execution_count": 107,
     "metadata": {},
     "output_type": "execute_result"
    }
   ],
   "source": [
    "# mayor que\n",
    "10 > 5"
   ]
  },
  {
   "cell_type": "code",
   "execution_count": 108,
   "metadata": {},
   "outputs": [
    {
     "data": {
      "text/plain": [
       "False"
      ]
     },
     "execution_count": 108,
     "metadata": {},
     "output_type": "execute_result"
    }
   ],
   "source": [
    "# menor que\n",
    "5 < 1"
   ]
  },
  {
   "cell_type": "code",
   "execution_count": 109,
   "metadata": {},
   "outputs": [
    {
     "data": {
      "text/plain": [
       "True"
      ]
     },
     "execution_count": 109,
     "metadata": {},
     "output_type": "execute_result"
    }
   ],
   "source": [
    "# mayor o igual que\n",
    "30 >= 30"
   ]
  },
  {
   "cell_type": "code",
   "execution_count": 110,
   "metadata": {},
   "outputs": [
    {
     "data": {
      "text/plain": [
       "False"
      ]
     },
     "execution_count": 110,
     "metadata": {},
     "output_type": "execute_result"
    }
   ],
   "source": [
    "# menor o igual que\n",
    "20 <= 10"
   ]
  },
  {
   "cell_type": "markdown",
   "metadata": {},
   "source": [
    "Hay que tener cuidado y verificar que al hacer comparaciones los objetos implicados sean compatibles. Cuando los objetos no son comparables Python devolverá un `TypeError`, por ejemplo:"
   ]
  },
  {
   "cell_type": "code",
   "execution_count": 113,
   "metadata": {},
   "outputs": [
    {
     "ename": "TypeError",
     "evalue": "'>' not supported between instances of 'str' and 'int'",
     "output_type": "error",
     "traceback": [
      "\u001b[1;31m---------------------------------------------------------------------------\u001b[0m",
      "\u001b[1;31mTypeError\u001b[0m                                 Traceback (most recent call last)",
      "\u001b[1;32m<ipython-input-113-7a3a9a917f79>\u001b[0m in \u001b[0;36m<module>\u001b[1;34m()\u001b[0m\n\u001b[1;32m----> 1\u001b[1;33m \u001b[1;34m\"a\"\u001b[0m \u001b[1;33m>\u001b[0m \u001b[1;36m10\u001b[0m\u001b[1;33m\u001b[0m\u001b[0m\n\u001b[0m",
      "\u001b[1;31mTypeError\u001b[0m: '>' not supported between instances of 'str' and 'int'"
     ]
    }
   ],
   "source": [
    "\"a\" > 10"
   ]
  },
  {
   "cell_type": "code",
   "execution_count": 114,
   "metadata": {},
   "outputs": [
    {
     "ename": "TypeError",
     "evalue": "'<' not supported between instances of 'list' and 'tuple'",
     "output_type": "error",
     "traceback": [
      "\u001b[1;31m---------------------------------------------------------------------------\u001b[0m",
      "\u001b[1;31mTypeError\u001b[0m                                 Traceback (most recent call last)",
      "\u001b[1;32m<ipython-input-114-4dd688af572f>\u001b[0m in \u001b[0;36m<module>\u001b[1;34m()\u001b[0m\n\u001b[1;32m----> 1\u001b[1;33m \u001b[1;33m[\u001b[0m\u001b[1;36m0\u001b[0m\u001b[1;33m,\u001b[0m\u001b[1;36m4\u001b[0m\u001b[1;33m]\u001b[0m \u001b[1;33m<\u001b[0m \u001b[1;33m(\u001b[0m\u001b[1;36m1\u001b[0m\u001b[1;33m,\u001b[0m\u001b[1;36m2\u001b[0m\u001b[1;33m)\u001b[0m\u001b[1;33m\u001b[0m\u001b[0m\n\u001b[0m",
      "\u001b[1;31mTypeError\u001b[0m: '<' not supported between instances of 'list' and 'tuple'"
     ]
    }
   ],
   "source": [
    "[0,4] < (1,2)"
   ]
  },
  {
   "cell_type": "markdown",
   "metadata": {},
   "source": [
    "También podemos *encadenar* comparaciones con instrucciones del tipo `a < b < c`, donde ese `<` puede ser cualquier operador relacional, por ejemplo:"
   ]
  },
  {
   "cell_type": "code",
   "execution_count": 115,
   "metadata": {},
   "outputs": [
    {
     "data": {
      "text/plain": [
       "True"
      ]
     },
     "execution_count": 115,
     "metadata": {},
     "output_type": "execute_result"
    }
   ],
   "source": [
    "1 < 2 < 3"
   ]
  },
  {
   "cell_type": "code",
   "execution_count": 116,
   "metadata": {},
   "outputs": [
    {
     "data": {
      "text/plain": [
       "False"
      ]
     },
     "execution_count": 116,
     "metadata": {},
     "output_type": "execute_result"
    }
   ],
   "source": [
    "10 > 10 > 3"
   ]
  },
  {
   "cell_type": "code",
   "execution_count": 117,
   "metadata": {},
   "outputs": [
    {
     "data": {
      "text/plain": [
       "True"
      ]
     },
     "execution_count": 117,
     "metadata": {},
     "output_type": "execute_result"
    }
   ],
   "source": [
    "3 == 3 >= 2"
   ]
  },
  {
   "cell_type": "markdown",
   "metadata": {},
   "source": [
    "Los **operadores lógicos** nos sirven para realizar operaciones de lógica booleana entre valores de tipo `bool`. En Python podemos utilizar los operadores lógicos `and`, `or` y `not`, observe los siguientes ejemplos:"
   ]
  },
  {
   "cell_type": "code",
   "execution_count": 118,
   "metadata": {},
   "outputs": [
    {
     "data": {
      "text/plain": [
       "True"
      ]
     },
     "execution_count": 118,
     "metadata": {},
     "output_type": "execute_result"
    }
   ],
   "source": [
    "True and True"
   ]
  },
  {
   "cell_type": "code",
   "execution_count": 119,
   "metadata": {},
   "outputs": [
    {
     "data": {
      "text/plain": [
       "False"
      ]
     },
     "execution_count": 119,
     "metadata": {},
     "output_type": "execute_result"
    }
   ],
   "source": [
    "True and False"
   ]
  },
  {
   "cell_type": "code",
   "execution_count": 120,
   "metadata": {},
   "outputs": [
    {
     "data": {
      "text/plain": [
       "True"
      ]
     },
     "execution_count": 120,
     "metadata": {},
     "output_type": "execute_result"
    }
   ],
   "source": [
    "True or False"
   ]
  },
  {
   "cell_type": "code",
   "execution_count": 121,
   "metadata": {
    "scrolled": true
   },
   "outputs": [
    {
     "data": {
      "text/plain": [
       "False"
      ]
     },
     "execution_count": 121,
     "metadata": {},
     "output_type": "execute_result"
    }
   ],
   "source": [
    "not True"
   ]
  },
  {
   "cell_type": "code",
   "execution_count": 122,
   "metadata": {},
   "outputs": [
    {
     "data": {
      "text/plain": [
       "True"
      ]
     },
     "execution_count": 122,
     "metadata": {},
     "output_type": "execute_result"
    }
   ],
   "source": [
    "(1 == 1) and (2 > 1)"
   ]
  },
  {
   "cell_type": "code",
   "execution_count": 123,
   "metadata": {},
   "outputs": [
    {
     "data": {
      "text/plain": [
       "True"
      ]
     },
     "execution_count": 123,
     "metadata": {},
     "output_type": "execute_result"
    }
   ],
   "source": [
    "(0 == 0) or (10 >=20) and (1 > 0)"
   ]
  },
  {
   "cell_type": "code",
   "execution_count": 124,
   "metadata": {},
   "outputs": [
    {
     "data": {
      "text/plain": [
       "True"
      ]
     },
     "execution_count": 124,
     "metadata": {},
     "output_type": "execute_result"
    }
   ],
   "source": [
    "not( (2 > 3) and (5==5) )"
   ]
  },
  {
   "cell_type": "markdown",
   "metadata": {},
   "source": [
    "## Entrada y salida por consola: las funciones `input` e `print`"
   ]
  },
  {
   "cell_type": "markdown",
   "metadata": {},
   "source": [
    "### La función `print`\n",
    "\n",
    "La función `print` se utiliza para mostrar en pantalla el *valor* (o la representación) de los objetos Python. A `print` le podemos pasar un sólo argumento, por ejemplo:"
   ]
  },
  {
   "cell_type": "code",
   "execution_count": 1,
   "metadata": {},
   "outputs": [
    {
     "name": "stdout",
     "output_type": "stream",
     "text": [
      "Hola mundo\n"
     ]
    }
   ],
   "source": [
    "print(\"Hola mundo\")"
   ]
  },
  {
   "cell_type": "markdown",
   "metadata": {},
   "source": [
    "O una lista de argumentos que se imprimirán:"
   ]
  },
  {
   "cell_type": "code",
   "execution_count": 2,
   "metadata": {},
   "outputs": [
    {
     "name": "stdout",
     "output_type": "stream",
     "text": [
      "hola mundo 5 8 [1, 2, 3]\n"
     ]
    }
   ],
   "source": [
    "print(\"hola\", \"mundo\", 5, 8, [1,2,3])"
   ]
  },
  {
   "cell_type": "markdown",
   "metadata": {},
   "source": [
    "Como se puede observar en la línea anterior, realmente, le podemos pasar cualquier objeto de Python y `print` nos devolverá la representación de dicho objeto. \n",
    "\n",
    "Adicionalmente, también podemos indicar de manera explícita, mediante el *keyword argument* `sep`, el separador que queremos utilizar, por default el separador es un espacio."
   ]
  },
  {
   "cell_type": "code",
   "execution_count": 3,
   "metadata": {},
   "outputs": [
    {
     "name": "stdout",
     "output_type": "stream",
     "text": [
      "20,30,python\n"
     ]
    }
   ],
   "source": [
    "print(20,30,\"python\", sep=\",\")"
   ]
  },
  {
   "cell_type": "code",
   "execution_count": 4,
   "metadata": {},
   "outputs": [
    {
     "name": "stdout",
     "output_type": "stream",
     "text": [
      "Hola -- 90 -- 80\n"
     ]
    }
   ],
   "source": [
    "print(\"Hola\", 90, 80, sep=\" -- \")"
   ]
  },
  {
   "cell_type": "markdown",
   "metadata": {},
   "source": [
    "Como separador podemos utilizar cualquier símbolo soportado por Python."
   ]
  },
  {
   "cell_type": "code",
   "execution_count": 5,
   "metadata": {},
   "outputs": [
    {
     "name": "stdout",
     "output_type": "stream",
     "text": [
      "Hola ⇨ 90 ⇨ 80\n"
     ]
    }
   ],
   "source": [
    "print(\"Hola\", 90, 80, sep=\" \\u21e8 \")"
   ]
  },
  {
   "cell_type": "code",
   "execution_count": 6,
   "metadata": {},
   "outputs": [
    {
     "name": "stdout",
     "output_type": "stream",
     "text": [
      "Hola 😀 mundo\n"
     ]
    }
   ],
   "source": [
    "print(\"Hola\", \"mundo\", sep=\" \\U0001F600 \")"
   ]
  },
  {
   "cell_type": "markdown",
   "metadata": {},
   "source": [
    "Se puede indicar, también, mediante el *keyword argument* `end`, el caracter que se quiere utilizar cuando se *imprime* el último elemento, por default es un salto de línea."
   ]
  },
  {
   "cell_type": "code",
   "execution_count": 7,
   "metadata": {},
   "outputs": [
    {
     "name": "stdout",
     "output_type": "stream",
     "text": [
      "20 30 python\n",
      "hola\n"
     ]
    }
   ],
   "source": [
    "print(20,30,\"python\") # sin cambiar el argumento end \n",
    "print(\"hola\")"
   ]
  },
  {
   "cell_type": "markdown",
   "metadata": {},
   "source": [
    "Cambiando el argumento `end`:"
   ]
  },
  {
   "cell_type": "code",
   "execution_count": 8,
   "metadata": {},
   "outputs": [
    {
     "name": "stdout",
     "output_type": "stream",
     "text": [
      "20 30 python\n",
      "\n",
      "\thola\n"
     ]
    }
   ],
   "source": [
    "print(20,30,\"python\", end=\"\\n\\n\\t\") # utilizando un doble salto de línea + tab\n",
    "print(\"hola\")"
   ]
  },
  {
   "cell_type": "markdown",
   "metadata": {},
   "source": [
    "```{admonition} print y los strings formateados\n",
    ":class: tip\n",
    "Si te interesa obtener información acerca de `print` y su uso conjunto con strings formateados, revisa el capítulo dedicado a los strings.\n",
    "```"
   ]
  },
  {
   "cell_type": "markdown",
   "metadata": {},
   "source": [
    "### La función `input`"
   ]
  },
  {
   "cell_type": "markdown",
   "metadata": {},
   "source": [
    "En Python, la función `input` permite obtener entrada por teclado, con la finalidad de *tomar* información proporcionada por el usuario. La sintaxis de `input` es:\n",
    "\n",
    "```python\n",
    "var = input(prompt)\n",
    "```\n",
    "\n",
    "Donde `prompt` es el mensaje que se muestra al usuario al momento que se le solicita la información, `var` es la variable en la cual se almacena lo que el usuario ingresa hasta que presiona la tecla **Enter**.\n",
    "\n",
    "Veamos un ejemplo:"
   ]
  },
  {
   "cell_type": "code",
   "execution_count": 1,
   "metadata": {},
   "outputs": [
    {
     "name": "stdout",
     "output_type": "stream",
     "text": [
      "Ingrese su nombre: Jorge\n",
      "Hola Jorge bienvenido\n"
     ]
    }
   ],
   "source": [
    "nombre = input(\"Ingrese su nombre: \")\n",
    "print(\"Hola\", nombre, \"bienvenido\")"
   ]
  },
  {
   "cell_type": "markdown",
   "metadata": {},
   "source": [
    "Como puedes observar, el programa anterior solicita al usuario un valor de entrada utilizando el prompt `Ingrese su nombre: `; en este caso el usuario ingresó la cadena `Jorge`. Con la segunda línea únicamente se toma el valor guardado en la variable nombre y se muestra junto con  las cadenas `\"Hola\"` y `\"bienvenido\"`."
   ]
  },
  {
   "cell_type": "markdown",
   "metadata": {},
   "source": [
    "Es importante tener en cuenta que la función `input` devuelve siempre un valor de tipo string. Así, si quisiéramos solicitar un valor de tipo numérico y realizar operaciones con él, entonces, se debe tener el cuidado de convertir el string a un tipo numérico de manera explícita, de lo contrario podríamos tener un programa que nos *lance* un error, o en el peor de los casos, que funcione de manera incorrecta."
   ]
  },
  {
   "cell_type": "code",
   "execution_count": 3,
   "metadata": {},
   "outputs": [
    {
     "name": "stdout",
     "output_type": "stream",
     "text": [
      "Ingrese un número: 10\n"
     ]
    },
    {
     "ename": "TypeError",
     "evalue": "'>' not supported between instances of 'str' and 'int'",
     "output_type": "error",
     "traceback": [
      "\u001b[1;31m---------------------------------------------------------------------------\u001b[0m",
      "\u001b[1;31mTypeError\u001b[0m                                 Traceback (most recent call last)",
      "\u001b[1;32m<ipython-input-3-5ab401de4360>\u001b[0m in \u001b[0;36m<module>\u001b[1;34m\u001b[0m\n\u001b[0;32m      1\u001b[0m \u001b[1;31m# No podemos comparar un string con un entero\u001b[0m\u001b[1;33m\u001b[0m\u001b[1;33m\u001b[0m\u001b[0m\n\u001b[0;32m      2\u001b[0m \u001b[0mn\u001b[0m \u001b[1;33m=\u001b[0m \u001b[0minput\u001b[0m\u001b[1;33m(\u001b[0m\u001b[1;34m\"Ingrese un número: \"\u001b[0m\u001b[1;33m)\u001b[0m\u001b[1;33m\u001b[0m\u001b[0m\n\u001b[1;32m----> 3\u001b[1;33m \u001b[1;32mif\u001b[0m \u001b[0mn\u001b[0m \u001b[1;33m>\u001b[0m \u001b[1;36m10\u001b[0m\u001b[1;33m:\u001b[0m\u001b[1;33m\u001b[0m\u001b[0m\n\u001b[0m\u001b[0;32m      4\u001b[0m     \u001b[0mprint\u001b[0m\u001b[1;33m(\u001b[0m\u001b[1;34m\"n es mayor 10\"\u001b[0m\u001b[1;33m)\u001b[0m\u001b[1;33m\u001b[0m\u001b[0m\n",
      "\u001b[1;31mTypeError\u001b[0m: '>' not supported between instances of 'str' and 'int'"
     ]
    }
   ],
   "source": [
    "# No podemos comparar un string con un entero\n",
    "n = input(\"Ingrese un número: \")\n",
    "if n > 10:\n",
    "    print(\"n es mayor 10\")"
   ]
  },
  {
   "cell_type": "code",
   "execution_count": 12,
   "metadata": {},
   "outputs": [
    {
     "name": "stdout",
     "output_type": "stream",
     "text": [
      "Ingrese un número: 12\n",
      "121212\n"
     ]
    }
   ],
   "source": [
    "# Aquí n+n+n corresponde a concatenar la cadena \"12\", en lugar de sumar los valores numéricos.\n",
    "n = input(\"Ingrese un número: \")\n",
    "print(n + n + n)"
   ]
  },
  {
   "cell_type": "code",
   "execution_count": 13,
   "metadata": {},
   "outputs": [
    {
     "name": "stdout",
     "output_type": "stream",
     "text": [
      "Ingrese un número: 12\n",
      "36.0\n"
     ]
    }
   ],
   "source": [
    "# Ahora n+n+n si corresponde a sumar dichos valores numéricamente\n",
    "n = float( input(\"Ingrese un número: \") )\n",
    "print(n + n + n)"
   ]
  },
  {
   "cell_type": "markdown",
   "metadata": {},
   "source": [
    "## Control de flujo\n",
    "\n",
    "### Condicional `if-elif-else`\n",
    "\n",
    "El condicional `if-elif-else` es una estructura de control que sirve para *tomar decisiones* en el flujo del programa. La sintaxis para `if-elif-else` es:\n",
    "\n",
    "```python\n",
    "if cond1:\n",
    "    # hacer algo \n",
    "elif cond2:\n",
    "    # hacer otra cosa\n",
    "    .\n",
    "    .\n",
    "    .\n",
    "elif condn:\n",
    "    # hacer algo más\n",
    "else:\n",
    "    # hacer algo por default\n",
    "```\n",
    "\n",
    "Donde `cond1, cond2, ... condn` son valores lógicos que resultan de una comparación. Esta estructura se evalúa \n",
    "secuencialmente hasta encontrar una condición que se cumpla, si ninguna lo hace, entonces se ejecuta la instrucción \n",
    "colocada en el caso por default `else`.\n",
    "\n",
    "En el siguiente fragmento de código se muestra un programa que verifica si el valor de `a` es mayor, menor o igual al valor de `b`."
   ]
  },
  {
   "cell_type": "code",
   "execution_count": 7,
   "metadata": {},
   "outputs": [
    {
     "name": "stdout",
     "output_type": "stream",
     "text": [
      "a es menor que b\n"
     ]
    }
   ],
   "source": [
    "a = 10\n",
    "b = 30\n",
    "\n",
    "if a > b:\n",
    "    print(\"a es mayor que b\")\n",
    "elif a < b:\n",
    "    print(\"a es menor que b\")\n",
    "else:\n",
    "    print(\"a es igual a b\")"
   ]
  },
  {
   "cell_type": "markdown",
   "metadata": {},
   "source": [
    "Es muy común que en algunos, por cuestiones inherentes a lo que se está programando, únicamente se decida entre dos posibilidades que son excluyentes, en esos casos basta con una estructura `if-else`."
   ]
  },
  {
   "cell_type": "code",
   "execution_count": 8,
   "metadata": {},
   "outputs": [
    {
     "name": "stdout",
     "output_type": "stream",
     "text": [
      "El número es impar\n"
     ]
    }
   ],
   "source": [
    "n = 1111\n",
    "\n",
    "if (-1)**(n) > 0:\n",
    "    print(\"El número es par\")\n",
    "else:\n",
    "    print(\"El número es impar\")"
   ]
  },
  {
   "cell_type": "markdown",
   "metadata": {},
   "source": [
    "### Bucle `for`\n",
    "\n",
    "El **bucle for** es una estructura de control de naturaleza repetitiva, en la cual se conocen \n",
    "*a priori* el número de iteraciones a realizar. En lenguajes como C++ o Java, el ciclo `for` \n",
    "necesita de una variable de ciclo de tipo entero que irá incrementándose en cada iteración. En Python, la cuestión es un poco diferente, el ciclo `for` *recorre* un *iterable* y en la k-ésima iteración la variable de ciclo *adopta* el \n",
    "valor del elemento en la k-ésima posición del iterable.\n",
    "\n",
    "De manera general, la sintaxis de `for` es:\n",
    "\n",
    "```python\n",
    "for var in iterable:\n",
    "    # Hacer algo ...\n",
    "```\n",
    "\n",
    "Donde `var` es la **variable de ciclo** e `iterable` la secuencia de valores que deberá iterarse. \n",
    "Es necesario remarcar la importancia de los dos puntos al final de esta primera línea y en indentar el bloque de \n",
    "código subsecuente que definirá el cuerpo del ciclo for.\n",
    "\n",
    "Como primer ejemplo vamos a recorrer una lista de números y mostrarlos por consola:"
   ]
  },
  {
   "cell_type": "code",
   "execution_count": 147,
   "metadata": {},
   "outputs": [
    {
     "name": "stdout",
     "output_type": "stream",
     "text": [
      "18\n",
      "50\n",
      "90\n",
      "-20\n",
      "100\n",
      "80\n",
      "37\n"
     ]
    }
   ],
   "source": [
    "numeros = [18,50,90,-20,100,80,37]\n",
    "for n in numeros:\n",
    "    print(n)"
   ]
  },
  {
   "cell_type": "markdown",
   "metadata": {},
   "source": [
    "Observe que en cada iteración la variable de ciclo `n` adopta el valor de cada uno de los elementos de la \n",
    "lista `numeros`.\n",
    "\n",
    "Como ya se mencionó, en Python la variable de ciclo no necesariamente adopta valores numéricos enteros secuenciales, \n",
    "si no valores dentro de una secuencia. Esta secuencia podría ser también una cadena de caracteres, por ejemplo:"
   ]
  },
  {
   "cell_type": "code",
   "execution_count": 148,
   "metadata": {},
   "outputs": [
    {
     "name": "stdout",
     "output_type": "stream",
     "text": [
      "P\n",
      "y\n",
      "t\n",
      "h\n",
      "o\n",
      "n\n"
     ]
    }
   ],
   "source": [
    "palabra = \"Python\"\n",
    "for letra in palabra:\n",
    "    print(letra)"
   ]
  },
  {
   "cell_type": "markdown",
   "metadata": {},
   "source": [
    "Dentro de un ciclo for podemos colocar cualesquiera otra instrucción de control de flujo. Un caso \n",
    "muy común es el de incluir otro ciclo for, algo que habitualmente se denota como **ciclos anidados**. \n",
    "Por ejemplo, supongamos que se requieren mostrar por consola todos los elementos de algunas listas contenidas \n",
    "dentro de otra lista principal, en ese caso se hace necesario primero iterar sobre la lista principal y \n",
    "enseguida hacerlo sobre las listas contenidas, por ejemplo:"
   ]
  },
  {
   "cell_type": "code",
   "execution_count": 150,
   "metadata": {},
   "outputs": [
    {
     "name": "stdout",
     "output_type": "stream",
     "text": [
      "-5\n",
      "2\n",
      "0\n",
      "9\n",
      "5\n",
      "6\n",
      "1\n",
      "7\n",
      "15\n"
     ]
    }
   ],
   "source": [
    "matriz = [[-5,2,0], [9,5,6], [1,7,15]]\n",
    "for fila in matriz:\n",
    "    for elemento in fila:\n",
    "        print(elemento)"
   ]
  },
  {
   "cell_type": "markdown",
   "metadata": {},
   "source": [
    "### Bucle `while`"
   ]
  },
  {
   "cell_type": "markdown",
   "metadata": {},
   "source": [
    "## Funciones\n",
    "\n",
    "Las funciones son *porciones de código* que nos sirven para modularizar \n",
    "nuestros programas y evitar en muchos casos la repetitividad de código. \n",
    "De manera general una función recibe algunos valores de entrada, los *procesa* y \n",
    "devuelve algunos valores de salida (o bien modifica algunas variables).\n",
    "\n",
    "### Funciones nativas de Python (`built-in`)\n",
    "\n",
    "Python dispone de algunas funciones nativas que se *cargan* automáticamente cuando se \n",
    "inicia el intérprete. Por ejemplo la función `max` devuelve el mayor valor numérico de \n",
    "una lista de números:"
   ]
  },
  {
   "cell_type": "code",
   "execution_count": 151,
   "metadata": {},
   "outputs": [
    {
     "data": {
      "text/plain": [
       "112"
      ]
     },
     "execution_count": 151,
     "metadata": {},
     "output_type": "execute_result"
    }
   ],
   "source": [
    "max([10,35,5,110,48,30,112,98,87])"
   ]
  },
  {
   "cell_type": "markdown",
   "metadata": {},
   "source": [
    "También existe una función `min`, análoga a `max`:"
   ]
  },
  {
   "cell_type": "code",
   "execution_count": 152,
   "metadata": {},
   "outputs": [
    {
     "data": {
      "text/plain": [
       "5"
      ]
     },
     "execution_count": 152,
     "metadata": {},
     "output_type": "execute_result"
    }
   ],
   "source": [
    "min([10,35,5,110,48,30,112,98,87])"
   ]
  },
  {
   "cell_type": "markdown",
   "metadata": {},
   "source": [
    "Otro ejemplo de función nativa es `bin`, la cual dado un número en base 10 devuelve \n",
    "una cadena con la representación en base 2."
   ]
  },
  {
   "cell_type": "code",
   "execution_count": 153,
   "metadata": {},
   "outputs": [
    {
     "data": {
      "text/plain": [
       "'0b1010'"
      ]
     },
     "execution_count": 153,
     "metadata": {},
     "output_type": "execute_result"
    }
   ],
   "source": [
    "bin(10)"
   ]
  },
  {
   "cell_type": "markdown",
   "metadata": {},
   "source": [
    "Naturalmente, el valor devuelto por una función se puede asignar a una variable y posteriormente ser utilizado:"
   ]
  },
  {
   "cell_type": "code",
   "execution_count": 154,
   "metadata": {},
   "outputs": [
    {
     "name": "stdout",
     "output_type": "stream",
     "text": [
      "0.5\n"
     ]
    }
   ],
   "source": [
    "a = max([10,5,8])\n",
    "b = min([10,5,8])\n",
    "h = (a - b)/10\n",
    "print(h)"
   ]
  },
  {
   "cell_type": "markdown",
   "metadata": {},
   "source": [
    "Hay funciones que no devuelven como tal un valor, si no que pueden modificar directamente \n",
    "alguna variable global o simplemente mostrar algo en la salida estándar como el caso de `print`.\n",
    "\n",
    "Tendremos también funciones que aceptan más de un argumento, por ejemplo a la función `round` podemos \n",
    "pasarle dos argumentos: un número real y la cantidad de lugares decimales a considerar para el redondeo.\n"
   ]
  },
  {
   "cell_type": "code",
   "execution_count": 155,
   "metadata": {},
   "outputs": [
    {
     "data": {
      "text/plain": [
       "3.141593"
      ]
     },
     "execution_count": 155,
     "metadata": {},
     "output_type": "execute_result"
    }
   ],
   "source": [
    "round(3.141592653589793, 6)"
   ]
  },
  {
   "cell_type": "code",
   "execution_count": 156,
   "metadata": {},
   "outputs": [
    {
     "data": {
      "text/plain": [
       "3.14"
      ]
     },
     "execution_count": 156,
     "metadata": {},
     "output_type": "execute_result"
    }
   ],
   "source": [
    "round(3.141592653589793, 2)"
   ]
  },
  {
   "cell_type": "markdown",
   "metadata": {},
   "source": [
    "### Funciones definidas por el usuario"
   ]
  },
  {
   "cell_type": "markdown",
   "metadata": {},
   "source": [
    "Además de las funciones nativas de Python, es posible definir nuestras propias funciones. \n",
    "En Python, de manera general, una función se define siguiendo la estructura mostrada a continuación:\n",
    "\n",
    "```python\n",
    "def nombre_fun(arg1, arg2, ..., argN):\n",
    "\t# Cuerpo de la función\n",
    "\t# .\n",
    "\t# .\n",
    "\t# .\n",
    "\treturn val1, val2, ..., valN\n",
    "```\n",
    "\n",
    "Donde `def` es una palabra que debe anteceder siempre a la definición de una función, \n",
    "`nombre_fun` es el nombre que se asignará a la función, entre paréntesis y \n",
    "separados por comas se colocan los nombres de los argumentos de entrada, los dos puntos \n",
    "se colocan después de cerrar el paréntesis e indican que ahí termina el *encabezado* de \n",
    "la función y comenzará el *cuerpo* de la misma, aquí se colocarán todas las \n",
    "instrucciones que deberán realizarse; la palabra reservada `return` sirve para \n",
    "indicar los valores a devolver, mismos que se colocarán separados por comas.\n",
    "\n",
    "Vamos a definir una función llamada `saluda`, la cual recibe un nombre (string)\n",
    "y devuelve un saludo (string) formado mediante concatenación:\n"
   ]
  },
  {
   "cell_type": "code",
   "execution_count": 157,
   "metadata": {},
   "outputs": [],
   "source": [
    "def saluda(nombre):\n",
    "    s = \"Hola \" + nombre + \", bienvenido.\"\n",
    "    return s"
   ]
  },
  {
   "cell_type": "code",
   "execution_count": 158,
   "metadata": {},
   "outputs": [
    {
     "name": "stdout",
     "output_type": "stream",
     "text": [
      "Hola Jorge, bienvenido.\n"
     ]
    }
   ],
   "source": [
    "print(saluda(\"Jorge\"))"
   ]
  },
  {
   "cell_type": "markdown",
   "metadata": {},
   "source": [
    "Lo único que hace la función anterior es tomar un *string* como argumento y unirlo \n",
    "a algunas cadenas ya establecidas dentro de la función. \n",
    "\n",
    "Veamos ahora cómo definir una función que recibe como argumento un entero y devuelve un valor lógico que \n",
    "indica si este es par."
   ]
  },
  {
   "cell_type": "code",
   "execution_count": 159,
   "metadata": {},
   "outputs": [],
   "source": [
    "def espar(n):\n",
    "    if n%2 == 0:\n",
    "        s = True\n",
    "    else:\n",
    "        s = False\n",
    "    return s"
   ]
  },
  {
   "cell_type": "code",
   "execution_count": 160,
   "metadata": {},
   "outputs": [
    {
     "name": "stdout",
     "output_type": "stream",
     "text": [
      "True\n",
      "False\n",
      "True\n"
     ]
    }
   ],
   "source": [
    "print(espar(2))\n",
    "print(espar(5))\n",
    "print(espar(10))"
   ]
  },
  {
   "cell_type": "markdown",
   "metadata": {},
   "source": [
    "Naturalmente, las funciones pueden recibir más de un argumento. Por ejemplo:"
   ]
  },
  {
   "cell_type": "code",
   "execution_count": 161,
   "metadata": {},
   "outputs": [],
   "source": [
    "def mayor(a,b):\n",
    "    m = a\n",
    "    if a < b:\n",
    "        m = b\n",
    "    return m"
   ]
  },
  {
   "cell_type": "code",
   "execution_count": 162,
   "metadata": {},
   "outputs": [
    {
     "name": "stdout",
     "output_type": "stream",
     "text": [
      "50\n",
      "3050\n"
     ]
    }
   ],
   "source": [
    "print( mayor(50,30) )\n",
    "print( mayor(1100,3050) )"
   ]
  },
  {
   "cell_type": "markdown",
   "metadata": {},
   "source": [
    "La función `mayor` recibe dos valores numéricos y determina cuál es el mayor de ambos mediante \n",
    "una comparación con la sentencia `if`. \n",
    "\n",
    "¿Pueden las funciones en Python devolver más de un valor? ¡Claro! Hace falta nada más separar \n",
    "con comas los valores a devolver.\n"
   ]
  },
  {
   "cell_type": "code",
   "execution_count": 163,
   "metadata": {},
   "outputs": [],
   "source": [
    "def calcula_rectangulo(b,h):\n",
    "    A = b*h\n",
    "    P = 2*b + 2*h\n",
    "    return A, P"
   ]
  },
  {
   "cell_type": "code",
   "execution_count": 164,
   "metadata": {},
   "outputs": [
    {
     "name": "stdout",
     "output_type": "stream",
     "text": [
      "(50, 30)\n",
      "(750, 130)\n"
     ]
    }
   ],
   "source": [
    "print( calcula_rectangulo(10,5) )\n",
    "print( calcula_rectangulo(50,15) )"
   ]
  },
  {
   "cell_type": "markdown",
   "metadata": {},
   "source": [
    "También es posible guardar/asignar los valores devueltos por la función en variables:\n"
   ]
  },
  {
   "cell_type": "code",
   "execution_count": 165,
   "metadata": {},
   "outputs": [
    {
     "name": "stdout",
     "output_type": "stream",
     "text": [
      "Área: 2000\n",
      "Perímetro: 240\n"
     ]
    }
   ],
   "source": [
    "area1, perimetro1 = calcula_rectangulo(100, 20)\n",
    "print(\"Área: {0}\\nPerímetro: {1}\".format(area1, perimetro1))"
   ]
  },
  {
   "cell_type": "markdown",
   "metadata": {},
   "source": [
    "### Funciones con una cantidad de parámetros indeterminada\n",
    "\n",
    "En ocasiones el número de parámetros que deberá recibir una función no puede ser algo fijo. \n",
    "Las definiciones de función en Python tienen la flexibilidad de poder recibir una cantidad \n",
    "variable de argumentos de entrada. \n",
    "\n",
    "Para ejemplificar esto, vamos a crear una función llamada `promedio` que calcule \n",
    "el promedio de una cierta cantidad de números pasados como argumentos:"
   ]
  },
  {
   "cell_type": "code",
   "execution_count": 166,
   "metadata": {},
   "outputs": [],
   "source": [
    "def promedio(*numeros):\n",
    "    suma = 0\n",
    "    k = 0\n",
    "    for n in numeros:\n",
    "        suma += n\n",
    "        k += 1\n",
    "    return suma/k"
   ]
  },
  {
   "cell_type": "code",
   "execution_count": 167,
   "metadata": {},
   "outputs": [
    {
     "name": "stdout",
     "output_type": "stream",
     "text": [
      "7.5\n",
      "50.0\n",
      "8.75\n"
     ]
    }
   ],
   "source": [
    "print(promedio(10,5))\n",
    "print(promedio(10,50,40,80,20,100))\n",
    "print(promedio(5,15,10,5))"
   ]
  },
  {
   "cell_type": "markdown",
   "metadata": {},
   "source": [
    "Observe que lo único que hacemos es que al nombre del parámetro le anteponemos un asterisco, esto le indica \n",
    "a Python que la cantidad de argumentos de entrada es indeterminada, en principio. Claro está, que el manejo posterior \n",
    "de la información es algo que el programador debe tener en cuenta. Dentro del cuerpo de la función \n",
    "se debe considerar que el parámetro `numeros` será una tupla cuya cantidad de elementos dependerá \n",
    "de la cantidad de argumentos ingresados."
   ]
  },
  {
   "cell_type": "markdown",
   "metadata": {},
   "source": [
    "### Funciones y los argumentos con nombre\n",
    "\n",
    "Una función en Python se puede *mandar a llamar* pasándo los argumentos de manera posicional, es \n",
    "decir, en el orden que fueron definidos en la función, o bien, haciendo uso del nombre del parámetro correspondiente \n",
    "al argumento que se introduce, por ejemplo:"
   ]
  },
  {
   "cell_type": "code",
   "execution_count": 168,
   "metadata": {},
   "outputs": [],
   "source": [
    "def cuenta_cuantas(frase, letra):\n",
    "    k = 0\n",
    "    for car in frase:\n",
    "        if car is letra:\n",
    "            k += 1\n",
    "    return k"
   ]
  },
  {
   "cell_type": "code",
   "execution_count": 169,
   "metadata": {},
   "outputs": [
    {
     "name": "stdout",
     "output_type": "stream",
     "text": [
      "2\n",
      "2\n",
      "2\n"
     ]
    }
   ],
   "source": [
    "print( cuenta_cuantas(\"hola mundo\", \"o\") )\n",
    "print( cuenta_cuantas(frase=\"hola mundo\", letra=\"o\") )\n",
    "print( cuenta_cuantas(letra=\"o\", frase=\"hola mundo\") )"
   ]
  },
  {
   "cell_type": "markdown",
   "metadata": {},
   "source": [
    "La función `cuenta_cuantas` devuelve el número de presencias de una determinada letra en una frase. Observe \n",
    "las tres formas en que la *ejecutamos*, todas son equivalentes. En la primera se pasan los argumentos de \n",
    "forma posicional, en la segunda y tercera se utilizan los argumentos con nombres, note que en este caso el orden \n",
    "en que los argumentos son pasados, es indistinto.\n",
    "\n",
    "En la definición de funciones es posible también especificar que se pasarán ciertos argumentos con nombre \n",
    "sin necesidad de escribirlos de manera explícita. Observe la siguiente función:"
   ]
  },
  {
   "cell_type": "code",
   "execution_count": 170,
   "metadata": {},
   "outputs": [],
   "source": [
    "def muestra_puntos(**personas):\n",
    "    for persona in personas.items():\n",
    "        print(persona[0] + \" tiene \" + str(persona[1]) + \" puntos\")"
   ]
  },
  {
   "cell_type": "code",
   "execution_count": 171,
   "metadata": {},
   "outputs": [
    {
     "name": "stdout",
     "output_type": "stream",
     "text": [
      "Jorge tiene 8 puntos\n",
      "Paty tiene 10 puntos\n",
      "==============================\n",
      "Ana tiene 6 puntos\n",
      "Carlos tiene 9 puntos\n",
      "Victor tiene 4 puntos\n",
      "Daniela tiene 8 puntos\n"
     ]
    }
   ],
   "source": [
    "muestra_puntos(Jorge=8, Paty=10)\n",
    "print(30*\"=\")\n",
    "muestra_puntos(Ana=6, Carlos=9, Victor=4, Daniela=8)"
   ]
  },
  {
   "cell_type": "markdown",
   "metadata": {},
   "source": [
    "Vea que la definición de la función `muestra_puntos` incluye un parámetro llamado `**personas`, esos dos \n",
    "asteriscos antes del nombre del parámetro, indican que no se tiene predeterminado el número de argumentos que se \n",
    "pasarán, pero además, indica que cada argumento a introducir deberá ser un argumento con nombre.\n",
    "Dentro del cuerpo de la función el parámetro `**personas` es un diccionario cuyas claves \n",
    "son los nombres de los argumentos y los valores corresponden a cada valor asignado al argumento."
   ]
  },
  {
   "cell_type": "markdown",
   "metadata": {},
   "source": [
    "---"
   ]
  },
  {
   "cell_type": "markdown",
   "metadata": {},
   "source": [
    "## Ejercicios\n",
    "\n",
    "1. En las siguientes opciones se muestran operaciones aritméticas entre diversos \n",
    "objetos de Python. Verifique si es posible realizarlas e indique el resultado, \n",
    "de no ser así describa el por qué.\n",
    "\n",
    "    1. `1 + 2`\n",
    "    1. `1.3 + 2.5`\n",
    "    1. `\"1\" + 2`\n",
    "    1. `\"1\" + \"2\"`\n",
    "    1. `[1,2,3] + [10,20]`\n",
    "    1. `{\"a\":10, \"b\":5} + {\"h\":2, \"i\":4}`\n",
    "    \n",
    "1. Observe el siguiente código e identifique y explique el error:\n",
    "\n",
    "    ```python\n",
    "    for a,b in [1,2,5,3,8,7]:\n",
    "        print(a)\n",
    "    ```\n",
    "\n",
    "1. El siguiente código debería imprimir la longitud de cada palabra contenida en la lista `palabras`. Identifique el error.\n",
    "\n",
    "    ```\n",
    "    palabras = [\"Carro\", \"Sol\", \"Mesa\", \"Dinosaurio\", \"Girasol\", \"Silla\"]\n",
    "    for palabra in palabras:\n",
    "        print(len(palabras))\n",
    "    ```\n",
    "\n",
    "1. Implemente un programa que determine si un número dado es par o impar.\n",
    "\n",
    "1. Escriba un programa que cuente el número de vocales en una frase. Tome en cuenta que las vocales \n",
    "podrían ser tanto mayúsculas como minúsculas.\n",
    "\n",
    "1. Escriba un programa que aproxime, mediante la suma de Riemann, el área bajo la curva de la función \n",
    "$ f(x) = x^2 + 3x $ en el intervalo $ 0 \\leq x \\leq 10 $. \n"
   ]
  }
 ],
 "metadata": {
  "kernelspec": {
   "display_name": "Python 3",
   "language": "python",
   "name": "python3"
  },
  "language_info": {
   "codemirror_mode": {
    "name": "ipython",
    "version": 3
   },
   "file_extension": ".py",
   "mimetype": "text/x-python",
   "name": "python",
   "nbconvert_exporter": "python",
   "pygments_lexer": "ipython3",
   "version": "3.6.5"
  },
  "toc": {
   "base_numbering": 1,
   "nav_menu": {
    "height": "462px",
    "width": "608px"
   },
   "number_sections": true,
   "sideBar": true,
   "skip_h1_title": false,
   "title_cell": "Contenido",
   "title_sidebar": "Contents",
   "toc_cell": true,
   "toc_position": {},
   "toc_section_display": true,
   "toc_window_display": false
  }
 },
 "nbformat": 4,
 "nbformat_minor": 2
}
