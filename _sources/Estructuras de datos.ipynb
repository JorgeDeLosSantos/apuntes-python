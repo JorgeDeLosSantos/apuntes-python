{
 "cells": [
  {
   "cell_type": "markdown",
   "metadata": {},
   "source": [
    "# Estructuras de datos"
   ]
  },
  {
   "cell_type": "markdown",
   "metadata": {},
   "source": [
    "## Listas\n",
    "\n",
    "Las listas son estructuras de datos que pueden almacenar cualquier otro tipo de dato, inclusive una lista \n",
    "puede contener otra lista, además, la cantidad de elementos de una lista se puede modificar removiendo o \n",
    "añadiendo elementos. Para definir una lista se utilizan los corchetes, dentro de estos se colocan todos \n",
    "los elementos separados por comas:"
   ]
  },
  {
   "cell_type": "code",
   "execution_count": 11,
   "metadata": {},
   "outputs": [
    {
     "name": "stdout",
     "output_type": "stream",
     "text": [
      "<class 'list'>\n"
     ]
    }
   ],
   "source": [
    "nombres = [\"Ana\",\"Juan\",\"Sofía\",\"Pablo\",\"Tania\"]\n",
    "print(type(nombres))"
   ]
  },
  {
   "cell_type": "markdown",
   "metadata": {},
   "source": [
    "Recordar que podemos crear listas con diferentes tipos de datos, por ejemplo, la siguiente lista contiene tres objetos: uno de tipo `string`, un entero y un booleano."
   ]
  },
  {
   "cell_type": "code",
   "execution_count": 13,
   "metadata": {},
   "outputs": [
    {
     "name": "stdout",
     "output_type": "stream",
     "text": [
      "<class 'list'>\n"
     ]
    }
   ],
   "source": [
    "varios = [\"Hola\", 200, True]\n",
    "print(type(varios))"
   ]
  },
  {
   "cell_type": "markdown",
   "metadata": {},
   "source": [
    "La cantidad de elementos que conforman una lista se puede determinar utilizando la función `len`:"
   ]
  },
  {
   "cell_type": "code",
   "execution_count": 15,
   "metadata": {},
   "outputs": [
    {
     "data": {
      "text/plain": [
       "5"
      ]
     },
     "execution_count": 15,
     "metadata": {},
     "output_type": "execute_result"
    }
   ],
   "source": [
    "puntuaciones = [10, 8, 9, 9.5, 7]\n",
    "len(puntuaciones)"
   ]
  },
  {
   "cell_type": "markdown",
   "metadata": {},
   "source": [
    "### Accediendo a los elementos de una lista"
   ]
  },
  {
   "cell_type": "markdown",
   "metadata": {},
   "source": [
    "Las listas son secuencias y por lo tanto se puede acceder a sus elementos mediante indexación, es decir, con la notación:\n",
    "\n",
    "```\n",
    "lista[k]\n",
    "```\n",
    "\n",
    "Donde `k` es el índice correspondiente al elemento que se quiere acceder y `lista` el nombre de la variable en la cual está almacenada la lista. Veamos el siguiente ejemplo:"
   ]
  },
  {
   "cell_type": "code",
   "execution_count": 31,
   "metadata": {},
   "outputs": [
    {
     "data": {
      "text/plain": [
       "'Amelia'"
      ]
     },
     "execution_count": 31,
     "metadata": {},
     "output_type": "execute_result"
    }
   ],
   "source": [
    "nombres = [\"Ana\",\"Juan\",\"Amelia\",\"Pablo\"]\n",
    "nombres[2]"
   ]
  },
  {
   "cell_type": "markdown",
   "metadata": {},
   "source": [
    "En lo anterior accedemos al elemento ubicado en el índice `2`, es decir, el tercer elemento. En la siguiente figura podemos observar una representación gráfica de la lista `nombres` con sus elementos y los índices correspondientes (en color naranja) a cada uno de ellos.\n",
    "\n",
    "![](img/estructuras-de-datos/lista-index.svg)"
   ]
  },
  {
   "cell_type": "markdown",
   "metadata": {},
   "source": [
    "El último elemento de una lista se puede obtener siempre utilizando el índice negativo `-1`:"
   ]
  },
  {
   "cell_type": "code",
   "execution_count": 27,
   "metadata": {},
   "outputs": [
    {
     "data": {
      "text/plain": [
       "'Pablo'"
      ]
     },
     "execution_count": 27,
     "metadata": {},
     "output_type": "execute_result"
    }
   ],
   "source": [
    "nombres[-1]"
   ]
  },
  {
   "cell_type": "markdown",
   "metadata": {},
   "source": [
    "### Modificando elementos de una lista"
   ]
  },
  {
   "cell_type": "markdown",
   "metadata": {},
   "source": [
    "Las listas son estructuras de datos *mutables*, y por lo tanto podemos modificar sus elementos: sustituir, agregar y quitar. Para sustituir un elemento de una lista basta con acceder al elemento correspondiente mediante indexación y asignar un nuevo valor, veamos el siguiente ejemplo:"
   ]
  },
  {
   "cell_type": "code",
   "execution_count": 87,
   "metadata": {},
   "outputs": [
    {
     "name": "stdout",
     "output_type": "stream",
     "text": [
      "['Naranja', 'Fresa', 'Durazno']\n",
      "['Pera', 'Fresa', 'Durazno']\n"
     ]
    }
   ],
   "source": [
    "frutas = [\"Naranja\",\"Fresa\",\"Durazno\"]\n",
    "print(frutas)\n",
    "frutas[0] = \"Pera\"\n",
    "print(frutas)"
   ]
  },
  {
   "cell_type": "markdown",
   "metadata": {},
   "source": [
    "Como puedes ver, en la lista `frutas` hemos sustituido el elemento ubicado en el índice `0` (`\"Naranja\"`) por un nuevo valor (`\"Pera\"`). \n",
    "\n",
    "Se pueden hacer múltiples sustituciones utilizando la notación de *slicing*, pero se debe tener cuidado que el tamaño de la porción que estamos tomando corresponda con el tamaño de la lista que estamos reasignando:"
   ]
  },
  {
   "cell_type": "code",
   "execution_count": 88,
   "metadata": {},
   "outputs": [
    {
     "name": "stdout",
     "output_type": "stream",
     "text": [
      "['Pera', 'Fresa', 'Durazno']\n",
      "['Piña', 'Kiwi', 'Durazno']\n"
     ]
    }
   ],
   "source": [
    "print(frutas)\n",
    "frutas[0:2] = [\"Piña\",\"Kiwi\"]\n",
    "print(frutas)"
   ]
  },
  {
   "cell_type": "markdown",
   "metadata": {},
   "source": [
    "En este caso hemos sustituido a los elementos ubicados en los índices `0` y `1` (`\"Pera\"` y `\"Fresa\"`) por los nuevos valores (`\"Piña\"` y `\"Kiwi\"`) ."
   ]
  },
  {
   "cell_type": "markdown",
   "metadata": {},
   "source": [
    "Para agregar elementos a una lista podemos utilizar los métodos `append` e `insert`, naturalmente la elección está sujeta al comportamiento que muestran cada uno de estos métodos. El método `append` nos permite agregar elementos al final de la lista, en cambio `insert` nos permite insertar elementos en una posición específica de la lista.\n",
    "\n",
    "Por ejemplo, en la lista `frutas` creada previamente podríamos ir agregando más elementos con `append`:"
   ]
  },
  {
   "cell_type": "code",
   "execution_count": 89,
   "metadata": {},
   "outputs": [
    {
     "name": "stdout",
     "output_type": "stream",
     "text": [
      "['Piña', 'Kiwi', 'Durazno']\n",
      "['Piña', 'Kiwi', 'Durazno', 'Melón']\n"
     ]
    }
   ],
   "source": [
    "print(frutas)\n",
    "frutas.append(\"Melón\")\n",
    "print(frutas)"
   ]
  },
  {
   "cell_type": "markdown",
   "metadata": {},
   "source": [
    "Hay que tener en cuenta que el método `append` no permite agregar más de un elemento a la vez, si intentaramos agregar un conjunto de elementos observa lo que pasa:"
   ]
  },
  {
   "cell_type": "code",
   "execution_count": 90,
   "metadata": {},
   "outputs": [
    {
     "name": "stdout",
     "output_type": "stream",
     "text": [
      "['Piña', 'Kiwi', 'Durazno', 'Melón', ['Manzana', 'Ciruela']]\n"
     ]
    }
   ],
   "source": [
    "frutas.append([\"Manzana\",\"Ciruela\"])\n",
    "print(frutas)"
   ]
  },
  {
   "cell_type": "markdown",
   "metadata": {},
   "source": [
    "Lo anterior nos agrega una lista en lugar de dos elementos *strings*. Si quisiéramos agregar múltiples elementos al final de una lista podemos hacer uso del método `extend`, el cual si nos permite añadir múltiples elementos:"
   ]
  },
  {
   "cell_type": "code",
   "execution_count": 91,
   "metadata": {},
   "outputs": [
    {
     "name": "stdout",
     "output_type": "stream",
     "text": [
      "['Piña', 'Kiwi', 'Durazno', 'Melón', ['Manzana', 'Ciruela'], 'Manzana', 'Ciruela']\n"
     ]
    }
   ],
   "source": [
    "frutas.extend([\"Manzana\",\"Ciruela\"])\n",
    "print(frutas)"
   ]
  },
  {
   "cell_type": "markdown",
   "metadata": {},
   "source": [
    "Vamos a *corregir* nuestra lista `frutas` sustituyendo la sublista que habíamos insertado por un nuevo elemento:"
   ]
  },
  {
   "cell_type": "code",
   "execution_count": 92,
   "metadata": {},
   "outputs": [
    {
     "name": "stdout",
     "output_type": "stream",
     "text": [
      "['Piña', 'Kiwi', 'Durazno', 'Melón', 'Uva', 'Manzana', 'Ciruela']\n"
     ]
    }
   ],
   "source": [
    "frutas[4] = \"Uva\"\n",
    "print(frutas)"
   ]
  },
  {
   "cell_type": "markdown",
   "metadata": {},
   "source": [
    "Veamos ahora como funciona el método `insert`, debemos saber que la sintaxis de `insert` es como sigue:\n",
    "\n",
    "```python\n",
    "lista.insert(k, elemento)\n",
    "```\n",
    "\n",
    "Donde `k` corresponde al índice en el cual *quedará posicionado* el nuevo `elemento` insertado, por ejemplo si en la lista `frutas` quisiéramos insertar `\"Sandía\"` en el índice `1` entonces haríamos lo siguiente:"
   ]
  },
  {
   "cell_type": "code",
   "execution_count": 93,
   "metadata": {},
   "outputs": [
    {
     "name": "stdout",
     "output_type": "stream",
     "text": [
      "['Piña', 'Sandía', 'Kiwi', 'Durazno', 'Melón', 'Uva', 'Manzana', 'Ciruela']\n"
     ]
    }
   ],
   "source": [
    "frutas.insert(1, \"Sandía\")\n",
    "print(frutas)"
   ]
  },
  {
   "cell_type": "markdown",
   "metadata": {},
   "source": [
    "Para eliminar elementos de una lista existente podemos hacer uso de los métodos `remove`, `pop` y `clear`, en lo subsiguiente describimos en qué situación podríamos utilizar cada uno de estos."
   ]
  },
  {
   "cell_type": "markdown",
   "metadata": {},
   "source": [
    "El método `remove` elimina el elemento de la lista pasado como argumento:"
   ]
  },
  {
   "cell_type": "code",
   "execution_count": 94,
   "metadata": {},
   "outputs": [
    {
     "name": "stdout",
     "output_type": "stream",
     "text": [
      "['Piña', 'Sandía', 'Kiwi', 'Durazno', 'Melón', 'Uva', 'Manzana', 'Ciruela']\n",
      "['Piña', 'Sandía', 'Kiwi', 'Durazno', 'Melón', 'Manzana', 'Ciruela']\n"
     ]
    }
   ],
   "source": [
    "print(frutas)\n",
    "frutas.remove(\"Uva\")\n",
    "print(frutas)"
   ]
  },
  {
   "cell_type": "markdown",
   "metadata": {},
   "source": [
    "Es importante tomar en cuenta que el método `remove` elimina la primera aparición del elemento en una lista, si el elemento pasado como argumento está duplicado entonces aún quedará la segunda aparición, observa el siguiente ejemplo:"
   ]
  },
  {
   "cell_type": "code",
   "execution_count": 95,
   "metadata": {},
   "outputs": [
    {
     "name": "stdout",
     "output_type": "stream",
     "text": [
      "['Mercurio', 'Venus', 'Tierra', 'Marte']\n"
     ]
    }
   ],
   "source": [
    "planetas = [\"Mercurio\",\"Venus\",\"Tierra\",\"Tierra\",\"Marte\"]\n",
    "planetas.remove(\"Tierra\")\n",
    "print(planetas)"
   ]
  },
  {
   "cell_type": "markdown",
   "metadata": {},
   "source": [
    "Observa que eliminamos la primera aparición de `\"Tierra\"` pero no la segunda. Sí el valor pasado al método `remove` no existe, Python devolverá un `ValueError`:"
   ]
  },
  {
   "cell_type": "code",
   "execution_count": 96,
   "metadata": {},
   "outputs": [
    {
     "ename": "ValueError",
     "evalue": "list.remove(x): x not in list",
     "output_type": "error",
     "traceback": [
      "\u001b[1;31m---------------------------------------------------------------------------\u001b[0m",
      "\u001b[1;31mValueError\u001b[0m                                Traceback (most recent call last)",
      "\u001b[1;32m~\\AppData\\Local\\Temp/ipykernel_11328/3138698280.py\u001b[0m in \u001b[0;36m<module>\u001b[1;34m\u001b[0m\n\u001b[1;32m----> 1\u001b[1;33m \u001b[0mplanetas\u001b[0m\u001b[1;33m.\u001b[0m\u001b[0mremove\u001b[0m\u001b[1;33m(\u001b[0m\u001b[1;34m\"Urano\"\u001b[0m\u001b[1;33m)\u001b[0m\u001b[1;33m\u001b[0m\u001b[1;33m\u001b[0m\u001b[0m\n\u001b[0m",
      "\u001b[1;31mValueError\u001b[0m: list.remove(x): x not in list"
     ]
    }
   ],
   "source": [
    "planetas.remove(\"Urano\")"
   ]
  },
  {
   "cell_type": "code",
   "execution_count": null,
   "metadata": {},
   "outputs": [],
   "source": []
  },
  {
   "cell_type": "markdown",
   "metadata": {},
   "source": [
    "## Tuplas (`tuple`)\n",
    "\n",
    "Las tuplas son secuencias de elementos similares a las listas, la diferencia principal es que \n",
    "las tuplas no pueden ser modificadas directamente, es decir, una tupla no dispone de los métodos \n",
    "como `append` o `insert` que modifican los elementos de una lista.\n",
    "\n",
    "Para definir una tupla, los elementos se separan con comas y se encierran entre paréntesis."
   ]
  },
  {
   "cell_type": "code",
   "execution_count": 2,
   "metadata": {},
   "outputs": [],
   "source": [
    "colores=(\"Azul\",\"Verde\",\"Rojo\",\"Amarillo\",\"Blanco\",\"Negro\",\"Gris\")"
   ]
  },
  {
   "cell_type": "markdown",
   "metadata": {},
   "source": [
    "Las tuplas al ser *iterables* pueden accederse mediante la notación de corchetes e índice."
   ]
  },
  {
   "cell_type": "code",
   "execution_count": 93,
   "metadata": {},
   "outputs": [
    {
     "data": {
      "text/plain": [
       "'Azul'"
      ]
     },
     "execution_count": 93,
     "metadata": {},
     "output_type": "execute_result"
    }
   ],
   "source": [
    "colores[0]"
   ]
  },
  {
   "cell_type": "code",
   "execution_count": 94,
   "metadata": {},
   "outputs": [
    {
     "data": {
      "text/plain": [
       "'Gris'"
      ]
     },
     "execution_count": 94,
     "metadata": {},
     "output_type": "execute_result"
    }
   ],
   "source": [
    "colores[-1]"
   ]
  },
  {
   "cell_type": "code",
   "execution_count": 95,
   "metadata": {},
   "outputs": [
    {
     "data": {
      "text/plain": [
       "'Amarillo'"
      ]
     },
     "execution_count": 95,
     "metadata": {},
     "output_type": "execute_result"
    }
   ],
   "source": [
    "colores[3]"
   ]
  },
  {
   "cell_type": "markdown",
   "metadata": {},
   "source": [
    "Si intentamos modificar alguno de los elementos de la tupla Python nos devolverá un `TypeError`:"
   ]
  },
  {
   "cell_type": "code",
   "execution_count": 96,
   "metadata": {},
   "outputs": [
    {
     "ename": "TypeError",
     "evalue": "'tuple' object does not support item assignment",
     "output_type": "error",
     "traceback": [
      "\u001b[1;31m---------------------------------------------------------------------------\u001b[0m",
      "\u001b[1;31mTypeError\u001b[0m                                 Traceback (most recent call last)",
      "\u001b[1;32m<ipython-input-96-3502c7127536>\u001b[0m in \u001b[0;36m<module>\u001b[1;34m()\u001b[0m\n\u001b[1;32m----> 1\u001b[1;33m \u001b[0mcolores\u001b[0m\u001b[1;33m[\u001b[0m\u001b[1;36m0\u001b[0m\u001b[1;33m]\u001b[0m \u001b[1;33m=\u001b[0m \u001b[1;34m\"Café\"\u001b[0m\u001b[1;33m\u001b[0m\u001b[0m\n\u001b[0m",
      "\u001b[1;31mTypeError\u001b[0m: 'tuple' object does not support item assignment"
     ]
    }
   ],
   "source": [
    "colores[0] = \"Café\""
   ]
  },
  {
   "cell_type": "markdown",
   "metadata": {},
   "source": [
    "## Diccionarios (`dict`)"
   ]
  },
  {
   "cell_type": "markdown",
   "metadata": {},
   "source": [
    "Los diccionarios son estructuras que contienen una colección de elementos de la \n",
    "forma `clave: valor` separados por comas y encerrados entre llaves. \n",
    "Las claves deben ser objetos inmutables y los valores pueden ser de cualquier tipo. \n",
    "Necesariamente las claves deben ser únicas en cada diccionario, no así \n",
    "los valores. \n",
    "\n",
    "Vamos a definir un diccionario llamado `edades` en el cual \n",
    "cada clave será un nombre y el valor una edad:"
   ]
  },
  {
   "cell_type": "code",
   "execution_count": 3,
   "metadata": {},
   "outputs": [],
   "source": [
    "edades = {\"Ana\": 25, \"David\": 18, \"Lucas\": 35, \"Ximena\": 30, \"Ale\": 20}"
   ]
  },
  {
   "cell_type": "markdown",
   "metadata": {},
   "source": [
    "Puede acceder a cada valor de un diccionario mediante su clave, por ejemplo, \n",
    "si quisieramos obtener la edad de la clave `Lucas` se tendría que escribir:"
   ]
  },
  {
   "cell_type": "code",
   "execution_count": 4,
   "metadata": {},
   "outputs": [
    {
     "data": {
      "text/plain": [
       "35"
      ]
     },
     "execution_count": 4,
     "metadata": {},
     "output_type": "execute_result"
    }
   ],
   "source": [
    "edades[\"Lucas\"]"
   ]
  }
 ],
 "metadata": {
  "kernelspec": {
   "display_name": "Python 3 (ipykernel)",
   "language": "python",
   "name": "python3"
  },
  "language_info": {
   "codemirror_mode": {
    "name": "ipython",
    "version": 3
   },
   "file_extension": ".py",
   "mimetype": "text/x-python",
   "name": "python",
   "nbconvert_exporter": "python",
   "pygments_lexer": "ipython3",
   "version": "3.9.7"
  },
  "toc": {
   "base_numbering": 1,
   "nav_menu": {
    "height": "462px",
    "width": "608px"
   },
   "number_sections": true,
   "sideBar": true,
   "skip_h1_title": false,
   "title_cell": "Contenido",
   "title_sidebar": "Contents",
   "toc_cell": true,
   "toc_position": {},
   "toc_section_display": true,
   "toc_window_display": false
  }
 },
 "nbformat": 4,
 "nbformat_minor": 4
}
