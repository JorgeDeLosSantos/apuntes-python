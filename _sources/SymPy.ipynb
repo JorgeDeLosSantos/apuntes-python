{
 "cells": [
  {
   "cell_type": "markdown",
   "metadata": {},
   "source": [
    "# Sympy: un sistema de álgebra computacional\n",
    "\n",
    "SymPy es un sistema de álgebra computacional (CAS) escrito en Python puro, está desarrollado con un enfoque \n",
    "en la extensibilidad y facilidad de uso, tanto a través de aplicaciones interactivas como programáticas. Estas \n",
    "características le han permitido a SymPy convertirse en una librería de cómputo simbólico muy popular en \n",
    "el ecosistema científico de Python.\n",
    "\n",
    "En todo este capítulo se asumirá que se ha importado la librería SymPy, con las siguientes instrucciones:\n"
   ]
  },
  {
   "cell_type": "code",
   "execution_count": 1,
   "metadata": {},
   "outputs": [],
   "source": [
    "from sympy import *"
   ]
  },
  {
   "cell_type": "markdown",
   "metadata": {},
   "source": [
    "Adicionalmente dentro del entorno de Jupyter podemos ejecutar la siguiente instrucción que permite *renderizar* las expresiones resultantes."
   ]
  },
  {
   "cell_type": "code",
   "execution_count": 2,
   "metadata": {},
   "outputs": [],
   "source": [
    "init_printing()"
   ]
  },
  {
   "cell_type": "markdown",
   "metadata": {},
   "source": [
    "## Variables simbólicas\n",
    "\n",
    "Las variables simbólicas son el *alma* de SymPy, todas las operaciones de álgebra simbólica se basan en estas. \n",
    "A una variable simbólica se le asigna un símbolo que la representa mediante la función `symbols`:"
   ]
  },
  {
   "cell_type": "code",
   "execution_count": 4,
   "metadata": {},
   "outputs": [
    {
     "name": "stdout",
     "output_type": "stream",
     "text": [
      "<class 'sympy.core.symbol.Symbol'>\n"
     ]
    }
   ],
   "source": [
    "x = symbols(\"x\")\n",
    "print(type(x))"
   ]
  },
  {
   "cell_type": "markdown",
   "metadata": {},
   "source": [
    "Con la función `symbols` se define una nueva variable simbólica que se guarda en `x`, se verifica \n",
    "que se crea un objeto de la clase `Symbol`. Con la variable `x` ya definida se puede comenzar \n",
    "a formar expresiones algebraicas y manipular matemáticamente."
   ]
  },
  {
   "cell_type": "code",
   "execution_count": 5,
   "metadata": {},
   "outputs": [
    {
     "data": {
      "image/png": "[encoded data removed]",
      "text/latex": [
       "$$x + 2$$"
      ],
      "text/plain": [
       "x + 2"
      ]
     },
     "execution_count": 5,
     "metadata": {},
     "output_type": "execute_result"
    }
   ],
   "source": [
    "x + 2"
   ]
  },
  {
   "cell_type": "code",
   "execution_count": 6,
   "metadata": {},
   "outputs": [
    {
     "data": {
      "image/png": "[encoded data removed]",
      "text/latex": [
       "$$x^{2} - 2 x - 10$$"
      ],
      "text/plain": [
       " 2           \n",
       "x  - 2⋅x - 10"
      ]
     },
     "execution_count": 6,
     "metadata": {},
     "output_type": "execute_result"
    }
   ],
   "source": [
    "x**2 - 2*x - 10"
   ]
  },
  {
   "cell_type": "code",
   "execution_count": 7,
   "metadata": {},
   "outputs": [
    {
     "data": {
      "image/png": "[encoded data removed]",
      "text/latex": [
       "$$\\sqrt{x} - \\sin{\\left (x \\right )}$$"
      ],
      "text/plain": [
       "√x - sin(x)"
      ]
     },
     "execution_count": 7,
     "metadata": {},
     "output_type": "execute_result"
    }
   ],
   "source": [
    "sqrt(x) - sin(x)"
   ]
  },
  {
   "cell_type": "markdown",
   "metadata": {},
   "source": [
    " Puede definir múltiples variables separando por comas cada representación simbólica:"
   ]
  },
  {
   "cell_type": "code",
   "execution_count": 8,
   "metadata": {},
   "outputs": [
    {
     "data": {
      "image/png": "[encoded data removed]",
      "text/latex": [
       "$$p^{q} + \\frac{r}{q}$$"
      ],
      "text/plain": [
       " q   r\n",
       "p  + ─\n",
       "     q"
      ]
     },
     "execution_count": 8,
     "metadata": {},
     "output_type": "execute_result"
    }
   ],
   "source": [
    "p,q,r = symbols(\"p,q,r\")\n",
    "p**q + r/q"
   ]
  },
  {
   "cell_type": "markdown",
   "metadata": {},
   "source": [
    "Además de la forma anterior, también es posible tener variables simbólicas disponibles si se importan \n",
    "del módulo `abc` de SymPy:"
   ]
  },
  {
   "cell_type": "code",
   "execution_count": 9,
   "metadata": {},
   "outputs": [],
   "source": [
    "from sympy.abc import a,b,c,d"
   ]
  },
  {
   "cell_type": "code",
   "execution_count": 10,
   "metadata": {},
   "outputs": [
    {
     "data": {
      "image/png": "[encoded data removed]",
      "text/latex": [
       "$$\\left(a + b\\right) \\left(c + d\\right)$$"
      ],
      "text/plain": [
       "(a + b)⋅(c + d)"
      ]
     },
     "execution_count": 10,
     "metadata": {},
     "output_type": "execute_result"
    }
   ],
   "source": [
    "(a + b)*(c + d)"
   ]
  },
  {
   "cell_type": "markdown",
   "metadata": {},
   "source": [
    "## Manipulación algebraica\n",
    "\n",
    "SymPy es una poderosa herramienta de manipulación y simplificación algebraica, en lo subsiguiente se revisarán \n",
    "algunos casos elementales y se describirá el uso de las herramientas (funciones) que proporciona.\n",
    "\n",
    "En primera instancia se definen algunas variables simbólicas a utilizar:"
   ]
  },
  {
   "cell_type": "code",
   "execution_count": 11,
   "metadata": {},
   "outputs": [],
   "source": [
    "x,y,z = symbols(\"x,y,z\")\n",
    "a,b,c,d,k,m,n = symbols(\"a,b,c,d,k,m,n\")"
   ]
  },
  {
   "cell_type": "markdown",
   "metadata": {},
   "source": [
    "Para las expresiones algebraicas formadas en SymPy por default se *evalúan* y simplifican los términos semejantes. \n",
    "Vea los siguientes casos:"
   ]
  },
  {
   "cell_type": "code",
   "execution_count": 12,
   "metadata": {},
   "outputs": [
    {
     "data": {
      "image/png": "[encoded data removed]",
      "text/latex": [
       "$$5 x^{3} - 9 x^{2} - 5 x - 10$$"
      ],
      "text/plain": [
       "   3      2           \n",
       "5⋅x  - 9⋅x  - 5⋅x - 10"
      ]
     },
     "execution_count": 12,
     "metadata": {},
     "output_type": "execute_result"
    }
   ],
   "source": [
    "x**2 + 5*x**3 - 10*x**2 + 5*x - 10*(x + 1)"
   ]
  },
  {
   "cell_type": "code",
   "execution_count": 13,
   "metadata": {},
   "outputs": [
    {
     "data": {
      "image/png": "[encoded data removed]",
      "text/latex": [
       "$$- 6 a b + c d + \\frac{x}{y}$$"
      ],
      "text/plain": [
       "               x\n",
       "-6⋅a⋅b + c⋅d + ─\n",
       "               y"
      ]
     },
     "execution_count": 13,
     "metadata": {},
     "output_type": "execute_result"
    }
   ],
   "source": [
    "a*b + c*d + x/y - 7*a*b"
   ]
  },
  {
   "cell_type": "markdown",
   "metadata": {},
   "source": [
    "Naturalmente para simplificaciones y operaciones un poco menos obvias, habrá que especificarle lo que se requiere.\n",
    "\n",
    "Una de las operaciones elementales de simplificación en álgebra es la factorización, SymPy dispone de la \n",
    "función `factor`, la cual toma una expresión algebraica y la factoriza conforme sea posible. \n",
    "Por ejemplo, suponiendo que se tiene la expresión $ab + ac$, es sencillo identificar que se puede  \n",
    "factorizar como $a(b+c)$, SymPy hace lo mismo sin sobresalto alguno."
   ]
  },
  {
   "cell_type": "code",
   "execution_count": 14,
   "metadata": {},
   "outputs": [
    {
     "data": {
      "image/png": "[encoded data removed]",
      "text/latex": [
       "$$a \\left(b + c\\right)$$"
      ],
      "text/plain": [
       "a⋅(b + c)"
      ]
     },
     "execution_count": 14,
     "metadata": {},
     "output_type": "execute_result"
    }
   ],
   "source": [
    "factor(a*b + a*c)"
   ]
  },
  {
   "cell_type": "markdown",
   "metadata": {},
   "source": [
    "De igual forma se sabe que una expresión de la forma $ ac + ad + bc + bd $ se puede factorizar como \n",
    "$ (a + b) (d + c) $."
   ]
  },
  {
   "cell_type": "code",
   "execution_count": 15,
   "metadata": {},
   "outputs": [
    {
     "data": {
      "image/png": "[encoded data removed]",
      "text/latex": [
       "$$\\left(a + b\\right) \\left(c + d\\right)$$"
      ],
      "text/plain": [
       "(a + b)⋅(c + d)"
      ]
     },
     "execution_count": 15,
     "metadata": {},
     "output_type": "execute_result"
    }
   ],
   "source": [
    "factor( a*c + a*d + b*c + b*d )"
   ]
  },
  {
   "cell_type": "markdown",
   "metadata": {},
   "source": [
    "Así, para un binomio al cuadrado se sabe que, $ (a+b)(a+b) $ es la factorización de una expresión del tipo\n",
    "$ a^2 + 2ab + b^2 $.\n"
   ]
  },
  {
   "cell_type": "code",
   "execution_count": 16,
   "metadata": {},
   "outputs": [
    {
     "data": {
      "image/png": "[encoded data removed]",
      "text/latex": [
       "$$\\left(a + b\\right)^{2}$$"
      ],
      "text/plain": [
       "       2\n",
       "(a + b) "
      ]
     },
     "execution_count": 16,
     "metadata": {},
     "output_type": "execute_result"
    }
   ],
   "source": [
    "factor(a**2 + 2*a*b + b**2)"
   ]
  },
  {
   "cell_type": "markdown",
   "metadata": {},
   "source": [
    "¿Se puede hacer el proceso *inverso*, es decir, dados dos factores obtener su expresión *expandida*? \n",
    "Por supuesto, para ello se hace uso de la función `expand`. \n"
   ]
  },
  {
   "cell_type": "code",
   "execution_count": 17,
   "metadata": {},
   "outputs": [
    {
     "data": {
      "image/png": "[encoded data removed]",
      "text/latex": [
       "$$x^{2} - 10 x + 21$$"
      ],
      "text/plain": [
       " 2            \n",
       "x  - 10⋅x + 21"
      ]
     },
     "execution_count": 17,
     "metadata": {},
     "output_type": "execute_result"
    }
   ],
   "source": [
    "expand( (x-7)*(x-3) )"
   ]
  },
  {
   "cell_type": "markdown",
   "metadata": {},
   "source": [
    "SymPy puede manejar cualquier cantidad de factores y devolver la expresión que resulta de realizar la multiplicación \n",
    "algebraica, sin estar limitada siquiera por la cantidad de variables simbólicas."
   ]
  },
  {
   "cell_type": "code",
   "execution_count": 18,
   "metadata": {},
   "outputs": [
    {
     "data": {
      "image/png": "[encoded data removed]",
      "text/latex": [
       "$$x^{2} - y^{2}$$"
      ],
      "text/plain": [
       " 2    2\n",
       "x  - y "
      ]
     },
     "execution_count": 18,
     "metadata": {},
     "output_type": "execute_result"
    }
   ],
   "source": [
    "expand( (x + y)*(x - y) )"
   ]
  },
  {
   "cell_type": "code",
   "execution_count": 19,
   "metadata": {},
   "outputs": [
    {
     "data": {
      "image/png": "[encoded data removed]",
      "text/latex": [
       "$$x^{2} + 2 x y + y^{2}$$"
      ],
      "text/plain": [
       " 2            2\n",
       "x  + 2⋅x⋅y + y "
      ]
     },
     "execution_count": 19,
     "metadata": {},
     "output_type": "execute_result"
    }
   ],
   "source": [
    "expand( (x + y)*(x+y) )"
   ]
  },
  {
   "cell_type": "code",
   "execution_count": 20,
   "metadata": {},
   "outputs": [
    {
     "data": {
      "image/png": "[encoded data removed]",
      "text/latex": [
       "$$x^{2} + 2 x y + y^{2}$$"
      ],
      "text/plain": [
       " 2            2\n",
       "x  + 2⋅x⋅y + y "
      ]
     },
     "execution_count": 20,
     "metadata": {},
     "output_type": "execute_result"
    }
   ],
   "source": [
    "expand( (x + y)**2 )"
   ]
  },
  {
   "cell_type": "code",
   "execution_count": 21,
   "metadata": {},
   "outputs": [
    {
     "data": {
      "image/png": "[encoded data removed]",
      "text/latex": [
       "$$x^{3} + 3 x^{2} y + 3 x y^{2} + y^{3}$$"
      ],
      "text/plain": [
       " 3      2          2    3\n",
       "x  + 3⋅x ⋅y + 3⋅x⋅y  + y "
      ]
     },
     "execution_count": 21,
     "metadata": {},
     "output_type": "execute_result"
    }
   ],
   "source": [
    "expand( (x + y)**3 )"
   ]
  },
  {
   "cell_type": "code",
   "execution_count": 22,
   "metadata": {},
   "outputs": [
    {
     "data": {
      "image/png": "[encoded data removed]",
      "text/latex": [
       "$$a m^{2} + 2 a m n + a n^{2}$$"
      ],
      "text/plain": [
       "   2                2\n",
       "a⋅m  + 2⋅a⋅m⋅n + a⋅n "
      ]
     },
     "execution_count": 22,
     "metadata": {},
     "output_type": "execute_result"
    }
   ],
   "source": [
    "expand( a*(m + n)**2 )"
   ]
  },
  {
   "cell_type": "markdown",
   "metadata": {},
   "source": [
    "De manera general, si requiere simplificar una expresión algebraica SymPy dispone de una función más o menos universal que funcionará en la mayoría de los casos: `simplify`. Por ejemplo, suponiendo que \n",
    "se tiene la siguiente expresión algebraica racional y se requiere reducir lo más posible:\n",
    "\n",
    "$$ \\frac{x^2 - 3x}{x^2 + 3x}$$\n",
    "\n",
    "Se puede notar que tanto en el numerador como en el denominador se puede factorizar $x$, lo cual conduce a:\n",
    "\n",
    "$$ \\frac{x(x - 3)}{x(x + 3)} = \\frac{x-3}{x+3} $$\n",
    "\n",
    "Con SymPy:"
   ]
  },
  {
   "cell_type": "code",
   "execution_count": 25,
   "metadata": {},
   "outputs": [
    {
     "data": {
      "image/png": "[encoded data removed]",
      "text/latex": [
       "$$\\frac{x - 3}{x + 3}$$"
      ],
      "text/plain": [
       "x - 3\n",
       "─────\n",
       "x + 3"
      ]
     },
     "execution_count": 25,
     "metadata": {},
     "output_type": "execute_result"
    }
   ],
   "source": [
    "simplify( (x**2 - 3*x)/(x**2 + 3*x) )"
   ]
  },
  {
   "cell_type": "markdown",
   "metadata": {},
   "source": [
    "Lo mismo para una expresión que involucre funciones trigonométricas, por ejemplo, cualquiera que haya cursado matemáticas \n",
    "del nivel secundario, al menos, sabe que $\\sin^2 x + \\cos^2 x = 1 $, y también *lo sabe* SymPy:"
   ]
  },
  {
   "cell_type": "code",
   "execution_count": 26,
   "metadata": {},
   "outputs": [
    {
     "data": {
      "image/png": "[encoded data removed]",
      "text/latex": [
       "$$1$$"
      ],
      "text/plain": [
       "1"
      ]
     },
     "execution_count": 26,
     "metadata": {},
     "output_type": "execute_result"
    }
   ],
   "source": [
    "simplify( sin(x)**2 + cos(x)**2 )"
   ]
  },
  {
   "cell_type": "markdown",
   "metadata": {},
   "source": [
    "Pero también *sabe* que $ \\cos x \\cos y - \\sin x \\sin y = \\cos(x+y) $."
   ]
  },
  {
   "cell_type": "code",
   "execution_count": 23,
   "metadata": {},
   "outputs": [
    {
     "data": {
      "image/png": "[encoded data removed]",
      "text/latex": [
       "$$\\cos{\\left (x + y \\right )}$$"
      ],
      "text/plain": [
       "cos(x + y)"
      ]
     },
     "execution_count": 23,
     "metadata": {},
     "output_type": "execute_result"
    }
   ],
   "source": [
    "simplify( cos(x)*cos(y) - sin(x)*sin(y) )"
   ]
  },
  {
   "cell_type": "markdown",
   "metadata": {},
   "source": [
    "O bien:"
   ]
  },
  {
   "cell_type": "code",
   "execution_count": 25,
   "metadata": {},
   "outputs": [
    {
     "data": {
      "image/png": "[encoded data removed]",
      "text/latex": [
       "$$\\tan^{2}{\\left (x \\right )}$$"
      ],
      "text/plain": [
       "   2   \n",
       "tan (x)"
      ]
     },
     "execution_count": 25,
     "metadata": {},
     "output_type": "execute_result"
    }
   ],
   "source": [
    "simplify( (1+tan(x)**2)/(1+cot(x)**2) )"
   ]
  },
  {
   "cell_type": "markdown",
   "metadata": {},
   "source": [
    "Habitualmente para la manipulación de expresiones que contienen funciones trigonométricas se suele utilizar \n",
    "la función `trigsimp` que en muchos casos lo que devuelva coincidirá con `simplify`. \n",
    "Sin embargo, si en lugar de reducir una expresión trigonométrica se requiere expandirla, como \n",
    "en el caso del coseno o seno de la suma de dos ángulos, probablemente por intuición se utilizaría `expand`, \n",
    "pero aquí no funciona como puede verificar."
   ]
  },
  {
   "cell_type": "code",
   "execution_count": 26,
   "metadata": {},
   "outputs": [
    {
     "data": {
      "image/png": "[encoded data removed]",
      "text/latex": [
       "$$\\sin{\\left (x + y \\right )}$$"
      ],
      "text/plain": [
       "sin(x + y)"
      ]
     },
     "execution_count": 26,
     "metadata": {},
     "output_type": "execute_result"
    }
   ],
   "source": [
    "expand( sin(x + y) )"
   ]
  },
  {
   "cell_type": "markdown",
   "metadata": {},
   "source": [
    "En este caso puede utilizar la función `expand_trig`, la cual maneja de mejor manera las manipulaciones trigonométricas:"
   ]
  },
  {
   "cell_type": "code",
   "execution_count": 28,
   "metadata": {},
   "outputs": [
    {
     "data": {
      "image/png": "[encoded data removed]",
      "text/latex": [
       "$$\\sin{\\left (x \\right )} \\cos{\\left (y \\right )} + \\sin{\\left (y \\right )} \\cos{\\left (x \\right )}$$"
      ],
      "text/plain": [
       "sin(x)⋅cos(y) + sin(y)⋅cos(x)"
      ]
     },
     "execution_count": 28,
     "metadata": {},
     "output_type": "execute_result"
    }
   ],
   "source": [
    "expand_trig( sin(x+y) )"
   ]
  },
  {
   "cell_type": "markdown",
   "metadata": {},
   "source": [
    "## Resolviendo ecuaciones e inecuaciones\n",
    "\n",
    "SymPy dispone de la función `solve`, la cual resuelve desde ecuaciones polinomiales, sistemas de ecuaciones lineales, \n",
    "inecuaciones, hasta sistemas de ecuaciones no lineales. La sintaxis de `solve` es polimórfica y en general depende \n",
    "de lo que se requiera resolver, tendiendo siempre a que sea posible especificar el mínimo número de parámetros.\n",
    "\n",
    "En las siguientes subsecciones se describen algunos casos, se asumirá en lo subsiguiente que además de importar SymPy \n",
    "se definieron las siguientes variables simbólicas:"
   ]
  },
  {
   "cell_type": "code",
   "execution_count": 29,
   "metadata": {},
   "outputs": [],
   "source": [
    "x,y,z = symbols(\"x,y,z\")\n",
    "a,b,c = symbols(\"a,b,c\")"
   ]
  },
  {
   "cell_type": "markdown",
   "metadata": {},
   "source": [
    "### Ecuaciones polinómicas"
   ]
  },
  {
   "cell_type": "markdown",
   "metadata": {},
   "source": [
    "La sintaxis más elemental de `solve` es pasando un sólo argumento, el cual se espera sea una expresión algebraica \n",
    "y se considera que esta estará igualada a cero. Por ejemplo para resolver la ecuación lineal $ x - 3 = 0 $:"
   ]
  },
  {
   "cell_type": "code",
   "execution_count": 30,
   "metadata": {},
   "outputs": [
    {
     "data": {
      "image/png": "[encoded data removed]",
      "text/latex": [
       "$$\\left [ 3\\right ]$$"
      ],
      "text/plain": [
       "[3]"
      ]
     },
     "execution_count": 30,
     "metadata": {},
     "output_type": "execute_result"
    }
   ],
   "source": [
    "solve( x - 3 )"
   ]
  },
  {
   "cell_type": "markdown",
   "metadata": {},
   "source": [
    "Para una ecuación cuadrática $ x^2 + 2x + 2 = 0 $: "
   ]
  },
  {
   "cell_type": "code",
   "execution_count": 31,
   "metadata": {},
   "outputs": [
    {
     "data": {
      "image/png": "[encoded data removed]",
      "text/latex": [
       "$$\\left [ -1 - i, \\quad -1 + i\\right ]$$"
      ],
      "text/plain": [
       "[-1 - ⅈ, -1 + ⅈ]"
      ]
     },
     "execution_count": 31,
     "metadata": {},
     "output_type": "execute_result"
    }
   ],
   "source": [
    "solve(x**2 + 2*x + 2)"
   ]
  },
  {
   "cell_type": "markdown",
   "metadata": {},
   "source": [
    "En este caso la ecuación tiene soluciones complejas, la unidad imaginaria en SymPy se especifica mediante \n",
    "el símbolo `I`.\n",
    "\n",
    "Si se quisiera resolver la ecuación cuadrática en su forma general, por intuición y lo que sabemos hasta ahora, haríamos:"
   ]
  },
  {
   "cell_type": "code",
   "execution_count": 32,
   "metadata": {},
   "outputs": [
    {
     "data": {
      "image/png": "[encoded data removed]",
      "text/latex": [
       "$$\\left [ \\left \\{ a : - \\frac{1}{x^{2}} \\left(b x + c\\right)\\right \\}\\right ]$$"
      ],
      "text/plain": [
       "⎡⎧   -(b⋅x + c) ⎫⎤\n",
       "⎢⎪a: ───────────⎪⎥\n",
       "⎢⎨         2    ⎬⎥\n",
       "⎢⎪        x     ⎪⎥\n",
       "⎣⎩              ⎭⎦"
      ]
     },
     "execution_count": 32,
     "metadata": {},
     "output_type": "execute_result"
    }
   ],
   "source": [
    "solve(a*x**2 + b*x + c)"
   ]
  },
  {
   "cell_type": "markdown",
   "metadata": {},
   "source": [
    "Note que el problema está en que al haber más de una variable simbólica, SymPy no sabe con respecto a qué variable debe \n",
    "resolver y toma la primera en orden alfabético. Para especificar explícitamente respecto a qué variable resolver, \n",
    "se puede indicar mediante un segundo argumento:"
   ]
  },
  {
   "cell_type": "code",
   "execution_count": 39,
   "metadata": {},
   "outputs": [
    {
     "data": {
      "image/png": "[encoded data removed]",
      "text/latex": [
       "$$\\left [ \\frac{1}{2 a} \\left(- b + \\sqrt{- 4 a c + b^{2}}\\right), \\quad - \\frac{1}{2 a} \\left(b + \\sqrt{- 4 a c + b^{2}}\\right)\\right ]$$"
      ],
      "text/plain": [
       "⎡        _____________   ⎛       _____________⎞ ⎤\n",
       "⎢       ╱           2    ⎜      ╱           2 ⎟ ⎥\n",
       "⎢-b + ╲╱  -4⋅a⋅c + b    -⎝b + ╲╱  -4⋅a⋅c + b  ⎠ ⎥\n",
       "⎢─────────────────────, ────────────────────────⎥\n",
       "⎣         2⋅a                     2⋅a           ⎦"
      ]
     },
     "execution_count": 39,
     "metadata": {},
     "output_type": "execute_result"
    }
   ],
   "source": [
    "solve(a*x**2 + b*x + c, x)"
   ]
  },
  {
   "cell_type": "markdown",
   "metadata": {},
   "source": [
    "Puede verificar que devuelve, en efecto, la tan conocida fórmula general."
   ]
  },
  {
   "cell_type": "markdown",
   "metadata": {},
   "source": [
    "### Ecuaciones trigonométricas"
   ]
  },
  {
   "cell_type": "markdown",
   "metadata": {},
   "source": [
    "## Cálculo\n",
    "\n",
    "### Límites\n",
    "\n",
    "Para calcular límites matemáticos SymPy dispone de la función `limit`, la cual requiere al menos tres \n",
    "argumentos de entrada: la función, variable y valor al que tiende. Por ejemplo, si se quiere calcular \n",
    "el siguiente límite:\n",
    "\n",
    "$$ \\lim_{x \\to 0} \\frac{\\sin x}{x} $$\n",
    "\n",
    "Tendría que teclearse lo siguiente:"
   ]
  },
  {
   "cell_type": "code",
   "execution_count": 33,
   "metadata": {},
   "outputs": [
    {
     "data": {
      "image/png": "[encoded data removed]",
      "text/latex": [
       "$$1$$"
      ],
      "text/plain": [
       "1"
      ]
     },
     "execution_count": 33,
     "metadata": {},
     "output_type": "execute_result"
    }
   ],
   "source": [
    "limit(sin(x)/x, x, 0)"
   ]
  },
  {
   "cell_type": "markdown",
   "metadata": {},
   "source": [
    "Para calcular limites laterales debe pasarse un cuarto argumento, por ejemplo:"
   ]
  },
  {
   "cell_type": "code",
   "execution_count": 34,
   "metadata": {},
   "outputs": [
    {
     "data": {
      "image/png": "[encoded data removed]",
      "text/latex": [
       "$$-\\infty$$"
      ],
      "text/plain": [
       "-∞"
      ]
     },
     "execution_count": 34,
     "metadata": {},
     "output_type": "execute_result"
    }
   ],
   "source": [
    "limit(1/(x-5), x, 5, \"-\")"
   ]
  },
  {
   "cell_type": "code",
   "execution_count": 35,
   "metadata": {},
   "outputs": [
    {
     "data": {
      "image/png": "[encoded data removed]",
      "text/latex": [
       "$$\\infty$$"
      ],
      "text/plain": [
       "∞"
      ]
     },
     "execution_count": 35,
     "metadata": {},
     "output_type": "execute_result"
    }
   ],
   "source": [
    "limit(1/(x-5), x, 5, \"+\")"
   ]
  },
  {
   "cell_type": "markdown",
   "metadata": {},
   "source": [
    "El símbolo `+` denota el cálculo de un límite lateral por la derecha y el símbolo `-` un límite lateral por la izquierda."
   ]
  },
  {
   "cell_type": "markdown",
   "metadata": {},
   "source": [
    "### Derivadas\n",
    "\n",
    "Las derivadas en Python se calculan utilizando la función `diff`, misma que en su forma más simple espera \n",
    "al menos dos argumentos: una expresión algebraica y una variable respecto a la cual derivar. Por ejemplo:\n"
   ]
  },
  {
   "cell_type": "code",
   "execution_count": 36,
   "metadata": {},
   "outputs": [
    {
     "data": {
      "image/png": "[encoded data removed]",
      "text/latex": [
       "$$- e^{x} \\sin{\\left (x \\right )} + e^{x} \\cos{\\left (x \\right )}$$"
      ],
      "text/plain": [
       "   x           x       \n",
       "- ℯ ⋅sin(x) + ℯ ⋅cos(x)"
      ]
     },
     "execution_count": 36,
     "metadata": {},
     "output_type": "execute_result"
    }
   ],
   "source": [
    "diff(exp(x)*cos(x), x)"
   ]
  },
  {
   "cell_type": "markdown",
   "metadata": {},
   "source": [
    "Es posible también especificar una derivada de orden superior mediante un tercer argumento:"
   ]
  },
  {
   "cell_type": "code",
   "execution_count": 37,
   "metadata": {},
   "outputs": [
    {
     "data": {
      "image/png": "[encoded data removed]",
      "text/latex": [
       "$$10$$"
      ],
      "text/plain": [
       "10"
      ]
     },
     "execution_count": 37,
     "metadata": {},
     "output_type": "execute_result"
    }
   ],
   "source": [
    "diff(5*x**2 + 3*x - 10, x, 2)"
   ]
  },
  {
   "cell_type": "markdown",
   "metadata": {},
   "source": [
    "La instrucción anterior calcula la segunda derivada de la función $ f(x) = 5x^2 + 3x - 10 $. "
   ]
  },
  {
   "cell_type": "markdown",
   "metadata": {},
   "source": [
    "### Integrales\n",
    "\n",
    "Para calcular integrales vamos a utilizar la función `integrate`, la cual acepta al menos dos \n",
    "argumentos: la función a integrar y la expresión respecto a la cual se integra, por ejemplo:\n"
   ]
  },
  {
   "cell_type": "code",
   "execution_count": 38,
   "metadata": {},
   "outputs": [
    {
     "data": {
      "image/png": "[encoded data removed]",
      "text/latex": [
       "$$\\frac{x^{3}}{3} + \\frac{3 x^{2}}{2} - 7 x$$"
      ],
      "text/plain": [
       " 3      2      \n",
       "x    3⋅x       \n",
       "── + ──── - 7⋅x\n",
       "3     2        "
      ]
     },
     "execution_count": 38,
     "metadata": {},
     "output_type": "execute_result"
    }
   ],
   "source": [
    "integrate(x**2 + 3*x - 7, x)"
   ]
  },
  {
   "cell_type": "markdown",
   "metadata": {},
   "source": [
    "Esa instrucción calcula la integral:\n",
    "\n",
    "$$ \\int \\left( x^2 + 3x - 7 \\, \\right) \\,\\, dx = \\frac{x^3}{3} + \\frac{3x^2}{2} - 7x + C $$\n",
    "\n",
    "Note que la expresión algebraica devuelta por Python no contiene la constante de integración, por default SymPy \n",
    "no la considera. Sí en algún caso específico necesita referir a la constante de integración puede adicionarla \n",
    "manualmente.\n",
    "\n",
    "Las integrales definidas se pueden calcular si el segundo argumento se hace una tupla de la forma \n",
    "`(variable, a, b)`, donde `a` y `b` indican el límite inferior y superior a \n",
    "evaluar en la integral:\n",
    "\n",
    "Por ejemplo, para evaluar:\n",
    "\n",
    "$$ \\int_0^{\\pi} \\sin x \\, dx $$"
   ]
  },
  {
   "cell_type": "code",
   "execution_count": 41,
   "metadata": {},
   "outputs": [
    {
     "data": {
      "image/png": "[encoded data removed]",
      "text/latex": [
       "$$2$$"
      ],
      "text/plain": [
       "2"
      ]
     },
     "execution_count": 41,
     "metadata": {},
     "output_type": "execute_result"
    }
   ],
   "source": [
    "integrate(sin(x), (x, 0, pi))"
   ]
  },
  {
   "cell_type": "markdown",
   "metadata": {},
   "source": [
    "O para:\n",
    "\n",
    "$$ \\int_{-5}^{5} z^2 \\, dz $$"
   ]
  },
  {
   "cell_type": "code",
   "execution_count": 43,
   "metadata": {},
   "outputs": [
    {
     "data": {
      "image/png": "[encoded data removed]",
      "text/latex": [
       "$$\\frac{250}{3}$$"
      ],
      "text/plain": [
       "250/3"
      ]
     },
     "execution_count": 43,
     "metadata": {},
     "output_type": "execute_result"
    }
   ],
   "source": [
    "integrate(z**2, (z,-5,5))"
   ]
  },
  {
   "cell_type": "markdown",
   "metadata": {},
   "source": [
    "## Vectores"
   ]
  },
  {
   "cell_type": "markdown",
   "metadata": {},
   "source": [
    "Un vector denota una cantidad física que tiene magnitud y orientación en un determinado sistema de referencia. \n",
    "En SymPy los vectores se pueden definir mediante la clase `Matrix` del módulo `matrices`, de tal \n",
    "manera que en primera instancia haría falta importar dicho módulo, para esto hacemos:"
   ]
  },
  {
   "cell_type": "code",
   "execution_count": 44,
   "metadata": {},
   "outputs": [],
   "source": [
    "from sympy.matrices import Matrix"
   ]
  },
  {
   "cell_type": "markdown",
   "metadata": {},
   "source": [
    "Ahora vamos a definir dos vectores $\\vec{u}$ y $\\vec{v}$:\n",
    "\n",
    "$$ \\vec{u} = \\begin{bmatrix} 2 \\\\ 1 \\\\ -5 \\end{bmatrix} \\qquad ; \\qquad \n",
    "\\vec{v} = \\begin{bmatrix} 4 \\\\ -1 \\\\ 3 \\end{bmatrix}\n",
    "$$\n"
   ]
  },
  {
   "cell_type": "code",
   "execution_count": 46,
   "metadata": {},
   "outputs": [],
   "source": [
    "u = Matrix([2,1,-5])\n",
    "v = Matrix([4,-1,3])"
   ]
  },
  {
   "cell_type": "markdown",
   "metadata": {},
   "source": [
    "Una suma y resta vectorial se pueden ejecutar sin muchas complicaciones, mediante los operadores \n",
    "aritméticos ya conocidos."
   ]
  },
  {
   "cell_type": "code",
   "execution_count": 47,
   "metadata": {},
   "outputs": [
    {
     "data": {
      "image/png": "[encoded data removed]",
      "text/latex": [
       "$$\\left[\\begin{matrix}6\\\\0\\\\-2\\end{matrix}\\right]$$"
      ],
      "text/plain": [
       "⎡6 ⎤\n",
       "⎢  ⎥\n",
       "⎢0 ⎥\n",
       "⎢  ⎥\n",
       "⎣-2⎦"
      ]
     },
     "execution_count": 47,
     "metadata": {},
     "output_type": "execute_result"
    }
   ],
   "source": [
    "u + v"
   ]
  },
  {
   "cell_type": "code",
   "execution_count": 48,
   "metadata": {},
   "outputs": [
    {
     "data": {
      "image/png": "[encoded data removed]",
      "text/latex": [
       "$$\\left[\\begin{matrix}2\\\\-2\\\\8\\end{matrix}\\right]$$"
      ],
      "text/plain": [
       "⎡2 ⎤\n",
       "⎢  ⎥\n",
       "⎢-2⎥\n",
       "⎢  ⎥\n",
       "⎣8 ⎦"
      ]
     },
     "execution_count": 48,
     "metadata": {},
     "output_type": "execute_result"
    }
   ],
   "source": [
    "v - u"
   ]
  },
  {
   "cell_type": "markdown",
   "metadata": {},
   "source": [
    "La magnitud de un vector se puede calcular utilizando el método `norm`."
   ]
  },
  {
   "cell_type": "code",
   "execution_count": 49,
   "metadata": {},
   "outputs": [
    {
     "data": {
      "image/png": "[encoded data removed]",
      "text/latex": [
       "$$\\sqrt{30}$$"
      ],
      "text/plain": [
       "√30"
      ]
     },
     "execution_count": 49,
     "metadata": {},
     "output_type": "execute_result"
    }
   ],
   "source": [
    "u.norm()"
   ]
  },
  {
   "cell_type": "code",
   "execution_count": 50,
   "metadata": {},
   "outputs": [
    {
     "data": {
      "image/png": "[encoded data removed]",
      "text/latex": [
       "$$\\sqrt{26}$$"
      ],
      "text/plain": [
       "√26"
      ]
     },
     "execution_count": 50,
     "metadata": {},
     "output_type": "execute_result"
    }
   ],
   "source": [
    "v.norm()"
   ]
  },
  {
   "cell_type": "markdown",
   "metadata": {},
   "source": [
    "Recuerde que si requiere ver las expresiones resultantes como fracciones decimales debe usar `evalf`. \n",
    "\n",
    "El producto escalar de dos vectores puede calcularlo utilizando el método `dot`, por \n",
    "ejemplo $ \\vec{u} \\cdot \\vec{v} $ lo puede especificar como:"
   ]
  },
  {
   "cell_type": "code",
   "execution_count": 51,
   "metadata": {},
   "outputs": [
    {
     "data": {
      "image/png": "[encoded data removed]",
      "text/latex": [
       "$$-8$$"
      ],
      "text/plain": [
       "-8"
      ]
     },
     "execution_count": 51,
     "metadata": {},
     "output_type": "execute_result"
    }
   ],
   "source": [
    "u.dot(v)"
   ]
  },
  {
   "cell_type": "markdown",
   "metadata": {},
   "source": [
    "Para calcular el producto vectorial utilice el método `cross`, por ejemplo \n",
    "$ \\vec{u} \\times \\vec{v} $:"
   ]
  },
  {
   "cell_type": "code",
   "execution_count": 52,
   "metadata": {},
   "outputs": [
    {
     "data": {
      "image/png": "[encoded data removed]",
      "text/latex": [
       "$$\\left[\\begin{matrix}-2\\\\-26\\\\-6\\end{matrix}\\right]$$"
      ],
      "text/plain": [
       "⎡-2 ⎤\n",
       "⎢   ⎥\n",
       "⎢-26⎥\n",
       "⎢   ⎥\n",
       "⎣-6 ⎦"
      ]
     },
     "execution_count": 52,
     "metadata": {},
     "output_type": "execute_result"
    }
   ],
   "source": [
    "u.cross(v)"
   ]
  },
  {
   "cell_type": "markdown",
   "metadata": {},
   "source": [
    "Recuerde que el producto vectorial no es conmutativo, por tanto, $\\vec{v} \\times \\vec{u} $ resultará en un vector \n",
    "diferente al obtenido anteriormente, como puede verificar enseguida:"
   ]
  },
  {
   "cell_type": "code",
   "execution_count": 53,
   "metadata": {},
   "outputs": [
    {
     "data": {
      "image/png": "[encoded data removed]",
      "text/latex": [
       "$$\\left[\\begin{matrix}2\\\\26\\\\6\\end{matrix}\\right]$$"
      ],
      "text/plain": [
       "⎡2 ⎤\n",
       "⎢  ⎥\n",
       "⎢26⎥\n",
       "⎢  ⎥\n",
       "⎣6 ⎦"
      ]
     },
     "execution_count": 53,
     "metadata": {},
     "output_type": "execute_result"
    }
   ],
   "source": [
    "v.cross(u)"
   ]
  },
  {
   "cell_type": "markdown",
   "metadata": {},
   "source": [
    "## Matrices\n",
    "\n",
    "Las matrices son arreglos rectangulares de números o cantidades simbólicas. En SymPy, \n",
    "se definen utilizando la clase `Matrix`, pasándole como argumentos una lista de \n",
    "listas, donde cada sublista corresponde a una fila de la matriz.\n",
    "\n",
    "Por ejemplo, vamos a definir las matrices $A$, $B$ y $C$, dadas por:\n",
    "\n",
    "$$ A = \\begin{bmatrix}\n",
    "20 & 50 & 100 \\\\\n",
    "10 & 35 & 200 \\\\\n",
    "-30 & 20 & 80 \n",
    "\\end{bmatrix}\n",
    "\\qquad\n",
    "B = \\begin{bmatrix}\n",
    "12 & 26 & 45 \\\\\n",
    "3 & -15 & 18 \\\\\n",
    "54 & 20 & 0 \n",
    "\\end{bmatrix}\n",
    "\\qquad\n",
    "C = \\begin{bmatrix}\n",
    "5 & 9 \\\\\n",
    "2 & 3 \\\\\n",
    "-10 & 8\n",
    "\\end{bmatrix}\n",
    " $$\n",
    "\n",
    "Primero, importamos la clase `Matrix` del módulo `matrices`:"
   ]
  },
  {
   "cell_type": "code",
   "execution_count": 54,
   "metadata": {},
   "outputs": [],
   "source": [
    "from sympy.matrices import Matrix"
   ]
  },
  {
   "cell_type": "markdown",
   "metadata": {},
   "source": [
    "Luego escribiríamos:"
   ]
  },
  {
   "cell_type": "code",
   "execution_count": 55,
   "metadata": {},
   "outputs": [],
   "source": [
    "A = Matrix([[20,50,100], [10,35,200], [-30,20,80]])\n",
    "B = Matrix([[12,26,45],[3,-15,18],[54,20,0]])\n",
    "C = Matrix([[5,9], [2,3], [-10,8]])"
   ]
  },
  {
   "cell_type": "markdown",
   "metadata": {},
   "source": [
    "De manera muy sencilla podríamos realizar operaciones matriciales básicas, por \n",
    "ejemplo, una suma:"
   ]
  },
  {
   "cell_type": "code",
   "execution_count": 56,
   "metadata": {},
   "outputs": [
    {
     "data": {
      "image/png": "[encoded data removed]",
      "text/latex": [
       "$$\\left[\\begin{matrix}32 & 76 & 145\\\\13 & 20 & 218\\\\24 & 40 & 80\\end{matrix}\\right]$$"
      ],
      "text/plain": [
       "⎡32  76  145⎤\n",
       "⎢           ⎥\n",
       "⎢13  20  218⎥\n",
       "⎢           ⎥\n",
       "⎣24  40  80 ⎦"
      ]
     },
     "execution_count": 56,
     "metadata": {},
     "output_type": "execute_result"
    }
   ],
   "source": [
    "A + B"
   ]
  },
  {
   "cell_type": "markdown",
   "metadata": {},
   "source": [
    "Naturalmente, y como es esperable, SymPy *conoce* y aplica las reglas de álgebra de matrices, observe:"
   ]
  },
  {
   "cell_type": "code",
   "execution_count": 57,
   "metadata": {},
   "outputs": [
    {
     "ename": "ShapeError",
     "evalue": "Matrix size mismatch: (3, 3) + (3, 2)",
     "output_type": "error",
     "traceback": [
      "\u001b[1;31m---------------------------------------------------------------------------\u001b[0m",
      "\u001b[1;31mShapeError\u001b[0m                                Traceback (most recent call last)",
      "\u001b[1;32m<ipython-input-57-c3cb66996588>\u001b[0m in \u001b[0;36m<module>\u001b[1;34m()\u001b[0m\n\u001b[1;32m----> 1\u001b[1;33m \u001b[0mA\u001b[0m \u001b[1;33m+\u001b[0m \u001b[0mC\u001b[0m\u001b[1;33m\u001b[0m\u001b[0m\n\u001b[0m",
      "\u001b[1;32m~\\Anaconda3\\lib\\site-packages\\sympy\\core\\decorators.py\u001b[0m in \u001b[0;36mbinary_op_wrapper\u001b[1;34m(self, other)\u001b[0m\n\u001b[0;32m    130\u001b[0m                     \u001b[1;32melse\u001b[0m\u001b[1;33m:\u001b[0m\u001b[1;33m\u001b[0m\u001b[0m\n\u001b[0;32m    131\u001b[0m                         \u001b[1;32mreturn\u001b[0m \u001b[0mf\u001b[0m\u001b[1;33m(\u001b[0m\u001b[0mself\u001b[0m\u001b[1;33m)\u001b[0m\u001b[1;33m\u001b[0m\u001b[0m\n\u001b[1;32m--> 132\u001b[1;33m             \u001b[1;32mreturn\u001b[0m \u001b[0mfunc\u001b[0m\u001b[1;33m(\u001b[0m\u001b[0mself\u001b[0m\u001b[1;33m,\u001b[0m \u001b[0mother\u001b[0m\u001b[1;33m)\u001b[0m\u001b[1;33m\u001b[0m\u001b[0m\n\u001b[0m\u001b[0;32m    133\u001b[0m         \u001b[1;32mreturn\u001b[0m \u001b[0mbinary_op_wrapper\u001b[0m\u001b[1;33m\u001b[0m\u001b[0m\n\u001b[0;32m    134\u001b[0m     \u001b[1;32mreturn\u001b[0m \u001b[0mpriority_decorator\u001b[0m\u001b[1;33m\u001b[0m\u001b[0m\n",
      "\u001b[1;32m~\\Anaconda3\\lib\\site-packages\\sympy\\matrices\\common.py\u001b[0m in \u001b[0;36m__add__\u001b[1;34m(self, other)\u001b[0m\n\u001b[0;32m   1949\u001b[0m             \u001b[1;32mif\u001b[0m \u001b[0mself\u001b[0m\u001b[1;33m.\u001b[0m\u001b[0mshape\u001b[0m \u001b[1;33m!=\u001b[0m \u001b[0mother\u001b[0m\u001b[1;33m.\u001b[0m\u001b[0mshape\u001b[0m\u001b[1;33m:\u001b[0m\u001b[1;33m\u001b[0m\u001b[0m\n\u001b[0;32m   1950\u001b[0m                 raise ShapeError(\"Matrix size mismatch: %s + %s\" % (\n\u001b[1;32m-> 1951\u001b[1;33m                     self.shape, other.shape))\n\u001b[0m\u001b[0;32m   1952\u001b[0m \u001b[1;33m\u001b[0m\u001b[0m\n\u001b[0;32m   1953\u001b[0m         \u001b[1;31m# honest sympy matrices defer to their class's routine\u001b[0m\u001b[1;33m\u001b[0m\u001b[1;33m\u001b[0m\u001b[0m\n",
      "\u001b[1;31mShapeError\u001b[0m: Matrix size mismatch: (3, 3) + (3, 2)"
     ]
    }
   ],
   "source": [
    "A + C"
   ]
  },
  {
   "cell_type": "markdown",
   "metadata": {},
   "source": [
    "SymPy es muy explícito en ese tipo de situaciones y nos imprime un mensaje de error suficientemente descriptivo. \n",
    "De igual forma que es válido realizar el producto $AC$, pero no $CA$:"
   ]
  },
  {
   "cell_type": "code",
   "execution_count": 58,
   "metadata": {},
   "outputs": [
    {
     "data": {
      "image/png": "[encoded data removed]",
      "text/latex": [
       "$$\\left[\\begin{matrix}-800 & 1130\\\\-1880 & 1795\\\\-910 & 430\\end{matrix}\\right]$$"
      ],
      "text/plain": [
       "⎡-800   1130⎤\n",
       "⎢           ⎥\n",
       "⎢-1880  1795⎥\n",
       "⎢           ⎥\n",
       "⎣-910   430 ⎦"
      ]
     },
     "execution_count": 58,
     "metadata": {},
     "output_type": "execute_result"
    }
   ],
   "source": [
    "A*C"
   ]
  },
  {
   "cell_type": "code",
   "execution_count": 59,
   "metadata": {},
   "outputs": [
    {
     "ename": "ShapeError",
     "evalue": "Matrix size mismatch: (3, 2) * (3, 3).",
     "output_type": "error",
     "traceback": [
      "\u001b[1;31m---------------------------------------------------------------------------\u001b[0m",
      "\u001b[1;31mShapeError\u001b[0m                                Traceback (most recent call last)",
      "\u001b[1;32m<ipython-input-59-cbae4c009e52>\u001b[0m in \u001b[0;36m<module>\u001b[1;34m()\u001b[0m\n\u001b[1;32m----> 1\u001b[1;33m \u001b[0mC\u001b[0m\u001b[1;33m*\u001b[0m\u001b[0mA\u001b[0m\u001b[1;33m\u001b[0m\u001b[0m\n\u001b[0m",
      "\u001b[1;32m~\\Anaconda3\\lib\\site-packages\\sympy\\core\\decorators.py\u001b[0m in \u001b[0;36mbinary_op_wrapper\u001b[1;34m(self, other)\u001b[0m\n\u001b[0;32m    130\u001b[0m                     \u001b[1;32melse\u001b[0m\u001b[1;33m:\u001b[0m\u001b[1;33m\u001b[0m\u001b[0m\n\u001b[0;32m    131\u001b[0m                         \u001b[1;32mreturn\u001b[0m \u001b[0mf\u001b[0m\u001b[1;33m(\u001b[0m\u001b[0mself\u001b[0m\u001b[1;33m)\u001b[0m\u001b[1;33m\u001b[0m\u001b[0m\n\u001b[1;32m--> 132\u001b[1;33m             \u001b[1;32mreturn\u001b[0m \u001b[0mfunc\u001b[0m\u001b[1;33m(\u001b[0m\u001b[0mself\u001b[0m\u001b[1;33m,\u001b[0m \u001b[0mother\u001b[0m\u001b[1;33m)\u001b[0m\u001b[1;33m\u001b[0m\u001b[0m\n\u001b[0m\u001b[0;32m    133\u001b[0m         \u001b[1;32mreturn\u001b[0m \u001b[0mbinary_op_wrapper\u001b[0m\u001b[1;33m\u001b[0m\u001b[0m\n\u001b[0;32m    134\u001b[0m     \u001b[1;32mreturn\u001b[0m \u001b[0mpriority_decorator\u001b[0m\u001b[1;33m\u001b[0m\u001b[0m\n",
      "\u001b[1;32m~\\Anaconda3\\lib\\site-packages\\sympy\\matrices\\common.py\u001b[0m in \u001b[0;36m__mul__\u001b[1;34m(self, other)\u001b[0m\n\u001b[0;32m   2006\u001b[0m             \u001b[1;32mif\u001b[0m \u001b[0mself\u001b[0m\u001b[1;33m.\u001b[0m\u001b[0mshape\u001b[0m\u001b[1;33m[\u001b[0m\u001b[1;36m1\u001b[0m\u001b[1;33m]\u001b[0m \u001b[1;33m!=\u001b[0m \u001b[0mother\u001b[0m\u001b[1;33m.\u001b[0m\u001b[0mshape\u001b[0m\u001b[1;33m[\u001b[0m\u001b[1;36m0\u001b[0m\u001b[1;33m]\u001b[0m\u001b[1;33m:\u001b[0m\u001b[1;33m\u001b[0m\u001b[0m\n\u001b[0;32m   2007\u001b[0m                 raise ShapeError(\"Matrix size mismatch: %s * %s.\" % (\n\u001b[1;32m-> 2008\u001b[1;33m                     self.shape, other.shape))\n\u001b[0m\u001b[0;32m   2009\u001b[0m \u001b[1;33m\u001b[0m\u001b[0m\n\u001b[0;32m   2010\u001b[0m         \u001b[1;31m# honest sympy matrices defer to their class's routine\u001b[0m\u001b[1;33m\u001b[0m\u001b[1;33m\u001b[0m\u001b[0m\n",
      "\u001b[1;31mShapeError\u001b[0m: Matrix size mismatch: (3, 2) * (3, 3)."
     ]
    }
   ],
   "source": [
    "C*A"
   ]
  },
  {
   "cell_type": "markdown",
   "metadata": {},
   "source": [
    "El **determinante** de una matriz podemos calcularlo mediante la función `det`:"
   ]
  },
  {
   "cell_type": "code",
   "execution_count": 60,
   "metadata": {},
   "outputs": [
    {
     "data": {
      "image/png": "[encoded data removed]",
      "text/latex": [
       "$$60102$$"
      ],
      "text/plain": [
       "60102"
      ]
     },
     "execution_count": 60,
     "metadata": {},
     "output_type": "execute_result"
    }
   ],
   "source": [
    "det(B)"
   ]
  },
  {
   "cell_type": "markdown",
   "metadata": {},
   "source": [
    "O bien, mediante el propio método `det`:"
   ]
  },
  {
   "cell_type": "code",
   "execution_count": 61,
   "metadata": {},
   "outputs": [
    {
     "data": {
      "image/png": "[encoded data removed]",
      "text/latex": [
       "$$60102$$"
      ],
      "text/plain": [
       "60102"
      ]
     },
     "execution_count": 61,
     "metadata": {},
     "output_type": "execute_result"
    }
   ],
   "source": [
    "B.det()"
   ]
  },
  {
   "cell_type": "markdown",
   "metadata": {},
   "source": [
    "La **matriz inversa** podemos calcularla utilizando el método `inv`:"
   ]
  },
  {
   "cell_type": "code",
   "execution_count": 62,
   "metadata": {},
   "outputs": [
    {
     "data": {
      "image/png": "[encoded data removed]",
      "text/latex": [
       "$$\\left[\\begin{matrix}\\frac{6}{1195} & \\frac{2}{239} & - \\frac{13}{478}\\\\\\frac{34}{1195} & - \\frac{23}{1195} & \\frac{3}{239}\\\\- \\frac{5}{956} & \\frac{19}{2390} & - \\frac{1}{1195}\\end{matrix}\\right]$$"
      ],
      "text/plain": [
       "⎡                -13   ⎤\n",
       "⎢6/1195  2/239   ────  ⎥\n",
       "⎢                478   ⎥\n",
       "⎢                      ⎥\n",
       "⎢  34    -23           ⎥\n",
       "⎢ ────   ────    3/239 ⎥\n",
       "⎢ 1195   1195          ⎥\n",
       "⎢                      ⎥\n",
       "⎢         19           ⎥\n",
       "⎢-5/956  ────   -1/1195⎥\n",
       "⎣        2390          ⎦"
      ]
     },
     "execution_count": 62,
     "metadata": {},
     "output_type": "execute_result"
    }
   ],
   "source": [
    "A.inv()"
   ]
  },
  {
   "cell_type": "code",
   "execution_count": 63,
   "metadata": {},
   "outputs": [
    {
     "data": {
      "image/png": "[encoded data removed]",
      "text/latex": [
       "$$\\left[\\begin{matrix}1 & 0 & 0\\\\0 & 1 & 0\\\\0 & 0 & 1\\end{matrix}\\right]$$"
      ],
      "text/plain": [
       "⎡1  0  0⎤\n",
       "⎢       ⎥\n",
       "⎢0  1  0⎥\n",
       "⎢       ⎥\n",
       "⎣0  0  1⎦"
      ]
     },
     "execution_count": 63,
     "metadata": {},
     "output_type": "execute_result"
    }
   ],
   "source": [
    "A.inv()*A"
   ]
  },
  {
   "cell_type": "markdown",
   "metadata": {},
   "source": [
    "La **transpuesta** de una matriz se puede obtener accediendo al atributo `T`"
   ]
  },
  {
   "cell_type": "code",
   "execution_count": 64,
   "metadata": {},
   "outputs": [
    {
     "data": {
      "image/png": "[encoded data removed]",
      "text/latex": [
       "$$\\left[\\begin{matrix}5 & 2 & -10\\\\9 & 3 & 8\\end{matrix}\\right]$$"
      ],
      "text/plain": [
       "⎡5  2  -10⎤\n",
       "⎢         ⎥\n",
       "⎣9  3   8 ⎦"
      ]
     },
     "execution_count": 64,
     "metadata": {},
     "output_type": "execute_result"
    }
   ],
   "source": [
    "C.T"
   ]
  },
  {
   "cell_type": "markdown",
   "metadata": {},
   "source": [
    "## Ejercicios\n",
    "\n",
    "Utilice Python/SymPy para resolver los siguientes ejercicios:\n",
    "\n",
    "1. Resuelva las siguientes ecuaciones (para la variable $x$):\n",
    "  1. $ x + 3x = 10 $\n",
    "  1. $ 2x^2 - 10x + 5 = 0 $\n",
    "  1. $ \\frac{a}{x} + bx - 8 = 0 $\n",
    "  1. $ \\cos x + \\sin x = 10 $\n",
    "  1. $ kx - 10 = x^2 $\n",
    "\n",
    "1. Calcule las siguientes derivadas:\n",
    "  1. $ \\frac{d}{dx} \\left( \\cos x \\right) $\n",
    "  1. $ \\frac{d}{dt} \\left( at^2 - 2\\tan t - \\frac{10}{t} \\right) $\n",
    "  1. $ \\frac{d}{dz} \\left( z^5 - 10 e^{-z}  \\right) $\n",
    "\n",
    "1. Calcule las siguientes integrales indefinidas:\n",
    "  1. $ \\int \\cos x \\, dx $\n",
    "  1. $ \\int \\left( x^3 - 8x \\right)\\, dx $\n",
    "  1. $ \\int \\left( e^{-3x} \\sin x \\right) \\, dx $\n",
    "  1. $ \\int \\left( s^2 + ks - m \\right) \\, ds $\n",
    "\n",
    "1. Calcule las siguientes integrales definidas:\n",
    "  1. $ \\int_{a}^{b} \\sin x \\, dx $\n",
    "  1. $ \\int_{-10}^{5} x^2 + 10x \\, dx $\n",
    "  1. $ \\int_{0}^{2} 10e^{-z} \\, dz  $\n",
    "\n",
    "1. Resuelva la siguiente ecuación diferencial:\n",
    "$$ \\frac{dS}{dr} = kS $$\n",
    "\n",
    "1. Escriba una función que dados como entrada dos vectores, determine sí estos son \n",
    "paralelos.\n",
    "\n",
    "1. Desarrolle una función llamada `calcula_fuerza_resultante` que reciba como datos de entrada un conjunto de vectores fuerza y devuelva el vector de fuerza resultante.\n",
    "\n",
    "1. Escriba un función llamada `calcula_momento_resultante` que reciba como datos de entrada un conjunto de \n",
    "vectores fuerza y un conjunto de vectores de posición del punto de aplicación de la fuerza con respecto \n",
    "a un cierto punto. Se deberá devolver el momento total producido por las fuerzas con respecto al punto."
   ]
  },
  {
   "cell_type": "code",
   "execution_count": null,
   "metadata": {},
   "outputs": [],
   "source": []
  }
 ],
 "metadata": {
  "kernelspec": {
   "display_name": "Python 3 (ipykernel)",
   "language": "python",
   "name": "python3"
  },
  "language_info": {
   "codemirror_mode": {
    "name": "ipython",
    "version": 3
   },
   "file_extension": ".py",
   "mimetype": "text/x-python",
   "name": "python",
   "nbconvert_exporter": "python",
   "pygments_lexer": "ipython3",
   "version": "3.9.7"
  },
  "toc": {
   "base_numbering": 1,
   "nav_menu": {},
   "number_sections": true,
   "sideBar": true,
   "skip_h1_title": false,
   "title_cell": "Contenido",
   "title_sidebar": "Contents",
   "toc_cell": true,
   "toc_position": {},
   "toc_section_display": true,
   "toc_window_display": false
  }
 },
 "nbformat": 4,
 "nbformat_minor": 2
}
