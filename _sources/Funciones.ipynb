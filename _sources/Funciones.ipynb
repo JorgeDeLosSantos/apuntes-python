{
 "cells": [
  {
   "cell_type": "markdown",
   "metadata": {},
   "source": [
    "# Funciones\n",
    "\n",
    "Las funciones son *porciones de código* que nos sirven para modularizar \n",
    "nuestros programas y evitar en muchos casos la repetitividad de código. \n",
    "De manera general una función recibe algunos valores de entrada, los *procesa* y \n",
    "devuelve algunos valores de salida (o bien modifica algunas variables).\n",
    "\n",
    "## Funciones *built-in*\n",
    "\n",
    "Python dispone de algunas funciones nativas que se *cargan* cuando se \n",
    "inicia el intérprete. Por ejemplo la función `max` devuelve el mayor valor numérico de \n",
    "una lista de números:"
   ]
  },
  {
   "cell_type": "code",
   "execution_count": 151,
   "metadata": {},
   "outputs": [
    {
     "data": {
      "text/plain": [
       "112"
      ]
     },
     "execution_count": 151,
     "metadata": {},
     "output_type": "execute_result"
    }
   ],
   "source": [
    "max([10,35,5,110,48,30,112,98,87])"
   ]
  },
  {
   "cell_type": "markdown",
   "metadata": {},
   "source": [
    "También existe una función `min`, análoga a `max`:"
   ]
  },
  {
   "cell_type": "code",
   "execution_count": 152,
   "metadata": {},
   "outputs": [
    {
     "data": {
      "text/plain": [
       "5"
      ]
     },
     "execution_count": 152,
     "metadata": {},
     "output_type": "execute_result"
    }
   ],
   "source": [
    "min([10,35,5,110,48,30,112,98,87])"
   ]
  },
  {
   "cell_type": "markdown",
   "metadata": {},
   "source": [
    "Otro ejemplo de función nativa es `bin`, la cual dado un número en base 10 devuelve \n",
    "una cadena con la representación en base 2."
   ]
  },
  {
   "cell_type": "code",
   "execution_count": 153,
   "metadata": {},
   "outputs": [
    {
     "data": {
      "text/plain": [
       "'0b1010'"
      ]
     },
     "execution_count": 153,
     "metadata": {},
     "output_type": "execute_result"
    }
   ],
   "source": [
    "bin(10)"
   ]
  },
  {
   "cell_type": "markdown",
   "metadata": {},
   "source": [
    "Naturalmente, el valor devuelto por una función se puede asignar a una variable y posteriormente ser utilizado:"
   ]
  },
  {
   "cell_type": "code",
   "execution_count": 154,
   "metadata": {},
   "outputs": [
    {
     "name": "stdout",
     "output_type": "stream",
     "text": [
      "0.5\n"
     ]
    }
   ],
   "source": [
    "a = max([10,5,8])\n",
    "b = min([10,5,8])\n",
    "h = (a - b)/10\n",
    "print(h)"
   ]
  },
  {
   "cell_type": "markdown",
   "metadata": {},
   "source": [
    "Hay funciones que no devuelven como tal un valor, si no que pueden modificar directamente \n",
    "alguna variable global o simplemente mostrar algo en la salida estándar como el caso de `print`.\n",
    "\n",
    "Tendremos también funciones que aceptan más de un argumento, por ejemplo a la función `round` podemos \n",
    "pasarle dos argumentos: un número real y la cantidad de lugares decimales a considerar para el redondeo.\n"
   ]
  },
  {
   "cell_type": "code",
   "execution_count": 155,
   "metadata": {},
   "outputs": [
    {
     "data": {
      "text/plain": [
       "3.141593"
      ]
     },
     "execution_count": 155,
     "metadata": {},
     "output_type": "execute_result"
    }
   ],
   "source": [
    "round(3.141592653589793, 6)"
   ]
  },
  {
   "cell_type": "code",
   "execution_count": 156,
   "metadata": {},
   "outputs": [
    {
     "data": {
      "text/plain": [
       "3.14"
      ]
     },
     "execution_count": 156,
     "metadata": {},
     "output_type": "execute_result"
    }
   ],
   "source": [
    "round(3.141592653589793, 2)"
   ]
  },
  {
   "cell_type": "markdown",
   "metadata": {},
   "source": [
    "### La función `print`\n",
    "\n",
    "La función `print` se utiliza para mostrar en pantalla el *valor* (o la representación) de los objetos Python. A `print` le podemos pasar un sólo argumento, por ejemplo:"
   ]
  },
  {
   "cell_type": "code",
   "execution_count": 1,
   "metadata": {},
   "outputs": [
    {
     "name": "stdout",
     "output_type": "stream",
     "text": [
      "Hola mundo\n"
     ]
    }
   ],
   "source": [
    "print(\"Hola mundo\")"
   ]
  },
  {
   "cell_type": "markdown",
   "metadata": {},
   "source": [
    "O una lista de argumentos que se imprimirán:"
   ]
  },
  {
   "cell_type": "code",
   "execution_count": 2,
   "metadata": {},
   "outputs": [
    {
     "name": "stdout",
     "output_type": "stream",
     "text": [
      "hola mundo 5 8 [1, 2, 3]\n"
     ]
    }
   ],
   "source": [
    "print(\"hola\", \"mundo\", 5, 8, [1,2,3])"
   ]
  },
  {
   "cell_type": "markdown",
   "metadata": {},
   "source": [
    "Como se puede observar en la línea anterior, realmente, le podemos pasar cualquier objeto de Python y `print` nos devolverá la representación de dicho objeto. \n",
    "\n",
    "Adicionalmente, también podemos indicar de manera explícita, mediante el *keyword argument* `sep`, el separador que queremos utilizar, por default el separador es un espacio."
   ]
  },
  {
   "cell_type": "code",
   "execution_count": 3,
   "metadata": {},
   "outputs": [
    {
     "name": "stdout",
     "output_type": "stream",
     "text": [
      "20,30,python\n"
     ]
    }
   ],
   "source": [
    "print(20,30,\"python\", sep=\",\")"
   ]
  },
  {
   "cell_type": "code",
   "execution_count": 4,
   "metadata": {},
   "outputs": [
    {
     "name": "stdout",
     "output_type": "stream",
     "text": [
      "Hola -- 90 -- 80\n"
     ]
    }
   ],
   "source": [
    "print(\"Hola\", 90, 80, sep=\" -- \")"
   ]
  },
  {
   "cell_type": "markdown",
   "metadata": {},
   "source": [
    "Como separador podemos utilizar cualquier símbolo soportado por Python."
   ]
  },
  {
   "cell_type": "code",
   "execution_count": 5,
   "metadata": {},
   "outputs": [
    {
     "name": "stdout",
     "output_type": "stream",
     "text": [
      "Hola ⇨ 90 ⇨ 80\n"
     ]
    }
   ],
   "source": [
    "print(\"Hola\", 90, 80, sep=\" \\u21e8 \")"
   ]
  },
  {
   "cell_type": "code",
   "execution_count": 6,
   "metadata": {},
   "outputs": [
    {
     "name": "stdout",
     "output_type": "stream",
     "text": [
      "Hola 😀 mundo\n"
     ]
    }
   ],
   "source": [
    "print(\"Hola\", \"mundo\", sep=\" \\U0001F600 \")"
   ]
  },
  {
   "cell_type": "markdown",
   "metadata": {},
   "source": [
    "Se puede indicar, también, mediante el *keyword argument* `end`, el caracter que se quiere utilizar cuando se *imprime* el último elemento, por default es un salto de línea."
   ]
  },
  {
   "cell_type": "code",
   "execution_count": 7,
   "metadata": {},
   "outputs": [
    {
     "name": "stdout",
     "output_type": "stream",
     "text": [
      "20 30 python\n",
      "hola\n"
     ]
    }
   ],
   "source": [
    "print(20,30,\"python\") # sin cambiar el argumento end \n",
    "print(\"hola\")"
   ]
  },
  {
   "cell_type": "markdown",
   "metadata": {},
   "source": [
    "Cambiando el argumento `end`:"
   ]
  },
  {
   "cell_type": "code",
   "execution_count": 8,
   "metadata": {},
   "outputs": [
    {
     "name": "stdout",
     "output_type": "stream",
     "text": [
      "20 30 python\n",
      "\n",
      "\thola\n"
     ]
    }
   ],
   "source": [
    "print(20,30,\"python\", end=\"\\n\\n\\t\") # utilizando un doble salto de línea + tab\n",
    "print(\"hola\")"
   ]
  },
  {
   "cell_type": "markdown",
   "metadata": {},
   "source": [
    "```{admonition} print y los strings formateados\n",
    ":class: tip\n",
    "Si te interesa obtener información acerca de `print` y su uso conjunto con strings formateados, revisa el capítulo dedicado a los strings.\n",
    "```"
   ]
  },
  {
   "cell_type": "markdown",
   "metadata": {},
   "source": [
    "### La función `input`"
   ]
  },
  {
   "cell_type": "markdown",
   "metadata": {},
   "source": [
    "En Python, la función `input` permite obtener entrada por teclado, con la finalidad de *tomar* información proporcionada por el usuario. La sintaxis de `input` es:\n",
    "\n",
    "```python\n",
    "var = input(prompt)\n",
    "```\n",
    "\n",
    "Donde `prompt` es el mensaje que se muestra al usuario al momento que se le solicita la información, `var` es la variable en la cual se almacena lo que el usuario ingresa hasta que presiona la tecla **Enter**.\n",
    "\n",
    "Veamos un ejemplo:"
   ]
  },
  {
   "cell_type": "code",
   "execution_count": 9,
   "metadata": {},
   "outputs": [
    {
     "name": "stdout",
     "output_type": "stream",
     "text": [
      "Ingrese su nombre: Jorge\n",
      "Hola Jorge bienvenido\n"
     ]
    }
   ],
   "source": [
    "nombre = input(\"Ingrese su nombre: \")\n",
    "print(\"Hola\", nombre, \"bienvenido\")"
   ]
  },
  {
   "cell_type": "markdown",
   "metadata": {},
   "source": [
    "Como puedes observar, el programa anterior solicita al usuario un valor de entrada utilizando el prompt `Ingrese su nombre: `; en este caso el usuario ingresó la cadena `Jorge`. Con la segunda línea únicamente se toma el valor guardado en la variable nombre y se muestra junto con  las cadenas `\"Hola\"` y `\"bienvenido\"`."
   ]
  },
  {
   "cell_type": "markdown",
   "metadata": {},
   "source": [
    "Es importante tener en cuenta que la función `input` devuelve siempre un valor de tipo string. Así, si quisiéramos solicitar un valor de tipo numérico y realizar operaciones con él, entonces, se debe tener el cuidado de convertir el string a un tipo numérico de manera explícita, de lo contrario podríamos tener un programa que nos *lance* un error, o en el peor de los casos, que funcione de manera incorrecta."
   ]
  },
  {
   "cell_type": "code",
   "execution_count": 20,
   "metadata": {},
   "outputs": [
    {
     "name": "stdout",
     "output_type": "stream",
     "text": [
      "Ingrese un número: 20\n"
     ]
    },
    {
     "ename": "TypeError",
     "evalue": "must be str, not int",
     "output_type": "error",
     "traceback": [
      "\u001b[1;31m---------------------------------------------------------------------------\u001b[0m",
      "\u001b[1;31mTypeError\u001b[0m                                 Traceback (most recent call last)",
      "\u001b[1;32m<ipython-input-20-a150c9d34f22>\u001b[0m in \u001b[0;36m<module>\u001b[1;34m\u001b[0m\n\u001b[0;32m      1\u001b[0m \u001b[1;31m# No podemos sumar un string con un entero\u001b[0m\u001b[1;33m\u001b[0m\u001b[1;33m\u001b[0m\u001b[0m\n\u001b[0;32m      2\u001b[0m \u001b[0mn\u001b[0m \u001b[1;33m=\u001b[0m \u001b[0minput\u001b[0m\u001b[1;33m(\u001b[0m\u001b[1;34m\"Ingrese un número: \"\u001b[0m\u001b[1;33m)\u001b[0m\u001b[1;33m\u001b[0m\u001b[0m\n\u001b[1;32m----> 3\u001b[1;33m \u001b[0mprint\u001b[0m\u001b[1;33m(\u001b[0m\u001b[0mn\u001b[0m \u001b[1;33m+\u001b[0m \u001b[1;36m10\u001b[0m\u001b[1;33m)\u001b[0m\u001b[1;33m\u001b[0m\u001b[0m\n\u001b[0m",
      "\u001b[1;31mTypeError\u001b[0m: must be str, not int"
     ]
    }
   ],
   "source": [
    "# No podemos sumar un string con un entero\n",
    "n = input(\"Ingrese un número: \")\n",
    "print(n + 10)"
   ]
  },
  {
   "cell_type": "code",
   "execution_count": 19,
   "metadata": {},
   "outputs": [
    {
     "name": "stdout",
     "output_type": "stream",
     "text": [
      "Ingrese un número: 12\n",
      "121212\n"
     ]
    }
   ],
   "source": [
    "# Aquí n+n+n corresponde a concatenar la cadena \"12\", en lugar de sumar los valores numéricos.\n",
    "n = input(\"Ingrese un número: \")\n",
    "print(n + n + n)"
   ]
  },
  {
   "cell_type": "code",
   "execution_count": 13,
   "metadata": {},
   "outputs": [
    {
     "name": "stdout",
     "output_type": "stream",
     "text": [
      "Ingrese un número: 12\n",
      "36.0\n"
     ]
    }
   ],
   "source": [
    "# Ahora n+n+n si corresponde a sumar dichos valores numéricamente\n",
    "n = float( input(\"Ingrese un número: \") )\n",
    "print(n + n + n)"
   ]
  },
  {
   "cell_type": "markdown",
   "metadata": {},
   "source": [
    "## Funciones definidas por el usuario"
   ]
  },
  {
   "cell_type": "markdown",
   "metadata": {},
   "source": [
    "Además de las funciones nativas de Python, es posible definir nuestras propias funciones. En Python, de manera general, una función se define siguiendo la estructura mostrada a continuación:\n",
    "\n",
    "```python\n",
    "def nombre_fun(arg1, arg2, ..., argN):\n",
    "    # Cuerpo de la función\n",
    "    # .\n",
    "    # .\n",
    "    # .\n",
    "    return val1, val2, ..., valN\n",
    "```\n",
    "\n",
    "Donde `def` es una palabra que debe anteceder siempre a la definición de una función, \n",
    "`nombre_fun` es el nombre que se asignará a la función, entre paréntesis y \n",
    "separados por comas se colocan los nombres de los argumentos de entrada, los dos puntos \n",
    "se colocan después de cerrar el paréntesis e indican que ahí termina el *encabezado* de \n",
    "la función y comenzará el *cuerpo* de la misma, aquí se colocarán todas las \n",
    "instrucciones que deberán realizarse; la palabra reservada `return` sirve para \n",
    "indicar los valores a devolver, mismos que se colocarán separados por comas.\n",
    "\n",
    "Vamos a definir una función llamada `saluda`, la cual recibe un nombre (string)\n",
    "y devuelve un saludo (string) formado mediante concatenación:\n"
   ]
  },
  {
   "cell_type": "code",
   "execution_count": 10,
   "metadata": {},
   "outputs": [],
   "source": [
    "def saluda(nombre):\n",
    "    s = \"Hola \" + nombre + \", bienvenido.\"\n",
    "    return s"
   ]
  },
  {
   "cell_type": "code",
   "execution_count": 11,
   "metadata": {},
   "outputs": [
    {
     "name": "stdout",
     "output_type": "stream",
     "text": [
      "Hola Jorge, bienvenido.\n"
     ]
    }
   ],
   "source": [
    "print(saluda(\"Jorge\"))"
   ]
  },
  {
   "cell_type": "markdown",
   "metadata": {},
   "source": [
    "Lo único que hace la función anterior es tomar un *string* como argumento y unirlo \n",
    "a algunas cadenas ya establecidas dentro de la función. \n",
    "\n",
    "Veamos ahora cómo definir una función que recibe como argumento un entero y devuelve un valor lógico que \n",
    "indica si este es par."
   ]
  },
  {
   "cell_type": "code",
   "execution_count": 159,
   "metadata": {},
   "outputs": [],
   "source": [
    "def espar(n):\n",
    "    if n%2 == 0:\n",
    "        s = True\n",
    "    else:\n",
    "        s = False\n",
    "    return s"
   ]
  },
  {
   "cell_type": "code",
   "execution_count": 160,
   "metadata": {},
   "outputs": [
    {
     "name": "stdout",
     "output_type": "stream",
     "text": [
      "True\n",
      "False\n",
      "True\n"
     ]
    }
   ],
   "source": [
    "print(espar(2))\n",
    "print(espar(5))\n",
    "print(espar(10))"
   ]
  },
  {
   "cell_type": "markdown",
   "metadata": {},
   "source": [
    "Naturalmente, las funciones pueden recibir más de un argumento. Por ejemplo:"
   ]
  },
  {
   "cell_type": "code",
   "execution_count": 161,
   "metadata": {},
   "outputs": [],
   "source": [
    "def mayor(a,b):\n",
    "    m = a\n",
    "    if a < b:\n",
    "        m = b\n",
    "    return m"
   ]
  },
  {
   "cell_type": "code",
   "execution_count": 162,
   "metadata": {},
   "outputs": [
    {
     "name": "stdout",
     "output_type": "stream",
     "text": [
      "50\n",
      "3050\n"
     ]
    }
   ],
   "source": [
    "print( mayor(50,30) )\n",
    "print( mayor(1100,3050) )"
   ]
  },
  {
   "cell_type": "markdown",
   "metadata": {},
   "source": [
    "La función `mayor` recibe dos valores numéricos y determina cuál es el mayor de ambos mediante \n",
    "una comparación con la sentencia `if`. \n",
    "\n",
    "¿Pueden las funciones en Python devolver más de un valor? ¡Claro! Hace falta nada más separar \n",
    "con comas los valores a devolver.\n"
   ]
  },
  {
   "cell_type": "code",
   "execution_count": 163,
   "metadata": {},
   "outputs": [],
   "source": [
    "def calcula_rectangulo(b,h):\n",
    "    A = b*h\n",
    "    P = 2*b + 2*h\n",
    "    return A, P"
   ]
  },
  {
   "cell_type": "code",
   "execution_count": 164,
   "metadata": {},
   "outputs": [
    {
     "name": "stdout",
     "output_type": "stream",
     "text": [
      "(50, 30)\n",
      "(750, 130)\n"
     ]
    }
   ],
   "source": [
    "print( calcula_rectangulo(10,5) )\n",
    "print( calcula_rectangulo(50,15) )"
   ]
  },
  {
   "cell_type": "markdown",
   "metadata": {},
   "source": [
    "También es posible guardar/asignar los valores devueltos por la función en variables:\n"
   ]
  },
  {
   "cell_type": "code",
   "execution_count": 165,
   "metadata": {},
   "outputs": [
    {
     "name": "stdout",
     "output_type": "stream",
     "text": [
      "Área: 2000\n",
      "Perímetro: 240\n"
     ]
    }
   ],
   "source": [
    "area1, perimetro1 = calcula_rectangulo(100, 20)\n",
    "print(\"Área: {0}\\nPerímetro: {1}\".format(area1, perimetro1))"
   ]
  },
  {
   "cell_type": "markdown",
   "metadata": {},
   "source": [
    "### Funciones con una cantidad de parámetros indeterminada\n",
    "\n",
    "En ocasiones el número de parámetros que deberá recibir una función no puede ser algo fijo. \n",
    "Las definiciones de función en Python tienen la flexibilidad de poder recibir una cantidad \n",
    "variable de argumentos de entrada. \n",
    "\n",
    "Para ejemplificar esto, vamos a crear una función llamada `promedio` que calcule \n",
    "el promedio de una cierta cantidad de números pasados como argumentos:"
   ]
  },
  {
   "cell_type": "code",
   "execution_count": 166,
   "metadata": {},
   "outputs": [],
   "source": [
    "def promedio(*numeros):\n",
    "    suma = 0\n",
    "    k = 0\n",
    "    for n in numeros:\n",
    "        suma += n\n",
    "        k += 1\n",
    "    return suma/k"
   ]
  },
  {
   "cell_type": "code",
   "execution_count": 167,
   "metadata": {},
   "outputs": [
    {
     "name": "stdout",
     "output_type": "stream",
     "text": [
      "7.5\n",
      "50.0\n",
      "8.75\n"
     ]
    }
   ],
   "source": [
    "print(promedio(10,5))\n",
    "print(promedio(10,50,40,80,20,100))\n",
    "print(promedio(5,15,10,5))"
   ]
  },
  {
   "cell_type": "markdown",
   "metadata": {},
   "source": [
    "Observe que lo único que hacemos es que al nombre del parámetro le anteponemos un asterisco, esto le indica \n",
    "a Python que la cantidad de argumentos de entrada es indeterminada, en principio. Claro está, que el manejo posterior \n",
    "de la información es algo que el programador debe tener en cuenta. Dentro del cuerpo de la función \n",
    "se debe considerar que el parámetro `numeros` será una tupla cuya cantidad de elementos dependerá \n",
    "de la cantidad de argumentos ingresados."
   ]
  },
  {
   "cell_type": "markdown",
   "metadata": {},
   "source": [
    "### Funciones y los argumentos con nombre\n",
    "\n",
    "Una función en Python se puede *mandar a llamar* pasándo los argumentos de manera posicional, es \n",
    "decir, en el orden que fueron definidos en la función, o bien, haciendo uso del nombre del parámetro correspondiente \n",
    "al argumento que se introduce, por ejemplo:"
   ]
  },
  {
   "cell_type": "code",
   "execution_count": 168,
   "metadata": {},
   "outputs": [],
   "source": [
    "def cuenta_cuantas(frase, letra):\n",
    "    k = 0\n",
    "    for car in frase:\n",
    "        if car is letra:\n",
    "            k += 1\n",
    "    return k"
   ]
  },
  {
   "cell_type": "code",
   "execution_count": 169,
   "metadata": {},
   "outputs": [
    {
     "name": "stdout",
     "output_type": "stream",
     "text": [
      "2\n",
      "2\n",
      "2\n"
     ]
    }
   ],
   "source": [
    "print( cuenta_cuantas(\"hola mundo\", \"o\") )\n",
    "print( cuenta_cuantas(frase=\"hola mundo\", letra=\"o\") )\n",
    "print( cuenta_cuantas(letra=\"o\", frase=\"hola mundo\") )"
   ]
  },
  {
   "cell_type": "markdown",
   "metadata": {},
   "source": [
    "La función `cuenta_cuantas` devuelve el número de presencias de una determinada letra en una frase. Observe \n",
    "las tres formas en que la *ejecutamos*, todas son equivalentes. En la primera se pasan los argumentos de \n",
    "forma posicional, en la segunda y tercera se utilizan los argumentos con nombres, note que en este caso el orden \n",
    "en que los argumentos son pasados, es indistinto.\n",
    "\n",
    "En la definición de funciones es posible también especificar que se pasarán ciertos argumentos con nombre \n",
    "sin necesidad de escribirlos de manera explícita. Observe la siguiente función:"
   ]
  },
  {
   "cell_type": "code",
   "execution_count": 170,
   "metadata": {},
   "outputs": [],
   "source": [
    "def muestra_puntos(**personas):\n",
    "    for persona in personas.items():\n",
    "        print(persona[0] + \" tiene \" + str(persona[1]) + \" puntos\")"
   ]
  },
  {
   "cell_type": "code",
   "execution_count": 171,
   "metadata": {},
   "outputs": [
    {
     "name": "stdout",
     "output_type": "stream",
     "text": [
      "Jorge tiene 8 puntos\n",
      "Paty tiene 10 puntos\n",
      "==============================\n",
      "Ana tiene 6 puntos\n",
      "Carlos tiene 9 puntos\n",
      "Victor tiene 4 puntos\n",
      "Daniela tiene 8 puntos\n"
     ]
    }
   ],
   "source": [
    "muestra_puntos(Jorge=8, Paty=10)\n",
    "print(30*\"=\")\n",
    "muestra_puntos(Ana=6, Carlos=9, Victor=4, Daniela=8)"
   ]
  },
  {
   "cell_type": "markdown",
   "metadata": {},
   "source": [
    "Vea que la definición de la función `muestra_puntos` incluye un parámetro llamado `**personas`, esos dos \n",
    "asteriscos antes del nombre del parámetro, indican que no se tiene predeterminado el número de argumentos que se \n",
    "pasarán, pero además, indica que cada argumento a introducir deberá ser un argumento con nombre.\n",
    "Dentro del cuerpo de la función el parámetro `**personas` es un diccionario cuyas claves \n",
    "son los nombres de los argumentos y los valores corresponden a cada valor asignado al argumento."
   ]
  }
 ],
 "metadata": {
  "kernelspec": {
   "display_name": "Python 3",
   "language": "python",
   "name": "python3"
  },
  "language_info": {
   "codemirror_mode": {
    "name": "ipython",
    "version": 3
   },
   "file_extension": ".py",
   "mimetype": "text/x-python",
   "name": "python",
   "nbconvert_exporter": "python",
   "pygments_lexer": "ipython3",
   "version": "3.6.5"
  },
  "toc": {
   "base_numbering": 1,
   "nav_menu": {
    "height": "462px",
    "width": "608px"
   },
   "number_sections": true,
   "sideBar": true,
   "skip_h1_title": false,
   "title_cell": "Contenido",
   "title_sidebar": "Contents",
   "toc_cell": true,
   "toc_position": {},
   "toc_section_display": true,
   "toc_window_display": false
  }
 },
 "nbformat": 4,
 "nbformat_minor": 2
}
