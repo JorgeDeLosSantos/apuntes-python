{
 "cells": [
  {
   "cell_type": "markdown",
   "metadata": {},
   "source": [
    "# Estructuras de control\n",
    "\n",
    "## Condicional `if-elif-else`\n",
    "\n",
    "El condicional `if-elif-else` es una estructura de control que sirve para *tomar decisiones* en el flujo del programa. La sintaxis para `if-elif-else` es:\n",
    "\n",
    "```python\n",
    "if cond1:\n",
    "    # hacer algo \n",
    "elif cond2:\n",
    "    # hacer otra cosa\n",
    "    .\n",
    "    .\n",
    "    .\n",
    "elif condn:\n",
    "    # hacer algo más\n",
    "else:\n",
    "    # hacer algo por default\n",
    "```\n",
    "\n",
    "Donde `cond1, cond2, ... condn` son valores lógicos que resultan de una comparación. Esta estructura se evalúa \n",
    "secuencialmente hasta encontrar una condición que se cumpla, si ninguna lo hace, entonces se ejecuta la instrucción \n",
    "colocada en el caso por default `else`.\n",
    "\n",
    "En el siguiente fragmento de código se muestra un programa que verifica si el valor de `a` es mayor, menor o igual al valor de `b`."
   ]
  },
  {
   "cell_type": "code",
   "execution_count": 7,
   "metadata": {},
   "outputs": [
    {
     "name": "stdout",
     "output_type": "stream",
     "text": [
      "a es menor que b\n"
     ]
    }
   ],
   "source": [
    "a = 10\n",
    "b = 30\n",
    "\n",
    "if a > b:\n",
    "    print(\"a es mayor que b\")\n",
    "elif a < b:\n",
    "    print(\"a es menor que b\")\n",
    "else:\n",
    "    print(\"a es igual a b\")"
   ]
  },
  {
   "cell_type": "markdown",
   "metadata": {},
   "source": [
    "Es muy común que en algunos, por cuestiones inherentes a lo que se está programando, únicamente se decida entre dos posibilidades que son excluyentes, en esos casos basta con una estructura `if-else`."
   ]
  },
  {
   "cell_type": "code",
   "execution_count": 8,
   "metadata": {},
   "outputs": [
    {
     "name": "stdout",
     "output_type": "stream",
     "text": [
      "El número es impar\n"
     ]
    }
   ],
   "source": [
    "n = 1111\n",
    "\n",
    "if (-1)**(n) > 0:\n",
    "    print(\"El número es par\")\n",
    "else:\n",
    "    print(\"El número es impar\")"
   ]
  },
  {
   "cell_type": "markdown",
   "metadata": {},
   "source": [
    "## Bucle `for`\n",
    "\n",
    "El **bucle for** es una estructura de control de naturaleza repetitiva, en la cual se conocen \n",
    "*a priori* el número de iteraciones a realizar. En lenguajes como C++ o Java, el ciclo `for` \n",
    "necesita de una variable de ciclo de tipo entero que irá incrementándose en cada iteración. En Python, la cuestión es un poco diferente, el ciclo `for` *recorre* una secuencia y en la k-ésima iteración la variable de ciclo *adopta* el \n",
    "valor del elemento en la k-ésima posición del iterable.\n",
    "\n",
    "De manera general, la sintaxis de `for` es:\n",
    "\n",
    "```python\n",
    "for var in secuencia:\n",
    "    # Hacer algo ...\n",
    "```\n",
    "\n",
    "Donde `var` es la **variable de ciclo** y `secuencia` la secuencia de valores que deberá iterarse. Es necesario remarcar la importancia de los dos puntos al final de esta primera línea y en indentar el bloque de \n",
    "código subsecuente que definirá el cuerpo del ciclo for.\n",
    "\n",
    "Como primer ejemplo vamos a recorrer una lista de números y mostrarlos por consola:"
   ]
  },
  {
   "cell_type": "code",
   "execution_count": 147,
   "metadata": {},
   "outputs": [
    {
     "name": "stdout",
     "output_type": "stream",
     "text": [
      "18\n",
      "50\n",
      "90\n",
      "-20\n",
      "100\n",
      "80\n",
      "37\n"
     ]
    }
   ],
   "source": [
    "numeros = [18,50,90,-20,100,80,37]\n",
    "for n in numeros:\n",
    "    print(n)"
   ]
  },
  {
   "cell_type": "markdown",
   "metadata": {},
   "source": [
    "Observe que en cada iteración la variable de ciclo `n` adopta el valor de cada uno de los elementos de la \n",
    "lista `numeros`.\n",
    "\n",
    "Como ya se mencionó, en Python la variable de ciclo no necesariamente adopta valores numéricos enteros secuenciales, \n",
    "si no valores dentro de una secuencia. Esta secuencia podría ser también una cadena de caracteres, por ejemplo:"
   ]
  },
  {
   "cell_type": "code",
   "execution_count": 148,
   "metadata": {},
   "outputs": [
    {
     "name": "stdout",
     "output_type": "stream",
     "text": [
      "P\n",
      "y\n",
      "t\n",
      "h\n",
      "o\n",
      "n\n"
     ]
    }
   ],
   "source": [
    "palabra = \"Python\"\n",
    "for letra in palabra:\n",
    "    print(letra)"
   ]
  },
  {
   "cell_type": "markdown",
   "metadata": {},
   "source": [
    "Dentro de un ciclo for podemos colocar cualquier otra instrucción de control de flujo. Un caso muy común es el de incluir otro ciclo for, algo que habitualmente se denota como **ciclos anidados**. Por ejemplo, supongamos que se requieren mostrar por consola todos los elementos de algunas listas contenidas dentro de otra lista principal, en ese caso se hace necesario primero iterar sobre la lista principal y enseguida hacerlo sobre las listas contenidas, por ejemplo:"
   ]
  },
  {
   "cell_type": "code",
   "execution_count": 150,
   "metadata": {},
   "outputs": [
    {
     "name": "stdout",
     "output_type": "stream",
     "text": [
      "-5\n",
      "2\n",
      "0\n",
      "9\n",
      "5\n",
      "6\n",
      "1\n",
      "7\n",
      "15\n"
     ]
    }
   ],
   "source": [
    "matriz = [[-5,2,0], [9,5,6], [1,7,15]]\n",
    "for fila in matriz:\n",
    "    for elemento in fila:\n",
    "        print(elemento)"
   ]
  },
  {
   "cell_type": "markdown",
   "metadata": {},
   "source": [
    "Con un ciclo for también podemos *desempaquetar* múltiples valores:"
   ]
  },
  {
   "cell_type": "code",
   "execution_count": 12,
   "metadata": {},
   "outputs": [
    {
     "name": "stdout",
     "output_type": "stream",
     "text": [
      "x=0 y=0\n",
      "x=1 y=0\n",
      "x=1 y=1\n",
      "x=0 y=1\n"
     ]
    }
   ],
   "source": [
    "puntos = [(0,0), (1,0), (1,1), (0,1)]\n",
    "\n",
    "for x,y in puntos:\n",
    "    print(f\"x={x} y={y}\")"
   ]
  },
  {
   "cell_type": "markdown",
   "metadata": {},
   "source": [
    "## Bucle `while`"
   ]
  },
  {
   "cell_type": "markdown",
   "metadata": {},
   "source": [
    "El bucle `while` ejecuta un bloque de instrucciones mientras haya una condición que se cumpla. La sintaxis de `while` es: \n",
    "\n",
    "```python\n",
    "while cond:\n",
    "    # hacer algo \n",
    "```\n",
    "\n",
    "Donde `cond`, usualmente, es una cantidad que resulta de una operación de comparación; en general, `cond` debe ser un valor de tipo booleano.\n",
    "\n",
    "Veamos un ejemplo:"
   ]
  },
  {
   "cell_type": "code",
   "execution_count": 14,
   "metadata": {},
   "outputs": [
    {
     "name": "stdout",
     "output_type": "stream",
     "text": [
      "1\n",
      "2\n",
      "3\n",
      "4\n"
     ]
    }
   ],
   "source": [
    "x = 1\n",
    "while x < 5:\n",
    "    print(x)\n",
    "    x += 1"
   ]
  },
  {
   "cell_type": "markdown",
   "metadata": {},
   "source": [
    "En el código anterior, inicialmente `x` tiene un valor de 1, el flujo del programa *entra* en el ciclo while, puesto que la condición se cumple (dado que en ese momento `1 < 5`), posteriormente se ejecutan de manera repetitiva las instrucciones que están dentro del ciclo while, hasta que `x = 5`. La instrucción `x += 1` suma 1 al valor de `x` en cada iteración. "
   ]
  },
  {
   "cell_type": "code",
   "execution_count": 25,
   "metadata": {},
   "outputs": [
    {
     "name": "stdout",
     "output_type": "stream",
     "text": [
      "¡Bienvenido a Adivina el Número!\n",
      "Ingrese un entero entre 1 y 10: 4\n",
      "4 no es el número, intenta nuevamente\n",
      "\n",
      "Ingrese un entero entre 1 y 10: 5\n",
      "5 no es el número, intenta nuevamente\n",
      "\n",
      "Ingrese un entero entre 1 y 10: 8\n",
      "8 no es el número, intenta nuevamente\n",
      "\n",
      "Ingrese un entero entre 1 y 10: 1\n",
      "1 no es el número, intenta nuevamente\n",
      "\n",
      "Ingrese un entero entre 1 y 10: 10\n",
      "Has adivinado después de 5 intentos\n"
     ]
    }
   ],
   "source": [
    "from random import randint\n",
    "\n",
    "print(\"¡Bienvenido a Adivina el Número!\")\n",
    "n = randint(1,10) # Un entero aleatorio en el intervalo [1,10]\n",
    "k = 1 # número de intentos\n",
    "\n",
    "while True:\n",
    "    x = int( input(\"Ingrese un entero entre 1 y 10: \") )\n",
    "    if x == n:\n",
    "        print(f\"Has adivinado después de {k} intentos\")\n",
    "        break\n",
    "    else:\n",
    "        print(f\"{x} no es el número, intenta nuevamente\\n\")\n",
    "    k += 1"
   ]
  },
  {
   "cell_type": "code",
   "execution_count": null,
   "metadata": {},
   "outputs": [],
   "source": []
  }
 ],
 "metadata": {
  "kernelspec": {
   "display_name": "Python 3",
   "language": "python",
   "name": "python3"
  },
  "language_info": {
   "codemirror_mode": {
    "name": "ipython",
    "version": 3
   },
   "file_extension": ".py",
   "mimetype": "text/x-python",
   "name": "python",
   "nbconvert_exporter": "python",
   "pygments_lexer": "ipython3",
   "version": "3.6.5"
  },
  "toc": {
   "base_numbering": 1,
   "nav_menu": {
    "height": "462px",
    "width": "608px"
   },
   "number_sections": true,
   "sideBar": true,
   "skip_h1_title": false,
   "title_cell": "Contenido",
   "title_sidebar": "Contents",
   "toc_cell": true,
   "toc_position": {},
   "toc_section_display": true,
   "toc_window_display": false
  }
 },
 "nbformat": 4,
 "nbformat_minor": 2
}
