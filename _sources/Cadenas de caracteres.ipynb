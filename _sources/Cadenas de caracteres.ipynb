{
 "cells": [
  {
   "cell_type": "markdown",
   "metadata": {},
   "source": [
    "# Cadenas de caracteres\n",
    "\n",
    "Las cadenas de caracteres (denominadas habitualmente y de manera indistinta como *strings*) son un tipo de dato \n",
    "que contiene una secuencia de símbolos, mismos que pueden ser alfanúmericos o cualquier otro símbolo propio de \n",
    "un sistema de escritura. En Python los strings se definen utilizando comillas dobles o simples. Observa los siguientes ejemplos:"
   ]
  },
  {
   "cell_type": "code",
   "execution_count": 48,
   "metadata": {},
   "outputs": [
    {
     "data": {
      "text/plain": [
       "str"
      ]
     },
     "execution_count": 48,
     "metadata": {},
     "output_type": "execute_result"
    }
   ],
   "source": [
    "nombre = \"Catalina\"\n",
    "type(nombre)"
   ]
  },
  {
   "cell_type": "code",
   "execution_count": 49,
   "metadata": {},
   "outputs": [
    {
     "data": {
      "text/plain": [
       "str"
      ]
     },
     "execution_count": 49,
     "metadata": {},
     "output_type": "execute_result"
    }
   ],
   "source": [
    "apellido = 'Lara'\n",
    "type(apellido)"
   ]
  },
  {
   "cell_type": "markdown",
   "metadata": {},
   "source": [
    "Observa que es indistinto utilizar las comillas dobles o simples al momento de crear una cadena de caracteres. Si se requiere crear una cadena de caracteres multilínea, entonces se pueden definir utilizando un tres comillas dobles, tal como se muestra en el siguiente ejemplo:"
   ]
  },
  {
   "cell_type": "code",
   "execution_count": 50,
   "metadata": {},
   "outputs": [
    {
     "data": {
      "text/plain": [
       "str"
      ]
     },
     "execution_count": 50,
     "metadata": {},
     "output_type": "execute_result"
    }
   ],
   "source": [
    "en_paz = \"\"\"\n",
    "Muy cerca de mi ocaso, yo te bendigo, vida,\n",
    "porque nunca me diste ni esperanza fallida,\n",
    "ni trabajos injustos, ni pena inmerecida;\n",
    "\"\"\"\n",
    "type(en_paz)"
   ]
  },
  {
   "cell_type": "markdown",
   "metadata": {},
   "source": [
    "La longitud o cantidad de elementos de una cadena se puede determinar utilizando la función `len`:"
   ]
  },
  {
   "cell_type": "code",
   "execution_count": 51,
   "metadata": {},
   "outputs": [
    {
     "data": {
      "text/plain": [
       "4"
      ]
     },
     "execution_count": 51,
     "metadata": {},
     "output_type": "execute_result"
    }
   ],
   "source": [
    "palabra = \"Hola\"\n",
    "len(palabra)"
   ]
  },
  {
   "cell_type": "markdown",
   "metadata": {},
   "source": [
    "## Concatenación de cadenas"
   ]
  },
  {
   "cell_type": "markdown",
   "metadata": {},
   "source": [
    "Para concatenar (unir) cadenas se puede utilizar el operador `+`. Observa el siguiente ejemplo en el cual se concatenan las cadenas `\"hola\"` y `\"mundo\"`."
   ]
  },
  {
   "cell_type": "code",
   "execution_count": 52,
   "metadata": {},
   "outputs": [
    {
     "data": {
      "text/plain": [
       "'Holamundo'"
      ]
     },
     "execution_count": 52,
     "metadata": {},
     "output_type": "execute_result"
    }
   ],
   "source": [
    "\"Hola\" + \"mundo\""
   ]
  },
  {
   "cell_type": "markdown",
   "metadata": {},
   "source": [
    "Notarás que Python por sí mismo no sabe que estamos uniendo dos palabras y que entre ellas debería haber un espacio para su correcta lectura, evidentemente este tipo de cuestiones son las que el programador debe tomar en cuenta al escribir un código. Si quisiéramos introducir un espacio entre las dos palabras podríamos añadirlo de forma manual en alguna de las cadenas, o como una tercera cadena intermedia, tal como se muestra enseguida:"
   ]
  },
  {
   "cell_type": "code",
   "execution_count": 53,
   "metadata": {},
   "outputs": [
    {
     "data": {
      "text/plain": [
       "'Hola mundo'"
      ]
     },
     "execution_count": 53,
     "metadata": {},
     "output_type": "execute_result"
    }
   ],
   "source": [
    "\"Hola\" + \" mundo\""
   ]
  },
  {
   "cell_type": "code",
   "execution_count": 54,
   "metadata": {},
   "outputs": [
    {
     "data": {
      "text/plain": [
       "'Hola mundo'"
      ]
     },
     "execution_count": 54,
     "metadata": {},
     "output_type": "execute_result"
    }
   ],
   "source": [
    "\"Hola\" + \" \" + \"mundo\""
   ]
  },
  {
   "cell_type": "markdown",
   "metadata": {},
   "source": [
    "Otra manera de concatenar cadenas es utilizar el método `join`. Este método nos sirve para unir una lista de cadenas mediante un separador, por ejemplo:"
   ]
  },
  {
   "cell_type": "code",
   "execution_count": 55,
   "metadata": {},
   "outputs": [
    {
     "data": {
      "text/plain": [
       "'Ana Isabel'"
      ]
     },
     "execution_count": 55,
     "metadata": {},
     "output_type": "execute_result"
    }
   ],
   "source": [
    "primer_nombre = \"Ana\"\n",
    "segundo_nombre = \"Isabel\"\n",
    "separador = \" \"\n",
    "separador.join( [primer_nombre, segundo_nombre] )"
   ]
  },
  {
   "cell_type": "code",
   "execution_count": 56,
   "metadata": {},
   "outputs": [
    {
     "data": {
      "text/plain": [
       "'Ana---Isabel'"
      ]
     },
     "execution_count": 56,
     "metadata": {},
     "output_type": "execute_result"
    }
   ],
   "source": [
    "separador = \"---\"\n",
    "separador.join( [primer_nombre, segundo_nombre] )"
   ]
  },
  {
   "cell_type": "markdown",
   "metadata": {},
   "source": [
    "La cantidad de cadenas a unir pueden ser más dos, observa el siguiente ejemplo:"
   ]
  },
  {
   "cell_type": "code",
   "execution_count": 57,
   "metadata": {},
   "outputs": [
    {
     "data": {
      "text/plain": [
       "'Ana, Jorge, David, José, Juan'"
      ]
     },
     "execution_count": 57,
     "metadata": {},
     "output_type": "execute_result"
    }
   ],
   "source": [
    "\", \".join([\"Ana\", \"Jorge\", \"David\", \"José\", \"Juan\"])"
   ]
  },
  {
   "cell_type": "markdown",
   "metadata": {},
   "source": [
    "Naturalmente, el separador puede ser cualquier caracter válido, incluyendo algunos poco *usuales*:"
   ]
  },
  {
   "cell_type": "code",
   "execution_count": 58,
   "metadata": {},
   "outputs": [
    {
     "data": {
      "text/plain": [
       "'Ana 🥰 Jorge 🥰 David 🥰 José 🥰 Juan'"
      ]
     },
     "execution_count": 58,
     "metadata": {},
     "output_type": "execute_result"
    }
   ],
   "source": [
    "\" \\U0001F970 \".join([\"Ana\", \"Jorge\", \"David\", \"José\", \"Juan\"])"
   ]
  },
  {
   "cell_type": "markdown",
   "metadata": {},
   "source": [
    "## Indexación y *slicing*"
   ]
  },
  {
   "cell_type": "markdown",
   "metadata": {},
   "source": [
    "Las cadenas de caracteres son secuencias de elementos, donde cada elemento corresponde a un caracter específico. Cada elemento de la cadena tiene asociado un índice, el cual corresponde a la posición en que se encuentran, y por lo tanto serán enteros positivos. La numeración de los índices comienza en cero. En la figura se muestra una cadena de caracteres *guardada* en la variable `nombre`, podemos observar que a cada caracter le corresponde un índice. Por ejemplo, a la letra `C` le corresponde el índice 0, a la letra `t` el índice 2."
   ]
  },
  {
   "cell_type": "markdown",
   "metadata": {},
   "source": [
    "![](img/cadenas/strings_index.svg)"
   ]
  },
  {
   "cell_type": "markdown",
   "metadata": {},
   "source": [
    "Se puede acceder a cada una de los símbolos que componen una cadena mediante la notación `cadena[idx]`, donde  `cadena` es el nombre de la cadena e `idx` el índice en que se encuentra el caracter al cual se desea acceder, siendo 0 para la primera letra, 1 para la segunda y así de manera consecutiva. Veamos el ejemplo descrito en la figura, primero creamos la cadena `nombre`:"
   ]
  },
  {
   "cell_type": "code",
   "execution_count": 59,
   "metadata": {},
   "outputs": [],
   "source": [
    "nombre = \"Catalina\""
   ]
  },
  {
   "cell_type": "markdown",
   "metadata": {},
   "source": [
    "Si quisiéramos acceder a la letra `C` tendríamos que utilizar el índice `0`, es decir:"
   ]
  },
  {
   "cell_type": "code",
   "execution_count": 60,
   "metadata": {},
   "outputs": [
    {
     "data": {
      "text/plain": [
       "'C'"
      ]
     },
     "execution_count": 60,
     "metadata": {},
     "output_type": "execute_result"
    }
   ],
   "source": [
    "nombre[0]"
   ]
  },
  {
   "cell_type": "markdown",
   "metadata": {},
   "source": [
    "Para acceder a la letra `t` utilizaríamos el índice `2`: "
   ]
  },
  {
   "cell_type": "code",
   "execution_count": 61,
   "metadata": {},
   "outputs": [
    {
     "data": {
      "text/plain": [
       "'t'"
      ]
     },
     "execution_count": 61,
     "metadata": {},
     "output_type": "execute_result"
    }
   ],
   "source": [
    "nombre[2]"
   ]
  },
  {
   "cell_type": "markdown",
   "metadata": {},
   "source": [
    "En las secuencias se pueden utilizar también índices negativos para acceder a los elementos. En este caso, el último elemento siempre tendrá asociado el índice `-1` y a partir de ahí hacia la izquierda el índice de cada elemento adyacente disminuye una unidad, es decir, $-1, -2, -3, -4, ..., -n$, donde $n$ es el número de elementos de la secuencia. En la siguiente figura podemos observar los índices negativos asociados a cada elemento de la cadena almacenada en la variable `nombre`."
   ]
  },
  {
   "cell_type": "markdown",
   "metadata": {},
   "source": [
    "![](img/cadenas/strings_negative_index.svg)"
   ]
  },
  {
   "cell_type": "markdown",
   "metadata": {},
   "source": [
    "Así, si quisiéramos acceder al último elemento de dicha cadena, podríamos hacerlo utilizando el índice `-1`:"
   ]
  },
  {
   "cell_type": "code",
   "execution_count": 62,
   "metadata": {},
   "outputs": [
    {
     "data": {
      "text/plain": [
       "'a'"
      ]
     },
     "execution_count": 62,
     "metadata": {},
     "output_type": "execute_result"
    }
   ],
   "source": [
    "nombre[-1]"
   ]
  },
  {
   "cell_type": "markdown",
   "metadata": {},
   "source": [
    "Es importante tener en cuenta que una cadena de caracteres no sólo está compuesta de símbolos alfanuméricos, sino también signos de puntuación o espacios en blanco o saltos de línea, etc. Vamos a crear una variable llamada `frase`, en la cual guardamos una cadena compuesta por dos palabras, separadas por un espacio."
   ]
  },
  {
   "cell_type": "code",
   "execution_count": 63,
   "metadata": {},
   "outputs": [],
   "source": [
    "frase = \"Hola. Adiós.\""
   ]
  },
  {
   "cell_type": "markdown",
   "metadata": {},
   "source": [
    "Si accedemos al elemento en el índice `4`, podemos observar que este corresponde al punto:"
   ]
  },
  {
   "cell_type": "code",
   "execution_count": 64,
   "metadata": {},
   "outputs": [
    {
     "data": {
      "text/plain": [
       "'.'"
      ]
     },
     "execution_count": 64,
     "metadata": {},
     "output_type": "execute_result"
    }
   ],
   "source": [
    "frase[4]"
   ]
  },
  {
   "cell_type": "markdown",
   "metadata": {},
   "source": [
    "Ahora, si accedemos al elemento en el índice `5`, veremos que el elemento correspondiente es el espacio:"
   ]
  },
  {
   "cell_type": "code",
   "execution_count": 65,
   "metadata": {},
   "outputs": [
    {
     "data": {
      "text/plain": [
       "' '"
      ]
     },
     "execution_count": 65,
     "metadata": {},
     "output_type": "execute_result"
    }
   ],
   "source": [
    "frase[5]"
   ]
  },
  {
   "cell_type": "markdown",
   "metadata": {},
   "source": [
    "Ahora vamos a revisar una manera de acceder a una porción de una secuencia, no a un sólo elemento como lo hacemos con la indexación. Habitualmente se denomina *slicing* a este tipo de operación. Con la sintaxis `cadena[a:b]` podemos acceder al conjunto de caracteres comprendidos entre los índices `a` y `b-1`.\n",
    "\n",
    "Observa la siguiente línea, la cual nos permite *tomar* los elementos con índices 0 y 1:"
   ]
  },
  {
   "cell_type": "code",
   "execution_count": 66,
   "metadata": {},
   "outputs": [
    {
     "data": {
      "text/plain": [
       "'Cat'"
      ]
     },
     "execution_count": 66,
     "metadata": {},
     "output_type": "execute_result"
    }
   ],
   "source": [
    "nombre[0:3] # Elementos 0, 1 y 2"
   ]
  },
  {
   "cell_type": "markdown",
   "metadata": {},
   "source": [
    "Esta otra línea nos permite *acceder* a los elementos con índices 2, 3, 4, 5 y 6:"
   ]
  },
  {
   "cell_type": "code",
   "execution_count": 67,
   "metadata": {},
   "outputs": [
    {
     "data": {
      "text/plain": [
       "'alin'"
      ]
     },
     "execution_count": 67,
     "metadata": {},
     "output_type": "execute_result"
    }
   ],
   "source": [
    "nombre[3:7] # elementos 3, 4, 5 y 6"
   ]
  },
  {
   "cell_type": "markdown",
   "metadata": {},
   "source": [
    "Cómo ya habrás notado la cuestión es simple e intuitiva, sólo debemos tener cuidado con la notación y recordar que no se incluye el elemento dado por el índice superior, sino hasta el correspondiente al índice inmediatamente anterior a este. En la siguiente figura puedes observar una representación gráfica de las dos operaciones de *slicing* anteriores.\n",
    "\n",
    "![](img/cadenas/slicing.svg)"
   ]
  },
  {
   "cell_type": "markdown",
   "metadata": {},
   "source": [
    "Cuando se prescinde de uno de los índices en la notación de *slicing*, se asume que se toman todos los valores desde el inicio hasta el índice indicado menos uno; o bien desde el índice establecido hasta el final de la cadena; esto dependende, obviamente, del índice del cual se prescinda.\n",
    "\n",
    "Por ejemplo, la siguiente línea toma los elementos desde el inicio de la cadena hasta el índice `4-1`:"
   ]
  },
  {
   "cell_type": "code",
   "execution_count": 68,
   "metadata": {},
   "outputs": [
    {
     "data": {
      "text/plain": [
       "'Cata'"
      ]
     },
     "execution_count": 68,
     "metadata": {},
     "output_type": "execute_result"
    }
   ],
   "source": [
    "nombre[:4]"
   ]
  },
  {
   "cell_type": "markdown",
   "metadata": {},
   "source": [
    "Esta otra línea toma los elementos desde el índice `4` hasta el final de la cadena."
   ]
  },
  {
   "cell_type": "code",
   "execution_count": 69,
   "metadata": {},
   "outputs": [
    {
     "data": {
      "text/plain": [
       "'lina'"
      ]
     },
     "execution_count": 69,
     "metadata": {},
     "output_type": "execute_result"
    }
   ],
   "source": [
    "nombre[4:]"
   ]
  },
  {
   "cell_type": "markdown",
   "metadata": {},
   "source": [
    "La siguiente imagen muestra una representación gráfica de lo descrito anteriormente.\n",
    "\n",
    "![](img/cadenas/slicing_2.svg)"
   ]
  },
  {
   "cell_type": "markdown",
   "metadata": {},
   "source": [
    "De una cadena de caracteres también pueden obtenerse un conjunto de elementos sin tomarlos de uno en uno, sino cada dos, cada tres, etc. Si utilizamos la notación `cadena[a:b:n]`, nos devolverá el conjunto de elementos comprendidos entre los índices `a` y `b-1`, tomados cada `n` elementos. Observa el siguiente ejemplo:"
   ]
  },
  {
   "cell_type": "code",
   "execution_count": 1,
   "metadata": {},
   "outputs": [
    {
     "data": {
      "text/plain": [
       "'Au'"
      ]
     },
     "execution_count": 1,
     "metadata": {},
     "output_type": "execute_result"
    }
   ],
   "source": [
    "nombre = \"Agustín\"\n",
    "nombre[0:4:2]"
   ]
  },
  {
   "cell_type": "markdown",
   "metadata": {},
   "source": [
    "La línea anterior nos devuelve los elementos ubicados en los índices $0, 1, 2 \\, y \\, 3$, pero de estos únicamente los *toma* a cada dos elementos, es decir:\n",
    "\n",
    "* Comenzamos tomando el elemento de índice $0$ (letra `A`), \n",
    "* *Ignoramos* el elemento de índice $1$ (letra `g`) \n",
    "* *Tomamos* el elemento de índice $2$ (letra `u`)\n",
    "* *Ignoramos* el elemento de índice $3$ (letra `s`)\n",
    "\n",
    "En este punto se han agotado todos los elementos comprendidos entre los límites indicados, podemos observar que los únicos elementos *tomados* y devueltos por la instrucción `nombre[0:4:2]` son la letra `A` y `u`, tal como se mostraba en la línea anterior. En la siguiente figura se muestra un esquema gráfico de esta operación.\n",
    "\n",
    "![](img/cadenas/slicing_3.svg)"
   ]
  },
  {
   "cell_type": "markdown",
   "metadata": {},
   "source": [
    "Veamos ahora otro ejemplo con la misma cadena:"
   ]
  },
  {
   "cell_type": "code",
   "execution_count": 2,
   "metadata": {},
   "outputs": [
    {
     "data": {
      "text/plain": [
       "'sn'"
      ]
     },
     "execution_count": 2,
     "metadata": {},
     "output_type": "execute_result"
    }
   ],
   "source": [
    "nombre[3:7:3]"
   ]
  },
  {
   "cell_type": "markdown",
   "metadata": {},
   "source": [
    "Observa que en este caso tomamos los elementos ubicados en los índices $3, 4, 5 \\, y \\, 6$, pero tomados cada tres elementos, es decir:\n",
    "\n",
    "* *Tomamos* el elemento ubicado en el índice `3` (letra `s`)\n",
    "* *Ignoramos* el elemento ubicado en el índice `4` (letra `t`)\n",
    "* *Ignoramos* el elemento ubicado en el índice `5` (letra `í`)\n",
    "* *Tomamos* el elemento ubicado en el índice `6` (letra `n`)\n",
    "\n",
    "Una representación gráfica de esta operación la puedes observar en la siguiente figura.\n",
    "\n",
    "![](img/cadenas/slicing_4.svg)"
   ]
  },
  {
   "cell_type": "markdown",
   "metadata": {},
   "source": [
    "Si quisiéramos tomar todos los elementos de una cadena a cada dos, podríamos hacer lo siguiente:"
   ]
  },
  {
   "cell_type": "code",
   "execution_count": 3,
   "metadata": {},
   "outputs": [
    {
     "data": {
      "text/plain": [
       "'Autn'"
      ]
     },
     "execution_count": 3,
     "metadata": {},
     "output_type": "execute_result"
    }
   ],
   "source": [
    "nombre[::2]"
   ]
  },
  {
   "cell_type": "markdown",
   "metadata": {},
   "source": [
    "Una manera muy sencilla de invertir el orden de los elementos en una cadena de texto es utilizando esta notación de *slicing*, pero utilizando un valor negativo. Observa lo siguiente:"
   ]
  },
  {
   "cell_type": "code",
   "execution_count": 4,
   "metadata": {},
   "outputs": [
    {
     "data": {
      "text/plain": [
       "'nítsugA'"
      ]
     },
     "execution_count": 4,
     "metadata": {},
     "output_type": "execute_result"
    }
   ],
   "source": [
    "nombre[::-1]"
   ]
  },
  {
   "cell_type": "markdown",
   "metadata": {},
   "source": [
    "Puedes notar rápidamente que se toman todos los elementos de la cadena, pero comenzando desde el final con un *paso* negativo. Lo mismo se podría hacer pero tomando a cada dos elementos, de la siguiente manera:"
   ]
  },
  {
   "cell_type": "code",
   "execution_count": 5,
   "metadata": {},
   "outputs": [
    {
     "data": {
      "text/plain": [
       "'ntuA'"
      ]
     },
     "execution_count": 5,
     "metadata": {},
     "output_type": "execute_result"
    }
   ],
   "source": [
    "nombre[::-2]"
   ]
  },
  {
   "cell_type": "markdown",
   "metadata": {},
   "source": [
    "## Mayúsculas y minúsculas"
   ]
  },
  {
   "cell_type": "markdown",
   "metadata": {},
   "source": [
    "Cuando se trabaja con texto en ocasiones puede ser necesario hacer modificaciones en lo que corresponde a la presencia de mayúsculas y minúsculas. Podríamos por ejemplo tener de *entrada* un texto completamente en mayúsculas y convertirlo en minúsculas, o el caso contrario. En Python las cadenas de caracteres disponen de los métodos `upper` y `lower` que nos permiten convertir en mayúsculas y minúsculas, de manera respectiva, todas las letras que conforman una cadena de texto.\n",
    "\n",
    "Vamos a definir una variable `frase` en la cual *guardaremos* la siguiente cadena:"
   ]
  },
  {
   "cell_type": "code",
   "execution_count": 42,
   "metadata": {},
   "outputs": [],
   "source": [
    "frase = \"Hola mundo\""
   ]
  },
  {
   "cell_type": "markdown",
   "metadata": {},
   "source": [
    "Si quisiéramos convertir toda la cadena en mayúsculas utilizamos el método `upper`:"
   ]
  },
  {
   "cell_type": "code",
   "execution_count": 45,
   "metadata": {},
   "outputs": [
    {
     "data": {
      "text/plain": [
       "'HOLA MUNDO'"
      ]
     },
     "execution_count": 45,
     "metadata": {},
     "output_type": "execute_result"
    }
   ],
   "source": [
    "frase.upper()"
   ]
  },
  {
   "cell_type": "markdown",
   "metadata": {},
   "source": [
    "Si por el contrario quisiéramos que todas las letras fueran minúsculas utilizamos el método `lower`:"
   ]
  },
  {
   "cell_type": "code",
   "execution_count": 46,
   "metadata": {},
   "outputs": [
    {
     "data": {
      "text/plain": [
       "'hola mundo'"
      ]
     },
     "execution_count": 46,
     "metadata": {},
     "output_type": "execute_result"
    }
   ],
   "source": [
    "frase.lower()"
   ]
  },
  {
   "cell_type": "markdown",
   "metadata": {},
   "source": [
    "Debes tener cuidado y considerar que al momento de utilizar los métodos `upper` y `lower`, estos no modifican a la cadena de caracteres almacenada en `frase`, sino que devuelven una nueva cadena con las modificaciones realizadas. Esto se debe a que las cadenas en Python son objetos *inmutables* y una vez creadas no pueden modificarse. Observa que si en este punto imprimimos la variable `frase` tendríamos exactamente la misma cadena (sin modificar) definida inicialmente:"
   ]
  },
  {
   "cell_type": "code",
   "execution_count": 52,
   "metadata": {},
   "outputs": [
    {
     "name": "stdout",
     "output_type": "stream",
     "text": [
      "Hola mundo\n"
     ]
    }
   ],
   "source": [
    "print(frase)"
   ]
  },
  {
   "cell_type": "markdown",
   "metadata": {},
   "source": [
    "Si quisieras modificar la cadena almacenada en la variable `frase`, entonces tendrías que hacer una reasignación, como se muestra en el siguiente ejemplo:"
   ]
  },
  {
   "cell_type": "code",
   "execution_count": 58,
   "metadata": {},
   "outputs": [
    {
     "name": "stdout",
     "output_type": "stream",
     "text": [
      "HOLA MUNDO\n"
     ]
    }
   ],
   "source": [
    "frase = frase.upper()\n",
    "print(frase)"
   ]
  },
  {
   "cell_type": "markdown",
   "metadata": {},
   "source": [
    "Podemos observar que ahora la variable `frase` almacena la versión en mayúsculas de la cadena."
   ]
  },
  {
   "cell_type": "markdown",
   "metadata": {},
   "source": [
    "Otro método que puede resultarte de utilidad es `capitalize`, el cual te permite colocar la primera letra en mayúsculas y todas las demás en minúsculas, como habitualmente ocurre con una oración. Observa el ejemplo siguiente:"
   ]
  },
  {
   "cell_type": "code",
   "execution_count": 60,
   "metadata": {},
   "outputs": [
    {
     "data": {
      "text/plain": [
       "'Mi perro es color bermejo'"
      ]
     },
     "execution_count": 60,
     "metadata": {},
     "output_type": "execute_result"
    }
   ],
   "source": [
    "texto = \"mi perro es color bermejo\"\n",
    "texto.capitalize()"
   ]
  },
  {
   "cell_type": "markdown",
   "metadata": {},
   "source": [
    "## Formateo de cadenas de caracteres"
   ]
  },
  {
   "cell_type": "markdown",
   "metadata": {},
   "source": [
    "En el contexto de este capítulo entenderemos el formateo de una cadena de caracteres como las operaciones o instrucciones que permiten obtener una cadena final a partir de la unión o sustitución de un conjunto de datos. \n",
    "\n",
    "Previamente hemos aprendido que podemos concatenar cadenas, así por ejemplo si tuviéramos un programa que pide el nombre y  apellidos del usuario, podríamos unir esa información mediante concatenación y generar, por ejemplo, un saludo personalizado, observemos:"
   ]
  },
  {
   "cell_type": "code",
   "execution_count": 12,
   "metadata": {},
   "outputs": [
    {
     "name": "stdout",
     "output_type": "stream",
     "text": [
      "Ingresa tu nombre: Jorge\n",
      "Ingresa tus apellidos: De Los Santos\n",
      "Hola Jorge De Los Santos, bienvenid@.\n"
     ]
    }
   ],
   "source": [
    "nombre = input(\"Ingresa tu nombre: \")\n",
    "apellidos = input(\"Ingresa tus apellidos: \")\n",
    "saludo = \"Hola \" + nombre + \" \" + apellidos + \", bienvenid@.\"\n",
    "print(saludo)"
   ]
  },
  {
   "cell_type": "markdown",
   "metadata": {},
   "source": [
    "Una manera más conveniente de lograr lo anterior es haciendo formateo de cadenas, a diferencia de la concatenación suele ser una forma más limpia y mantenible de generar cadenas en donde hay valores que van a cambiarse de forma dinámica dependiendo los datos que se generen durante la ejecución del código.\n",
    "\n",
    "Por ejemplo lo anterior podría hacerse utilizando el método `format` de las cadenas de caracteres, de la siguiente manera:"
   ]
  },
  {
   "cell_type": "code",
   "execution_count": 13,
   "metadata": {},
   "outputs": [
    {
     "name": "stdout",
     "output_type": "stream",
     "text": [
      "Ingresa tu nombre: Jorge\n",
      "Ingresa tus apellidos: De Los Santos\n",
      "Hola Jorge De Los Santos, bienvenid@.\n"
     ]
    }
   ],
   "source": [
    "nombre = input(\"Ingresa tu nombre: \")\n",
    "apellidos = input(\"Ingresa tus apellidos: \")\n",
    "saludo = \"Hola {0} {1}, bienvenid@.\".format(nombre, apellidos)\n",
    "print(saludo)"
   ]
  },
  {
   "cell_type": "markdown",
   "metadata": {},
   "source": [
    "Los términos `{0}` y `{1}` son los marcadores de posición (*placeholders*) que indican que esa posición será ocupada por los argumentos pasados al método `format`, que en este caso son los valores almacenados en `nombre` y `apellidos`."
   ]
  },
  {
   "cell_type": "markdown",
   "metadata": {},
   "source": [
    "Otra manera de realizar lo anterior es utilizando los *f-strings*, observemos el siguiente código:"
   ]
  },
  {
   "cell_type": "code",
   "execution_count": 14,
   "metadata": {},
   "outputs": [
    {
     "name": "stdout",
     "output_type": "stream",
     "text": [
      "Ingresa tu nombre: Jorge\n",
      "Ingresa tus apellidos: De Los Santos\n",
      "Hola Jorge De Los Santos, bienvenid@.\n"
     ]
    }
   ],
   "source": [
    "nombre = input(\"Ingresa tu nombre: \")\n",
    "apellidos = input(\"Ingresa tus apellidos: \")\n",
    "saludo = f\"Hola {nombre} {apellidos}, bienvenid@.\"\n",
    "print(saludo)"
   ]
  },
  {
   "cell_type": "markdown",
   "metadata": {},
   "source": [
    "Los *f-strings* son la manera más conveniente de formatear strings en Python, están disponibles desde la versión 3.6. Puedes observar que únicamente anteponemos una `f` a la definición de la cadena, esto nos permite utilizar marcadores de posición que hacen uso directamente del nombre de variables dentro del string, lo cual hace que se gane mucho en concisión y claridad. En lo subsiguiente vamos a describir las dos formas anteriores de formatear strings."
   ]
  },
  {
   "cell_type": "markdown",
   "metadata": {},
   "source": [
    "### El método `format`"
   ]
  },
  {
   "cell_type": "markdown",
   "metadata": {},
   "source": [
    "El método `format` permite dar formato a cadenas de caracteres, mediante la sintaxis:\n",
    "\n",
    "```\n",
    "string.format(arg1, arg2, ...)\n",
    "```\n",
    "\n",
    "Donde `string` es una cadena de caracteres que contiene marcadores de posición que serán sustituidos por los valores `arg1`, `arg2`, etc. Los marcadores de posición se definen utilizando llaves y dentro de ellas se puede colocar un número, un nombre o una expresión que permitirá formatear el valor pasado como argumento. \n",
    "\n",
    "Veamos el siguiente ejemplo:"
   ]
  },
  {
   "cell_type": "code",
   "execution_count": 19,
   "metadata": {},
   "outputs": [
    {
     "name": "stdout",
     "output_type": "stream",
     "text": [
      "1 + 2\n"
     ]
    }
   ],
   "source": [
    "texto = \"{} + {}\"\n",
    "print( texto.format(1,2) )"
   ]
  },
  {
   "cell_type": "markdown",
   "metadata": {},
   "source": [
    "Observa que los dos pares de llaves se reemplazan por los valores numéricos pasados como argumentos, en ese mismo orden. Si quisiéramos *controlar* explícitamente el orden de aparición dentro de la cadena podríamos utilizar marcadores de posición con un consecutivo (índice), por ejemplo:"
   ]
  },
  {
   "cell_type": "code",
   "execution_count": 27,
   "metadata": {},
   "outputs": [
    {
     "name": "stdout",
     "output_type": "stream",
     "text": [
      "2 + 1\n"
     ]
    }
   ],
   "source": [
    "texto = \"{1} + {0}\"\n",
    "print( texto.format(1,2) )"
   ]
  },
  {
   "cell_type": "markdown",
   "metadata": {},
   "source": [
    "Lo anterior indica que `{0}` se sustituirá por el primer argumento pasado al método `format`, `{1}` por el segundo argumento y así de manera consecutiva en el caso de que hubiera más argumentos.\n",
    "\n",
    "Es posible también utilizar argumentos nombrados para el método `format` e indicarlos con dicho en el marcador de posición, observa lo siguiente:"
   ]
  },
  {
   "cell_type": "code",
   "execution_count": 28,
   "metadata": {},
   "outputs": [
    {
     "name": "stdout",
     "output_type": "stream",
     "text": [
      "Pérez López, Juan\n"
     ]
    }
   ],
   "source": [
    "texto = \"{apellidos}, {nombre}\"\n",
    "print( texto.format(nombre=\"Juan\", apellidos=\"Pérez López\") )"
   ]
  },
  {
   "cell_type": "markdown",
   "metadata": {},
   "source": [
    "En algunas situaciones cuando trabajamos con números es muy probable que necesitemos mostrar los resultados con cierta cantidad de decimales o cifras significativas y/o en una notación específica, con `format` tenemos algunas posibilidades. Por ejemplo, vamos a mostrar el valor de $pi$ con algunos decimales:"
   ]
  },
  {
   "cell_type": "code",
   "execution_count": 30,
   "metadata": {},
   "outputs": [
    {
     "name": "stdout",
     "output_type": "stream",
     "text": [
      "3.14159265359\n"
     ]
    }
   ],
   "source": [
    "texto = \"{pi}\"\n",
    "print(texto.format(pi=3.14159265359))"
   ]
  },
  {
   "cell_type": "markdown",
   "metadata": {},
   "source": [
    "Si quisiéremos mostrar únicamente cuatro decimales podríamos hacerlo de la siguiente manera:"
   ]
  },
  {
   "cell_type": "code",
   "execution_count": 31,
   "metadata": {},
   "outputs": [
    {
     "name": "stdout",
     "output_type": "stream",
     "text": [
      "3.1416\n"
     ]
    }
   ],
   "source": [
    "texto = \"{pi:.4f}\"\n",
    "print(texto.format(pi=3.14159265359))"
   ]
  },
  {
   "cell_type": "markdown",
   "metadata": {},
   "source": [
    "Observa que colocamos dos puntos y enseguida un *especificador de formato* `.4f`, este especificador le indica al método `format` que únicamente queremos mostrar cuatro decimales. Si quisiéramos mostrar seis decimales utilzaríamos `.6f`, y así con cualquier otra cantidad. En lo anterior `f` es el indicativo de un formateo de punto fijo.\n",
    "\n",
    "Podemos también mostrar un número utilizando notación científica, para ello utilizamos el especificador de formato `E` o `e`. En las calculadores se suele utilizar el caracter `E` (o alguno similar) para indicar 10 elevado a una potencia, por ejemplo `3.5E5` sería el equivalente de $3.5 \\times 10^5$. Veamos como funciona:"
   ]
  },
  {
   "cell_type": "code",
   "execution_count": 42,
   "metadata": {},
   "outputs": [
    {
     "name": "stdout",
     "output_type": "stream",
     "text": [
      "El esfuerzo normal es de 3.125000E+06 Pa\n"
     ]
    }
   ],
   "source": [
    "fuerza = 7500\n",
    "area = 0.08 * 0.03 \n",
    "esfuerzo = fuerza / area\n",
    "texto = \"El esfuerzo normal es de {0:E} Pa\"\n",
    "print( texto.format(esfuerzo) )"
   ]
  },
  {
   "cell_type": "markdown",
   "metadata": {},
   "source": [
    "Podemos controlar también el número de decimales a mostrar:"
   ]
  },
  {
   "cell_type": "code",
   "execution_count": 51,
   "metadata": {},
   "outputs": [
    {
     "name": "stdout",
     "output_type": "stream",
     "text": [
      "El esfuerzo normal es de 3.13E+06 Pa\n"
     ]
    }
   ],
   "source": [
    "fuerza = 7500\n",
    "area = 0.08 * 0.03 \n",
    "esfuerzo = fuerza / area\n",
    "texto = \"El esfuerzo normal es de {0:.2E} Pa\"\n",
    "print( texto.format(esfuerzo) )"
   ]
  },
  {
   "cell_type": "code",
   "execution_count": 22,
   "metadata": {},
   "outputs": [
    {
     "name": "stdout",
     "output_type": "stream",
     "text": [
      "75.00%\n"
     ]
    }
   ],
   "source": [
    "print( \"{0:.2%}\".format(0.75) )"
   ]
  },
  {
   "cell_type": "markdown",
   "metadata": {},
   "source": [
    "### Los *f-strings*"
   ]
  },
  {
   "cell_type": "markdown",
   "metadata": {},
   "source": [
    "A partir de la versión 3.6 de Python podemos hacer uso de los *f-strings* para formatear cadenas de caracteres de una forma mucho más conveniente. Con los *f-strings* podemos sustituir directamente en la cadena el valor de una variable o el resultado de un conjunto de operaciones, observa lo siguiente:"
   ]
  },
  {
   "cell_type": "code",
   "execution_count": 1,
   "metadata": {},
   "outputs": [
    {
     "name": "stdout",
     "output_type": "stream",
     "text": [
      "10 + 20 = 30\n"
     ]
    }
   ],
   "source": [
    "a = 10\n",
    "b = 20\n",
    "print(f\"{a} + {b} = {a + b}\")"
   ]
  },
  {
   "cell_type": "markdown",
   "metadata": {},
   "source": [
    "Primero, debemos notar que para que Python pueda interpretar que estamos creando un *f-string* debemos anteponerle una `f` a la definición de la cadena de caracteres. Observa que los nombres de las variables encerrados entre llaves `{a}` y `{b}` se sustituyen por el valor *guardado* en cada variable, la expresión `{a + b}` nos permite evaluar una operación de suma aritmética entre los dos valores numéricos almacenados en `a` y `b` y sustituir el resultado en la cadena."
   ]
  },
  {
   "cell_type": "markdown",
   "metadata": {},
   "source": [
    "Las especificaciones de formato descritas para el método `format` siguen siendo válidas en los `f-strings`."
   ]
  },
  {
   "cell_type": "code",
   "execution_count": 14,
   "metadata": {},
   "outputs": [
    {
     "name": "stdout",
     "output_type": "stream",
     "text": [
      "El esfuerzo normal es de 3.13E+06 Pa\n"
     ]
    }
   ],
   "source": [
    "fuerza = 7500\n",
    "area = 0.08 * 0.03 \n",
    "esfuerzo = fuerza / area\n",
    "texto = f\"El esfuerzo normal es de {esfuerzo:.2E} Pa\"\n",
    "print( texto )"
   ]
  },
  {
   "cell_type": "markdown",
   "metadata": {},
   "source": [
    "Naturalmente, es mucho más sencillo (tanto para la escritura, lectura como para el mantenimiento del código) sustituir directamente el nombre de una variable dentro de la cadena de caracteres."
   ]
  },
  {
   "cell_type": "markdown",
   "metadata": {},
   "source": [
    "Como ya se mencionaba, en los *f-strings* podemos sustituir el resultado de una operación o de una instrucción. Observa el siguiente ejemplo en el cual se muestra la equivalencia en el sistema binario de un entero expresado en el sistema decimal:"
   ]
  },
  {
   "cell_type": "code",
   "execution_count": 27,
   "metadata": {},
   "outputs": [
    {
     "name": "stdout",
     "output_type": "stream",
     "text": [
      "Inserta un entero: 12\n",
      "El número 12 en binario es 0b1100\n"
     ]
    }
   ],
   "source": [
    "n = int( input(\"Inserta un entero: \") )\n",
    "print( f\"El número {n} en binario es {bin(n)}\" )"
   ]
  },
  {
   "cell_type": "markdown",
   "metadata": {},
   "source": [
    "Podemos observar que dentro del *f-string* se hace una invocación a la función `bin`, la cual es una función nativa de Python que recibe un entero y devuelve su representación en el sistema binario. Lo anterior también podríamos lograrlo sin necesidad de hacer uso de la función `bin`, sino en su lugar modificar los especificadores de formato, tal como se muestra enseguida:"
   ]
  },
  {
   "cell_type": "code",
   "execution_count": 28,
   "metadata": {},
   "outputs": [
    {
     "name": "stdout",
     "output_type": "stream",
     "text": [
      "Inserta un entero: 12\n",
      "El número 12 en binario es 1100\n"
     ]
    }
   ],
   "source": [
    "n = int( input(\"Inserta un entero: \") )\n",
    "print( f\"El número {n} en binario es {n:b}\" )"
   ]
  },
  {
   "cell_type": "markdown",
   "metadata": {},
   "source": [
    "El modificador de formato `:b` indica que el valor pasado en el *placeholder* se debe mostrar en formato binario."
   ]
  },
  {
   "cell_type": "code",
   "execution_count": null,
   "metadata": {},
   "outputs": [],
   "source": []
  },
  {
   "cell_type": "markdown",
   "metadata": {},
   "source": [
    "## Buscando en una cadena de caracteres"
   ]
  },
  {
   "cell_type": "markdown",
   "metadata": {},
   "source": [
    "En este apartado vamos a revisar cómo buscar una cierta secuencia de caracteres dentro de una cadena. Buscar coincidencias en un texto suele ser una tarea muy común para algunos sistemas automatizados. En Python, las cadenas de caracteres poseen métodos que permiten *buscar* en ellas coincidencias. \n",
    "\n",
    "Vamos a crear una variable `frase`, en la cual *almacenaremos* una cadena de caracteres:"
   ]
  },
  {
   "cell_type": "code",
   "execution_count": 43,
   "metadata": {},
   "outputs": [],
   "source": [
    "frase = \"La estrella más cercana es Próxima Centauri\""
   ]
  },
  {
   "cell_type": "markdown",
   "metadata": {},
   "source": [
    "Si quisiéramos saber cuántas veces aparece en esa frase una cierta letra, entonces podríamos utilizar el método `count`. Este método simplemente recibe como argumento la secuencia de caracteres que queremos buscar y nos devuelve la cantidad de veces que dicha secuencia de caracteres aparece, tal como se muestra enseguida:"
   ]
  },
  {
   "cell_type": "code",
   "execution_count": 49,
   "metadata": {},
   "outputs": [
    {
     "data": {
      "text/plain": [
       "6"
      ]
     },
     "execution_count": 49,
     "metadata": {},
     "output_type": "execute_result"
    }
   ],
   "source": [
    "frase.count(\"a\")"
   ]
  },
  {
   "cell_type": "markdown",
   "metadata": {},
   "source": [
    "Observa que en la línea anterior estamos buscando cuántas veces aparece la letra `a` dentro de `frase`. Si contamos *manualmente*, podrás observar que el método `count` está ignorando la letra `á` con tilde. Naturalmente, Python no puede saber, al menos en principio, que `á` es también una letra `a`, pero con la particularidad escrita de la tilde. Una manera bastante simplista de considerar en la contabilización a la letra `á` tildada sería como sigue:"
   ]
  },
  {
   "cell_type": "code",
   "execution_count": 51,
   "metadata": {},
   "outputs": [
    {
     "data": {
      "text/plain": [
       "7"
      ]
     },
     "execution_count": 51,
     "metadata": {},
     "output_type": "execute_result"
    }
   ],
   "source": [
    "frase.count(\"a\") + frase.count(\"á\")"
   ]
  },
  {
   "cell_type": "markdown",
   "metadata": {},
   "source": [
    "Con el método `count` no solamente podemos contabilizar el número de veces que aparece un caracter, sino también cualquier secuencia de caracteres. Observa el siguiente ejemplo:"
   ]
  },
  {
   "cell_type": "code",
   "execution_count": 56,
   "metadata": {},
   "outputs": [],
   "source": [
    "texto = \"\"\"Los amorosos callan.\n",
    "El amor es el silencio más fino,\n",
    "el más tembloroso, el más insoportable.\n",
    "Los amorosos buscan,\n",
    "los amorosos son los que abandonan,\n",
    "son los que cambian, los que olvidan.\n",
    "\"\"\""
   ]
  },
  {
   "cell_type": "code",
   "execution_count": 57,
   "metadata": {},
   "outputs": [
    {
     "data": {
      "text/plain": [
       "1"
      ]
     },
     "execution_count": 57,
     "metadata": {},
     "output_type": "execute_result"
    }
   ],
   "source": [
    "texto.count(\"silencio\")"
   ]
  },
  {
   "cell_type": "markdown",
   "metadata": {},
   "source": [
    "Con la línea anterior buscamos la cadena `silencio` dentro del texto creado. Hay que ser un poco precavidos cuando utilizamos el método `count`, veamos el siguiente caso:"
   ]
  },
  {
   "cell_type": "code",
   "execution_count": 62,
   "metadata": {},
   "outputs": [
    {
     "data": {
      "text/plain": [
       "4"
      ]
     },
     "execution_count": 62,
     "metadata": {},
     "output_type": "execute_result"
    }
   ],
   "source": [
    "texto.count(\"amor\")"
   ]
  },
  {
   "cell_type": "markdown",
   "metadata": {},
   "source": [
    "De acuerdo con lo anterior la secuencia de caracteres `amor` aparece cuatro veces. Si observas el texto verás que la palabra amor aparece una sola vez, sin embargo la subcadena `amor` forma parte también de la palabra `amorosos`, la cual aparece tres veces. Si quisiéramos únicamente contabilizar la palabra `amor`, como tal, tendríamos que añadir los espacios en blancos al inicio y final de la palabra, es decir, algo como lo siguiente:"
   ]
  },
  {
   "cell_type": "code",
   "execution_count": 63,
   "metadata": {},
   "outputs": [
    {
     "data": {
      "text/plain": [
       "1"
      ]
     },
     "execution_count": 63,
     "metadata": {},
     "output_type": "execute_result"
    }
   ],
   "source": [
    "texto.count(\" amor \")"
   ]
  },
  {
   "cell_type": "markdown",
   "metadata": {},
   "source": [
    "En el caso de que únicamente nos interese saber si una subcadena forma parte de un texto, podemos utilizar el operador `in`. De manera general, el operador `in` nos permite verificar si un determinado elemento está presente en una secuencia. Observa el siguiente ejemplo:"
   ]
  },
  {
   "cell_type": "code",
   "execution_count": 77,
   "metadata": {},
   "outputs": [],
   "source": [
    "texto = \"\"\"\n",
    "La ley de la gravedad de Newton nos dice también que cuanto más separados estén\n",
    "los cuerpos menor será la fuerza gravitatoria entre ellos.\n",
    "\"\"\""
   ]
  },
  {
   "cell_type": "code",
   "execution_count": 78,
   "metadata": {},
   "outputs": [
    {
     "data": {
      "text/plain": [
       "True"
      ]
     },
     "execution_count": 78,
     "metadata": {},
     "output_type": "execute_result"
    }
   ],
   "source": [
    "\"Newton\" in texto"
   ]
  },
  {
   "cell_type": "code",
   "execution_count": 79,
   "metadata": {},
   "outputs": [
    {
     "data": {
      "text/plain": [
       "False"
      ]
     },
     "execution_count": 79,
     "metadata": {},
     "output_type": "execute_result"
    }
   ],
   "source": [
    "\"Dirac\" in texto"
   ]
  },
  {
   "cell_type": "markdown",
   "metadata": {},
   "source": [
    "Podemos verificar que si la palabra (o secuencia de caracteres) que *buscamos* está contenida en la variable `texto`, entonces se devuelve un valor lógico `True`, de lo contrario devolverá un `False`, tal como se puede constatar al momento que buscamos la cadena `Dirac` dentro de `texto`."
   ]
  },
  {
   "cell_type": "markdown",
   "metadata": {},
   "source": [
    "---\n",
    "**Ejemplo. Contando vocales en una palabra**\n",
    "\n",
    "En este ejemplo vamos a desarrollar un programa que dada una palabra nos devuelva la cantidad vocales totales que hay en esta."
   ]
  },
  {
   "cell_type": "code",
   "execution_count": 1,
   "metadata": {},
   "outputs": [
    {
     "name": "stdout",
     "output_type": "stream",
     "text": [
      "En la palabra 'Perro' hay 2 vocales\n"
     ]
    }
   ],
   "source": [
    "palabra = \"Perro\"\n",
    "\n",
    "ka = palabra.count(\"a\") # cantidad de letras a\n",
    "ke = palabra.count(\"e\") # cantidad de letras e\n",
    "ki = palabra.count(\"i\") # cantidad de letras i\n",
    "ko = palabra.count(\"o\") # cantidad de letras o\n",
    "ku = palabra.count(\"u\") # cantidad de letras u\n",
    "\n",
    "numero_de_vocales = ka + ke + ki + ko + ku\n",
    "\n",
    "print(f\"En la palabra '{palabra}' hay {numero_de_vocales} vocales\")"
   ]
  },
  {
   "cell_type": "markdown",
   "metadata": {},
   "source": [
    "## Una breve introducción a las expresiones regulares"
   ]
  },
  {
   "cell_type": "code",
   "execution_count": null,
   "metadata": {},
   "outputs": [],
   "source": []
  },
  {
   "cell_type": "code",
   "execution_count": 18,
   "metadata": {},
   "outputs": [],
   "source": [
    "import re"
   ]
  },
  {
   "cell_type": "code",
   "execution_count": 43,
   "metadata": {},
   "outputs": [],
   "source": [
    "texto = \"Hoy es 12/11/2021 o bien 07/03/21 o 12-dic-2020\""
   ]
  },
  {
   "cell_type": "code",
   "execution_count": 46,
   "metadata": {},
   "outputs": [
    {
     "data": {
      "text/plain": [
       "['12/11/2021', '07/03/21', '12-dic-2020']"
      ]
     },
     "execution_count": 46,
     "metadata": {},
     "output_type": "execute_result"
    }
   ],
   "source": [
    "re.findall(\"(\\d{2}/\\d{2}/\\d{2,4}|\\d{2}-\\w{3}-\\d{2,4})\", texto)"
   ]
  },
  {
   "cell_type": "code",
   "execution_count": 48,
   "metadata": {},
   "outputs": [
    {
     "data": {
      "text/plain": [
       "<callable_iterator at 0x2d8dc81ecd0>"
      ]
     },
     "execution_count": 48,
     "metadata": {},
     "output_type": "execute_result"
    }
   ],
   "source": [
    "re.finditer(\"(\\d{2}/\\d{2}/\\d{2,4}|\\d{2}-\\w{3}-\\d{2,4})\", texto)"
   ]
  },
  {
   "cell_type": "code",
   "execution_count": null,
   "metadata": {},
   "outputs": [],
   "source": []
  }
 ],
 "metadata": {
  "kernelspec": {
   "display_name": "Python 3 (ipykernel)",
   "language": "python",
   "name": "python3"
  },
  "language_info": {
   "codemirror_mode": {
    "name": "ipython",
    "version": 3
   },
   "file_extension": ".py",
   "mimetype": "text/x-python",
   "name": "python",
   "nbconvert_exporter": "python",
   "pygments_lexer": "ipython3",
   "version": "3.9.7"
  },
  "toc": {
   "base_numbering": 1,
   "nav_menu": {
    "height": "462px",
    "width": "608px"
   },
   "number_sections": true,
   "sideBar": true,
   "skip_h1_title": false,
   "title_cell": "Contenido",
   "title_sidebar": "Contents",
   "toc_cell": true,
   "toc_position": {},
   "toc_section_display": true,
   "toc_window_display": false
  }
 },
 "nbformat": 4,
 "nbformat_minor": 4
}
