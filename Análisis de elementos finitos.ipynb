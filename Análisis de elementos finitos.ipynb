{
 "cells": [
  {
   "cell_type": "markdown",
   "metadata": {},
   "source": [
    "# Análisis de elementos finitos\n",
    "\n",
    "El análisis estructural es uno de los aspectos elementales para aquellos \n",
    "que nos dedicamos al diseño mecánico o cuestiones similares. En los cursos \n",
    "universitarios de resistencia de materiales se enseñan algunos métodos \n",
    "analíticos que permiten obtener soluciones rápidas para componentes mecánicos \n",
    "simples. No obstante, cuando las geometrías se complican se hace necesario \n",
    "utilizar el enfoque numérico e implementar una metodología de solución utilizando \n",
    "el método de los elementos finitos, el cual proporciona una solución aproximada \n",
    "que será adecuada en medida de ciertos criterios, tales como el tamaño y tipo de \n",
    "elementos, la física del problema, entre otros.\n",
    "\n",
    "El propósito del presente minicurso es introducir al lector en el uso de las \n",
    "herramientas numéricas que proporciona Python para la solución de problemas de \n",
    "análisis estructural utilizando el método de los elementos finitos.\n",
    "\n",
    "El método de los elementos finitos consiste \n",
    "en la discretización de un continuo en pequeños elementos, con la finalidad de \n",
    "establecer un sistema de ecuaciones que describa de manera aproximada el comportamiento \n",
    "individual y global del sistema, pasando por la inclusión de las condiciones de frontera y todas \n",
    "las consideraciones físicas que deriven en la simplificación del problema. \n",
    "\n",
    "En análisis numérico estructural el método de los desplazamientos o de la rigidez, asume \n",
    "que los desplazamientos nodales son las variables desconocidas y comúnmente se debe resolver \n",
    "una ecuación algebraica del tipo:\n",
    "\n",
    "$$ K U = F $$\n",
    "\n",
    "Donde $F$ es el vector de fuerzas nodales, $K$ la matriz global de rigidez y $U$ el vector \n",
    "de desplazamientos nodales.\n",
    "\n",
    "Dado que normalmente los desplazamientos son las incógnitas, se tiene que:\n",
    "\n",
    "$$ U = K^{-1} F $$\n",
    "\n",
    "En el caso de un análisis estático lineal esta ecuación se resuelve como se muestra: calculando la inversa de la matriz rigidez y multiplicando por el vector de fuerzas nodales, para el caso de un análisis no lineal se utilizan métodos iterativos.\n",
    "\n",
    "La matriz global $K$ se obtiene de ensamblar todas las matrices de rigidez por elemento acorde a la numeración o posición de \n",
    "sus nodos.\n",
    "\n",
    "\n",
    "## Elementos resorte\n",
    "\n",
    "El elemento resorte es el elemento finito más simple, tiene un grado de libertad (por cada nodo): traslación en dirección axial.\n",
    "\n",
    "![](/structural-analysis/spring_element.PNG)\n",
    "\n",
    "La matriz de rigidez para un elemento resorte viene dada por: \n",
    "\n",
    "$$ k^{(e)} = \n",
    "\\begin{bmatrix}\n",
    "k_e & - k_e \\\\\n",
    "- k_e & k_e \\\\\n",
    "\\end{bmatrix} $$\n",
    "\n",
    "La obtención de la matriz de rigidez puede consultarla en la mayoría de los libros introductorios de elementos finitos, por ejemplo en [1]. En lo anterior $k_e$ es la rigidez característica del resorte.\n",
    "\n",
    "\n",
    "\n",
    "Para ejemplificar cómo funciona el método de los elementos finitos en elementos de este tipo vamos a resolver el siguiente ejemplo.\n",
    "\n",
    "![](/structural-analysis/spring_01.png)\n",
    "\n",
    "Primero, las matrices de rigidez por elemento vienen dadas por:\n",
    "\n",
    "$$ \n",
    "k^{(1)} = \n",
    "\\begin{bmatrix}\n",
    "1000 & -1000 \\\\\n",
    "-1000 & 1000 \\\\\n",
    "\\end{bmatrix} \n",
    "\\,\\,\\,\\,\\,\\,\\,\\, ;\n",
    "k^{(2)} = \n",
    "\\begin{bmatrix}\n",
    "2000 & -2000 \\\\\n",
    "-2000 & 2000 \\\\\n",
    "\\end{bmatrix}\n",
    "\\,\\,\\,\\,\\,\\,\\,\\, ;\n",
    "k^{(3)} = \n",
    "\\begin{bmatrix}\n",
    "3000 & -3000 \\\\\n",
    "-3000 & 3000 \\\\\n",
    "\\end{bmatrix} \n",
    "$$\n",
    "\n",
    "La matriz global se obtiene ensamblando las matrices elementales utilizando el principio de superposición, es decir, asumiendo que los efectos individuales de cada elemento a la matriz global pueden adicionarse de manera independiente. Para esto se debe expandir la matriz de rigidez elemental y *rellenar* sólo las posiciones correspondientes a los nodos que componen el elemento.\n",
    "\n",
    "Por ejemplo, el elemento 1 está conformado por los nodos 1 y 3, entonces:\n",
    "\n",
    "$$\n",
    "K^{(1)} = \n",
    "\\begin{bmatrix}\n",
    "1000 & 0 & -1000 & 0\\\\\n",
    "0 & 0 & 0 & 0 \\\\\n",
    "-1000 & 0 & 1000 & 0 \\\\\n",
    "0 & 0 & 0 & 0 \\\\\n",
    "\\end{bmatrix} \n",
    "$$\n",
    "\n",
    "Mismo caso para los otros elementos:\n",
    "\n",
    "$$\n",
    "K^{(2)} = \n",
    "\\begin{bmatrix}\n",
    "0 & 0 & 0 & 0 \\\\\n",
    "0 & 0 & 0 & 0 \\\\\n",
    "0 & 0 & 2000 & -2000 \\\\\n",
    "0 & 0 & -2000 & 2000 \\\\\n",
    "\\end{bmatrix} \n",
    "$$\n",
    "\n",
    "$$\n",
    "K^{(3)} = \n",
    "\\begin{bmatrix}\n",
    "0 & 0 & 0 & 0 \\\\\n",
    "0 & 3000 & 0 & -3000 \\\\\n",
    "0 & 0 & 0 & 0 \\\\\n",
    "0 & -3000 & 0 & 3000 \\\\\n",
    "\\end{bmatrix} \n",
    "$$\n",
    "\n",
    "Luego, la matriz global de rigidez se obtiene sumando las matrices elementales expandidas:\n",
    "\n",
    "$$\n",
    "K = \n",
    "\\begin{bmatrix}\n",
    "1000 & 0 & -1000 & 0 \\\\\n",
    "0 & 3000 & 0 & -3000 \\\\\n",
    "-1000 & 0 & 3000 & -2000 \\\\\n",
    "0 & -3000 & -2000 & 5000 \\\\\n",
    "\\end{bmatrix} \n",
    "$$\n",
    "\n",
    "Quedando el sistema de ecuaciones como:\n",
    "\n",
    "$$\\begin{bmatrix}\n",
    "1000 & 0 & -1000 & 0 \\\\\n",
    "0 & 3000 & 0 & -3000 \\\\\n",
    "-1000 & 0 & 3000 & -2000 \\\\\n",
    "0 & -3000 & -2000 & 5000\n",
    "\\end{bmatrix} \n",
    "\\begin{bmatrix}\n",
    "u_1 \\\\ u_2 \\\\ u_3 \\\\ u_4\n",
    "\\end{bmatrix} =\n",
    "\\begin{bmatrix}\n",
    "0 \\\\ 0 \\\\ 0 \\\\ 5000\n",
    "\\end{bmatrix} $$\n"
   ]
  },
  {
   "cell_type": "code",
   "execution_count": 2,
   "metadata": {},
   "outputs": [
    {
     "name": "stdout",
     "output_type": "stream",
     "text": [
      "1  UX = 0.0000      FX = -909.0909\n",
      "2  UX = 0.0000      FX = -4090.9091\n",
      "3  UX = 0.9091      FX = 0.0000  \n",
      "4  UX = 1.3636      FX = 5000.0000\n"
     ]
    }
   ],
   "source": [
    "import numpy as np\n",
    "import numpy.linalg as la\n",
    "\n",
    "# Datos iniciales\n",
    "k1 = 1000.0\n",
    "k2 = 2000.0\n",
    "k3 = 3000.0\n",
    "P = 5000.0\n",
    "\n",
    "# Matrices por elemento\n",
    "K1 = np.array([[k1,-k1],[-k1,k1]])\n",
    "K2 = np.array([[k2,-k2],[-k2,k2]])\n",
    "K3 = np.array([[k3,-k3],[-k3,k3]])\n",
    "\n",
    "# Matriz global \n",
    "K = np.array([[  K1[0,0],        0,           K1[0,1],                0],\n",
    "               [      0 ,  K3[0,0],                 0,          K3[0,1]],\n",
    "               [ K1[1,0],        0,   K1[1,1]+K2[0,0],          K2[0,1]],\n",
    "               [       0,  K3[1,0],           K2[1,0],  K2[1,1]+K3[1,1]]])\n",
    "\n",
    "F = np.array([0, 0, 0, P])\n",
    "\n",
    "# Condiciones de frontera\n",
    "# Nodos 1 y 2 conocidos -> UX = 0\n",
    "KS = K[2:,2:]\n",
    "FS = F[2:]\n",
    "\n",
    "# Resolviendo\n",
    "USOL = la.solve(KS, FS)\n",
    "\n",
    "# Vector de desplazamientos\n",
    "USOL = np.concatenate(([0,0],USOL))\n",
    "\n",
    "# Obteniendo las fuerzas nodales\n",
    "NF = np.dot(K,USOL)\n",
    "\n",
    "# Presentando los resultados\n",
    "for nodo in range(4):\n",
    "    print(\"%g  UX = %-8.4f    FX = %-8.4f\"%(nodo+1, USOL[nodo], NF[nodo]))"
   ]
  },
  {
   "cell_type": "markdown",
   "metadata": {},
   "source": [
    "# Utilizando [NuSA](https://github.com/JorgeDeLosSantos/nusa): una librería para análisis estructural\n",
    "\n",
    "**NuSA** es una librería Python para el análisis estructural, que facilita el planteamiento y la solución de este tipo de análisis mediante una colección de clases que reciben como dato de entrada las características elementales de un modelo: coordenadas modales, propiedades del material, condiciones de frontera, etc., y retorna valores de salida básicos como desplazamientos y fuerzas.\n",
    "\n",
    "Para testear las capacidades de **NuSA** vamos a resolver el ejemplo del elemento resorte. Lo primero es importar las clases que usaremos: `Node`, `Spring` y `SpringModel`."
   ]
  },
  {
   "cell_type": "code",
   "execution_count": 7,
   "metadata": {},
   "outputs": [],
   "source": [
    "from nusa.core import Node\n",
    "from nusa.element import Spring\n",
    "from nusa.model import SpringModel"
   ]
  },
  {
   "cell_type": "markdown",
   "metadata": {},
   "source": [
    "Luego creamos un modelo de tipo Spring utilizando la clase SpringModel:"
   ]
  },
  {
   "cell_type": "code",
   "execution_count": 8,
   "metadata": {},
   "outputs": [
    {
     "name": "stdout",
     "output_type": "stream",
     "text": [
      "Model: Modelo 01\n",
      "Nodes: 0\n",
      "Elements: 0\n"
     ]
    }
   ],
   "source": [
    "m1 = SpringModel(\"Modelo 01\")\n",
    "print(m1)"
   ]
  },
  {
   "cell_type": "markdown",
   "metadata": {},
   "source": [
    "Ahora creamos los nodos que conformarán el elemento resorte:"
   ]
  },
  {
   "cell_type": "code",
   "execution_count": 9,
   "metadata": {},
   "outputs": [],
   "source": [
    "n1 = Node((0,0))\n",
    "n2 = Node((0,0))\n",
    "n3 = Node((0,0))\n",
    "n4 = Node((0,0))"
   ]
  },
  {
   "cell_type": "markdown",
   "metadata": {},
   "source": [
    "En este caso no es necesario especificar las coordenadas nodales dado que un elemento resorte sólo necesita la rigidez para la formulación, así que se pueden dejar ambos nodos con coordenadas (0,0).\n",
    "\n",
    "Enseguida se define un elemento de tipo `SpringElement`, cuyos datos de entrada son una tupla con los nodos que le conforman y la rigidez del elemento."
   ]
  },
  {
   "cell_type": "code",
   "execution_count": 10,
   "metadata": {},
   "outputs": [],
   "source": [
    "e1 = Spring((n1,n3),1000)\n",
    "e2 = Spring((n3,n4),2000)\n",
    "e3 = Spring((n4,n2),3000)"
   ]
  },
  {
   "cell_type": "markdown",
   "metadata": {},
   "source": [
    "Una vez se han definido los nodos y elementos se procede a agregar estos al modelo creado."
   ]
  },
  {
   "cell_type": "code",
   "execution_count": 17,
   "metadata": {},
   "outputs": [],
   "source": [
    "m1.add_node(n1)\n",
    "m1.add_node(n2)\n",
    "m1.add_node(n3)\n",
    "m1.add_node(n4)\n",
    "\n",
    "m1.add_element(e1)\n",
    "m1.add_element(e2)\n",
    "m1.add_element(e3)"
   ]
  },
  {
   "cell_type": "markdown",
   "metadata": {},
   "source": [
    "Luego, establecemos las condiciones de frontera y la carga externa aplicada. Finalmente utilizamos el método `solve` e imprimimos los resultados obtenidos."
   ]
  },
  {
   "cell_type": "code",
   "execution_count": 20,
   "metadata": {},
   "outputs": [
    {
     "name": "stdout",
     "output_type": "stream",
     "text": [
      "0  UX = 0.0000      FX = -909.0909\n",
      "1  UX = 0.0000      FX = -4090.9091\n",
      "2  UX = 0.9091      FX = 0.0000  \n",
      "3  UX = 1.3636      FX = 5000.0000\n"
     ]
    }
   ],
   "source": [
    "m1.add_constraint(n1, ux=0)\n",
    "m1.add_constraint(n2, ux=0)\n",
    "m1.add_force(n4, (5000,))\n",
    "\n",
    "m1.solve()\n",
    "\n",
    "for nodo in m1.get_nodes():\n",
    "    print(\"%s  UX = %-8.4f    FX = %-8.4f\"%(nodo.label,nodo.ux,nodo.fx))"
   ]
  },
  {
   "cell_type": "code",
   "execution_count": null,
   "metadata": {},
   "outputs": [],
   "source": []
  }
 ],
 "metadata": {
  "kernelspec": {
   "display_name": "Python 3",
   "language": "python",
   "name": "python3"
  },
  "language_info": {
   "codemirror_mode": {
    "name": "ipython",
    "version": 3
   },
   "file_extension": ".py",
   "mimetype": "text/x-python",
   "name": "python",
   "nbconvert_exporter": "python",
   "pygments_lexer": "ipython3",
   "version": "3.6.5"
  },
  "toc": {
   "base_numbering": 1,
   "nav_menu": {},
   "number_sections": true,
   "sideBar": true,
   "skip_h1_title": false,
   "title_cell": "Table of Contents",
   "title_sidebar": "Contents",
   "toc_cell": false,
   "toc_position": {},
   "toc_section_display": true,
   "toc_window_display": false
  }
 },
 "nbformat": 4,
 "nbformat_minor": 2
}
