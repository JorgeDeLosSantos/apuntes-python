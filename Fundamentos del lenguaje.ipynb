{
 "cells": [
  {
   "cell_type": "markdown",
   "metadata": {
    "toc": true
   },
   "source": [
    "<h1>Contenido<span class=\"tocSkip\"></span></h1>\n",
    "<div class=\"toc\"><ul class=\"toc-item\"><li><span><a href=\"#Fundamentos-del-lenguaje\" data-toc-modified-id=\"Fundamentos-del-lenguaje-1\"><span class=\"toc-item-num\">1&nbsp;&nbsp;</span>Fundamentos del lenguaje</a></span><ul class=\"toc-item\"><li><span><a href=\"#Python\" data-toc-modified-id=\"Python-1.1\"><span class=\"toc-item-num\">1.1&nbsp;&nbsp;</span>Python</a></span></li><li><span><a href=\"#Instalando-Python\" data-toc-modified-id=\"Instalando-Python-1.2\"><span class=\"toc-item-num\">1.2&nbsp;&nbsp;</span>Instalando Python</a></span></li><li><span><a href=\"#La-consola-de-Python-como-una-calculadora-básica\" data-toc-modified-id=\"La-consola-de-Python-como-una-calculadora-básica-1.3\"><span class=\"toc-item-num\">1.3&nbsp;&nbsp;</span>La consola de Python como una calculadora básica</a></span></li><li><span><a href=\"#Variables-y-tipos-de-datos\" data-toc-modified-id=\"Variables-y-tipos-de-datos-1.4\"><span class=\"toc-item-num\">1.4&nbsp;&nbsp;</span>Variables y tipos de datos</a></span><ul class=\"toc-item\"><li><span><a href=\"#Variables\" data-toc-modified-id=\"Variables-1.4.1\"><span class=\"toc-item-num\">1.4.1&nbsp;&nbsp;</span>Variables</a></span></li><li><span><a href=\"#Enteros\" data-toc-modified-id=\"Enteros-1.4.2\"><span class=\"toc-item-num\">1.4.2&nbsp;&nbsp;</span>Enteros</a></span></li><li><span><a href=\"#De-coma-flotante\" data-toc-modified-id=\"De-coma-flotante-1.4.3\"><span class=\"toc-item-num\">1.4.3&nbsp;&nbsp;</span>De coma flotante</a></span></li><li><span><a href=\"#Cadenas-de-caracteres\" data-toc-modified-id=\"Cadenas-de-caracteres-1.4.4\"><span class=\"toc-item-num\">1.4.4&nbsp;&nbsp;</span>Cadenas de caracteres</a></span></li><li><span><a href=\"#Booleanos\" data-toc-modified-id=\"Booleanos-1.4.5\"><span class=\"toc-item-num\">1.4.5&nbsp;&nbsp;</span>Booleanos</a></span></li><li><span><a href=\"#Listas\" data-toc-modified-id=\"Listas-1.4.6\"><span class=\"toc-item-num\">1.4.6&nbsp;&nbsp;</span>Listas</a></span></li><li><span><a href=\"#Tuplas\" data-toc-modified-id=\"Tuplas-1.4.7\"><span class=\"toc-item-num\">1.4.7&nbsp;&nbsp;</span>Tuplas</a></span></li><li><span><a href=\"#Diccionarios\" data-toc-modified-id=\"Diccionarios-1.4.8\"><span class=\"toc-item-num\">1.4.8&nbsp;&nbsp;</span>Diccionarios</a></span></li></ul></li><li><span><a href=\"#Operadores-relacionales-y-lógicos\" data-toc-modified-id=\"Operadores-relacionales-y-lógicos-1.5\"><span class=\"toc-item-num\">1.5&nbsp;&nbsp;</span>Operadores relacionales y lógicos</a></span></li><li><span><a href=\"#Control-de-flujo\" data-toc-modified-id=\"Control-de-flujo-1.6\"><span class=\"toc-item-num\">1.6&nbsp;&nbsp;</span>Control de flujo</a></span><ul class=\"toc-item\"><li><span><a href=\"#Condicional-if-elif-else\" data-toc-modified-id=\"Condicional-if-elif-else-1.6.1\"><span class=\"toc-item-num\">1.6.1&nbsp;&nbsp;</span>Condicional <code>if-elif-else</code></a></span></li><li><span><a href=\"#Bucle-for\" data-toc-modified-id=\"Bucle-for-1.6.2\"><span class=\"toc-item-num\">1.6.2&nbsp;&nbsp;</span>Bucle <code>for</code></a></span></li><li><span><a href=\"#Bucle-while\" data-toc-modified-id=\"Bucle-while-1.6.3\"><span class=\"toc-item-num\">1.6.3&nbsp;&nbsp;</span>Bucle <code>while</code></a></span></li></ul></li><li><span><a href=\"#Funciones\" data-toc-modified-id=\"Funciones-1.7\"><span class=\"toc-item-num\">1.7&nbsp;&nbsp;</span>Funciones</a></span><ul class=\"toc-item\"><li><span><a href=\"#Funciones-nativas-de-Python-(built-in)\" data-toc-modified-id=\"Funciones-nativas-de-Python-(built-in)-1.7.1\"><span class=\"toc-item-num\">1.7.1&nbsp;&nbsp;</span>Funciones nativas de Python (<code>built-in</code>)</a></span></li><li><span><a href=\"#Funciones-definidas-por-el-usuario\" data-toc-modified-id=\"Funciones-definidas-por-el-usuario-1.7.2\"><span class=\"toc-item-num\">1.7.2&nbsp;&nbsp;</span>Funciones definidas por el usuario</a></span></li><li><span><a href=\"#Funciones-con-una-cantidad-de-parámetros-indeterminada\" data-toc-modified-id=\"Funciones-con-una-cantidad-de-parámetros-indeterminada-1.7.3\"><span class=\"toc-item-num\">1.7.3&nbsp;&nbsp;</span>Funciones con una cantidad de parámetros indeterminada</a></span></li><li><span><a href=\"#Funciones-y-los-argumentos-con-nombre\" data-toc-modified-id=\"Funciones-y-los-argumentos-con-nombre-1.7.4\"><span class=\"toc-item-num\">1.7.4&nbsp;&nbsp;</span>Funciones y los argumentos con nombre</a></span></li></ul></li><li><span><a href=\"#Ejercicios\" data-toc-modified-id=\"Ejercicios-1.8\"><span class=\"toc-item-num\">1.8&nbsp;&nbsp;</span>Ejercicios</a></span></li></ul></li></ul></div>"
   ]
  },
  {
   "cell_type": "markdown",
   "metadata": {},
   "source": [
    "# Fundamentos del lenguaje \n",
    "\n",
    "\n",
    "\n",
    "## Python\n",
    "\n",
    "Python es un lenguaje de programación, interpretado, de alto nivel y propósito general, además de ser un proyecto  \n",
    "libre y de código abierto, con una comunidad enorme implicada en el desarrollo y mantenimiento de librerías que hacen \n",
    "posible el *multidominio* actual de Python.\n",
    "\n",
    "Dada su concepción como lenguaje de propósito general, Python es utilizado en una diversidad de aplicaciones, \n",
    "desde desarrollo web, encriptación, análisis de datos, procesamiento de imágenes, aprendizaje automático, \n",
    "computación simbólica, etc.  \n",
    "\n",
    "Las características de este lenguaje le hacen propicio para el prototipado de aplicaciones, dado que es muy \n",
    "sencillo y rápido revisar y modificar el código desarrollado. Otra característica muy notable de Python \n",
    "es su sintaxis simple y fácil de aprender, lo cual ayuda al momento de introducirse en el desarrollo de \n",
    "algoritmos o el mundo propio de la programación de computadoras.\n",
    "\n",
    "## Instalando Python\n",
    "\n",
    "En estos apuntes se utilizará la distribución Anaconda de Python, la cual contiene el intérprete y las librerías del \n",
    "*core*, pero además incluye la mayoría de librerías utilizadas para el desarrollo de aplicaciones de corte \n",
    "técnico-científico.\n",
    "\n",
    "La descarga de Anaconda puede realizarla desde el sitio https://www.anaconda.com/download/, selecciona el \n",
    "paquete de descarga conforme al sistema operativo (Windows, macOS o Linux) así como la arquitectura de su PC.\n",
    "La instalación suele ser muy sencilla, puede seguir las instrucciones dadas en el *How to install ANACONDA* de \n",
    "la misma página.\n",
    "\n",
    "## La consola de Python como una calculadora básica\n",
    "\n",
    "Una vez instalado Anaconda puede testear la correcta instalación abriendo \\textbf{Anaconda Prompt}, la cual es \n",
    "una consola desde la cual puede ejecutar algunos Scripts que complementan el funcionamiento de Python. Puede \n",
    "buscar esta consola en la carpeta de instalación correspondiente. Cuando la ejecute observará una consola \n",
    "como la mostrada en la figura.\n",
    "\n",
    "<img src=\"img/ch01/anaconda_prompt.png\">\n",
    "\n",
    "Dentro de esta consola escriba `python` y presione la tecla **Enter**, al hacer esto observará \n",
    "que la consola cambia el prompt compuesto de un directorio por tres signos de *mayor que* tal como \n",
    "se puede verificar en la figura.\n",
    "\n",
    "<img src=\"img/ch01/anaconda_prompt_python.png\">\n",
    "    \n",
    "A partir de este momento puede ingresar código Python y teclear **Enter** para ejecutar la instrucción y la consola le devolverá lo que resulte de esto. Por ejemplo, si escribe un número cualesquiera y presiona enter, la consola le devolverá justamente el mismo número:"
   ]
  },
  {
   "cell_type": "code",
   "execution_count": 1,
   "metadata": {},
   "outputs": [
    {
     "data": {
      "text/plain": [
       "1000"
      ]
     },
     "execution_count": 1,
     "metadata": {},
     "output_type": "execute_result"
    }
   ],
   "source": [
    "1000"
   ]
  },
  {
   "cell_type": "markdown",
   "metadata": {},
   "source": [
    "Puede ejecutar una simple suma aritmética:"
   ]
  },
  {
   "cell_type": "code",
   "execution_count": 2,
   "metadata": {},
   "outputs": [
    {
     "data": {
      "text/plain": [
       "300"
      ]
     },
     "execution_count": 2,
     "metadata": {},
     "output_type": "execute_result"
    }
   ],
   "source": [
    "100 + 200"
   ]
  },
  {
   "cell_type": "markdown",
   "metadata": {},
   "source": [
    "O una resta:"
   ]
  },
  {
   "cell_type": "code",
   "execution_count": 3,
   "metadata": {},
   "outputs": [
    {
     "data": {
      "text/plain": [
       "-100"
      ]
     },
     "execution_count": 3,
     "metadata": {},
     "output_type": "execute_result"
    }
   ],
   "source": [
    "550 - 650"
   ]
  },
  {
   "cell_type": "markdown",
   "metadata": {},
   "source": [
    "Naturalmente Python maneja sin complicaciones las cantidades negativas. Una multiplicación la realiza \n",
    "con el operador *:"
   ]
  },
  {
   "cell_type": "code",
   "execution_count": 4,
   "metadata": {},
   "outputs": [
    {
     "data": {
      "text/plain": [
       "1250"
      ]
     },
     "execution_count": 4,
     "metadata": {},
     "output_type": "execute_result"
    }
   ],
   "source": [
    "50*25"
   ]
  },
  {
   "cell_type": "markdown",
   "metadata": {},
   "source": [
    "Para las divisiones utiliza el operador /:"
   ]
  },
  {
   "cell_type": "code",
   "execution_count": 5,
   "metadata": {},
   "outputs": [
    {
     "data": {
      "text/plain": [
       "0.5"
      ]
     },
     "execution_count": 5,
     "metadata": {},
     "output_type": "execute_result"
    }
   ],
   "source": [
    "1/2"
   ]
  },
  {
   "cell_type": "markdown",
   "metadata": {},
   "source": [
    "Puede elevar a una potencia utilizando como operador el doble asterisco:"
   ]
  },
  {
   "cell_type": "code",
   "execution_count": 6,
   "metadata": {},
   "outputs": [
    {
     "data": {
      "text/plain": [
       "169"
      ]
     },
     "execution_count": 6,
     "metadata": {},
     "output_type": "execute_result"
    }
   ],
   "source": [
    "13**2"
   ]
  },
  {
   "cell_type": "markdown",
   "metadata": {},
   "source": [
    "Inclusive existe la posilidad de definir números complejos y realizar operaciones con ellos:"
   ]
  },
  {
   "cell_type": "code",
   "execution_count": 7,
   "metadata": {},
   "outputs": [
    {
     "data": {
      "text/plain": [
       "(5+2j)"
      ]
     },
     "execution_count": 7,
     "metadata": {},
     "output_type": "execute_result"
    }
   ],
   "source": [
    "5 + 2j"
   ]
  },
  {
   "cell_type": "code",
   "execution_count": 8,
   "metadata": {},
   "outputs": [
    {
     "data": {
      "text/plain": [
       "(-5-5j)"
      ]
     },
     "execution_count": 8,
     "metadata": {},
     "output_type": "execute_result"
    }
   ],
   "source": [
    "(5 + 2j) - (10 + 7j)"
   ]
  },
  {
   "cell_type": "code",
   "execution_count": 9,
   "metadata": {},
   "outputs": [
    {
     "data": {
      "text/plain": [
       "(36+55j)"
      ]
     },
     "execution_count": 9,
     "metadata": {},
     "output_type": "execute_result"
    }
   ],
   "source": [
    "(5 + 2j)*(10 + 7j)"
   ]
  },
  {
   "cell_type": "markdown",
   "metadata": {},
   "source": [
    "Puede ampliar la capacidad de las funcionalidades *built-in* de Python si importa alguna librería, como \n",
    "`math`, pero claro, eso será un tema a tratar con posterioridad."
   ]
  },
  {
   "cell_type": "markdown",
   "metadata": {},
   "source": [
    "## Variables y tipos de datos\n",
    "\n",
    "Al ser un lenguaje de alto nivel, Python dispone de los tipos de datos elementales en cualquier lenguaje de programación, \n",
    "pero además incluye estructuras de datos muy *avanzadas* y con altas prestaciones que facilitan en muchos \n",
    "aspectos la tarea del programador.\n",
    "\n",
    "Python es un lenguaje de tipado dinámico en el que no hace falta declarar el tipo de dato que asignará a una variable, \n",
    "de igual manera una variable puede cambiar de tipo conforme la ejecución del programa, por ello se debe tener cuidado \n",
    "con la sintaxis para definir cada tipo de dato.\n",
    "\n",
    "### Variables\n",
    "\n",
    "Las variables son referencias a los objetos de Python, son creadas por asignación mediante el signo `=`, por ejemplo:"
   ]
  },
  {
   "cell_type": "code",
   "execution_count": 10,
   "metadata": {},
   "outputs": [
    {
     "data": {
      "text/plain": [
       "12"
      ]
     },
     "execution_count": 10,
     "metadata": {},
     "output_type": "execute_result"
    }
   ],
   "source": [
    "a = 2\n",
    "b = 10\n",
    "a + b"
   ]
  },
  {
   "cell_type": "markdown",
   "metadata": {},
   "source": [
    "El nombre de una variable puede constar de una combinación de caracteres alfanúmericos y el guión bajo, \n",
    "siempre y cuando el primer caracter no sea un dígito. Además, en Python los nombres de variables son \n",
    "*case sensitive*, es decir, se distingue entre mayúsculas y minúsculas."
   ]
  },
  {
   "cell_type": "code",
   "execution_count": 11,
   "metadata": {},
   "outputs": [],
   "source": [
    "D = 177.8\n",
    "d = 95"
   ]
  },
  {
   "cell_type": "code",
   "execution_count": 12,
   "metadata": {},
   "outputs": [
    {
     "name": "stdout",
     "output_type": "stream",
     "text": [
      "177.8\n"
     ]
    }
   ],
   "source": [
    "print(D)"
   ]
  },
  {
   "cell_type": "code",
   "execution_count": 13,
   "metadata": {},
   "outputs": [
    {
     "name": "stdout",
     "output_type": "stream",
     "text": [
      "95\n"
     ]
    }
   ],
   "source": [
    "print(d)"
   ]
  },
  {
   "cell_type": "markdown",
   "metadata": {},
   "source": [
    "Existen algunas palabras reservadas del lenguaje que no puede utilizar como nombre de variable, \n",
    "puede verificar cuáles son estas palabras tecleando lo siguiente:"
   ]
  },
  {
   "cell_type": "code",
   "execution_count": 14,
   "metadata": {},
   "outputs": [
    {
     "name": "stdout",
     "output_type": "stream",
     "text": [
      "['False', 'None', 'True', 'and', 'as', 'assert', 'break', 'class', 'continue', 'def', 'del', 'elif', 'else', 'except', 'finally', 'for', 'from', 'global', 'if', 'import', 'in', 'is', 'lambda', 'nonlocal', 'not', 'or', 'pass', 'raise', 'return', 'try', 'while', 'with', 'yield']\n"
     ]
    }
   ],
   "source": [
    "import keyword \n",
    "print(keyword.kwlist)"
   ]
  },
  {
   "cell_type": "markdown",
   "metadata": {},
   "source": [
    "### Enteros\n",
    "\n",
    "### De coma flotante\n",
    "\n",
    "### Cadenas de caracteres\n",
    "\n",
    "Las cadenas de caracteres (denominadas habitualmente y de manera indistinta como *strings* es un tipo de dato \n",
    "que contiene una secuencia de símbolos, mismos que pueden ser alfanúmericos hasta cualquier otro símbolo propio de \n",
    "un sistema de escritura. En Python los strings se definen entre comillas dobles o simples:"
   ]
  },
  {
   "cell_type": "code",
   "execution_count": 16,
   "metadata": {},
   "outputs": [
    {
     "data": {
      "text/plain": [
       "'esta es una cadena de caracteres'"
      ]
     },
     "execution_count": 16,
     "metadata": {},
     "output_type": "execute_result"
    }
   ],
   "source": [
    "\"esta es una cadena de caracteres\""
   ]
  },
  {
   "cell_type": "code",
   "execution_count": 17,
   "metadata": {},
   "outputs": [
    {
     "data": {
      "text/plain": [
       "'esta también'"
      ]
     },
     "execution_count": 17,
     "metadata": {},
     "output_type": "execute_result"
    }
   ],
   "source": [
    "'esta también'"
   ]
  },
  {
   "cell_type": "markdown",
   "metadata": {},
   "source": [
    "Puede concatenar dos strings utilizando el operador `+`:"
   ]
  },
  {
   "cell_type": "code",
   "execution_count": 18,
   "metadata": {},
   "outputs": [
    {
     "data": {
      "text/plain": [
       "'Holamundo'"
      ]
     },
     "execution_count": 18,
     "metadata": {},
     "output_type": "execute_result"
    }
   ],
   "source": [
    "\"Hola\" + \"mundo\""
   ]
  },
  {
   "cell_type": "markdown",
   "metadata": {},
   "source": [
    "Notará que Python por sí mismo no sabe que estamos uniendo dos palabras y que entre ellas debería haber un espacio \n",
    "para su correcta lectura, evidentemente este tipo de cuestiones son las que el programador debe tomar en cuenta al \n",
    "escribir un código.\n",
    "\n",
    "Una cadena de caracteres es lo que en Python se conoce como *iterable*, es decir, una secuencia de \n",
    "elementos agrupados a los cuales se puede acceder de manera individual mediante indexación. Por ejemplo, \n",
    "sea `nombre` una cadena de caracteres dada por:"
   ]
  },
  {
   "cell_type": "code",
   "execution_count": 19,
   "metadata": {},
   "outputs": [],
   "source": [
    "nombre=\"Catalina\""
   ]
  },
  {
   "cell_type": "markdown",
   "metadata": {},
   "source": [
    "Puede acceder a cada una de las letras que componen dicha cadena mediante la notación `iter[pos]`, donde \n",
    "`iter` es el nombre del iterable y `pos` la posición en que se encuentra el caracter al cual \n",
    "se desea acceder, siendo 0 para la primera letra, 1 para la segunda y así de manera consecutiva. Por ejemplo: "
   ]
  },
  {
   "cell_type": "code",
   "execution_count": 20,
   "metadata": {},
   "outputs": [
    {
     "data": {
      "text/plain": [
       "'C'"
      ]
     },
     "execution_count": 20,
     "metadata": {},
     "output_type": "execute_result"
    }
   ],
   "source": [
    "nombre[0]"
   ]
  },
  {
   "cell_type": "code",
   "execution_count": 21,
   "metadata": {},
   "outputs": [
    {
     "data": {
      "text/plain": [
       "'l'"
      ]
     },
     "execution_count": 21,
     "metadata": {},
     "output_type": "execute_result"
    }
   ],
   "source": [
    "nombre[4]"
   ]
  },
  {
   "cell_type": "code",
   "execution_count": 22,
   "metadata": {},
   "outputs": [
    {
     "data": {
      "text/plain": [
       "'t'"
      ]
     },
     "execution_count": 22,
     "metadata": {},
     "output_type": "execute_result"
    }
   ],
   "source": [
    "nombre[2]"
   ]
  },
  {
   "cell_type": "markdown",
   "metadata": {},
   "source": [
    "Al último elemento, sin importar la longitud de la cadena, se accede con el índice -1:"
   ]
  },
  {
   "cell_type": "code",
   "execution_count": 23,
   "metadata": {},
   "outputs": [
    {
     "data": {
      "text/plain": [
       "'a'"
      ]
     },
     "execution_count": 23,
     "metadata": {},
     "output_type": "execute_result"
    }
   ],
   "source": [
    "nombre[-1]"
   ]
  },
  {
   "cell_type": "markdown",
   "metadata": {},
   "source": [
    "### Booleanos\n",
    "\n",
    "### Listas\n",
    "\n",
    "Las listas son estructuras de datos que pueden almacenar cualquier otro tipo de dato, inclusive una lista \n",
    "puede contener otra lista, además, la cantidad de elementos de una lista se puede modificar removiendo o \n",
    "añadiendo elementos. Para definir una lista se utilizan los corchetes, dentro de estos se colocan todos \n",
    "los elementos separados por comas:"
   ]
  },
  {
   "cell_type": "code",
   "execution_count": 24,
   "metadata": {},
   "outputs": [],
   "source": [
    "calificaciones = [10,9,8,7.5,9]\n",
    "nombres = [\"Ana\",\"Juan\",\"Sofía\",\"Pablo\",\"Tania\"]\n",
    "mezcla = [True, 10.5, \"abc\", [0,1,1]]"
   ]
  },
  {
   "cell_type": "markdown",
   "metadata": {},
   "source": [
    "Las listas son iterables y por tanto se puede acceder a sus elementos mediante indexación:"
   ]
  },
  {
   "cell_type": "code",
   "execution_count": 25,
   "metadata": {},
   "outputs": [
    {
     "data": {
      "text/plain": [
       "'Sofía'"
      ]
     },
     "execution_count": 25,
     "metadata": {},
     "output_type": "execute_result"
    }
   ],
   "source": [
    "nombres[2]"
   ]
  },
  {
   "cell_type": "code",
   "execution_count": 26,
   "metadata": {},
   "outputs": [
    {
     "data": {
      "text/plain": [
       "'Tania'"
      ]
     },
     "execution_count": 26,
     "metadata": {},
     "output_type": "execute_result"
    }
   ],
   "source": [
    "nombres[-1]"
   ]
  },
  {
   "cell_type": "markdown",
   "metadata": {},
   "source": [
    "Se tiene la posibilidad de agregar elementos a una lista mediante el método `append`: "
   ]
  },
  {
   "cell_type": "code",
   "execution_count": 27,
   "metadata": {},
   "outputs": [
    {
     "name": "stdout",
     "output_type": "stream",
     "text": [
      "['Ana', 'Juan', 'Sofía', 'Pablo', 'Tania', 'Antonio', 'Ximena']\n"
     ]
    }
   ],
   "source": [
    "nombres.append(\"Antonio\")\n",
    "nombres.append(\"Ximena\")\n",
    "print(nombres)"
   ]
  },
  {
   "cell_type": "markdown",
   "metadata": {},
   "source": [
    "El método `remove` elimina un elemento de una lista:"
   ]
  },
  {
   "cell_type": "code",
   "execution_count": 28,
   "metadata": {},
   "outputs": [
    {
     "name": "stdout",
     "output_type": "stream",
     "text": [
      "['Juan', 'Sofía', 'Pablo', 'Tania', 'Antonio', 'Ximena']\n"
     ]
    }
   ],
   "source": [
    "nombres.remove(\"Ana\")\n",
    "print(nombres)"
   ]
  },
  {
   "cell_type": "markdown",
   "metadata": {},
   "source": [
    "Sí el valor pasado al método `remove` no existe, Python devolverá un `ValueError`:"
   ]
  },
  {
   "cell_type": "code",
   "execution_count": 29,
   "metadata": {},
   "outputs": [
    {
     "ename": "ValueError",
     "evalue": "list.remove(x): x not in list",
     "output_type": "error",
     "traceback": [
      "\u001b[1;31m---------------------------------------------------------------------------\u001b[0m",
      "\u001b[1;31mValueError\u001b[0m                                Traceback (most recent call last)",
      "\u001b[1;32m<ipython-input-29-d983d2559e2f>\u001b[0m in \u001b[0;36m<module>\u001b[1;34m()\u001b[0m\n\u001b[1;32m----> 1\u001b[1;33m \u001b[0mnombres\u001b[0m\u001b[1;33m.\u001b[0m\u001b[0mremove\u001b[0m\u001b[1;33m(\u001b[0m\u001b[1;34m\"Jorge\"\u001b[0m\u001b[1;33m)\u001b[0m\u001b[1;33m\u001b[0m\u001b[0m\n\u001b[0m",
      "\u001b[1;31mValueError\u001b[0m: list.remove(x): x not in list"
     ]
    }
   ],
   "source": [
    "nombres.remove(\"Jorge\")"
   ]
  },
  {
   "cell_type": "markdown",
   "metadata": {},
   "source": [
    "### Tuplas\n",
    "\n",
    "Las tuplas son secuencias de elementos similares a las listas, la diferencia principal es que \n",
    "las tuplas no pueden ser modificadas directamente, es decir, una tupla no dispone de los métodos \n",
    "como `append` o `insert` que modifican los elementos de una lista.\n",
    "\n",
    "Para definir una tupla, los elementos se separan con comas y se encierran entre paréntesis."
   ]
  },
  {
   "cell_type": "code",
   "execution_count": 30,
   "metadata": {},
   "outputs": [],
   "source": [
    "colores=(\"Azul\",\"Verde\",\"Rojo\",\"Amarillo\",\"Blanco\",\"Negro\",\"Gris\")"
   ]
  },
  {
   "cell_type": "markdown",
   "metadata": {},
   "source": [
    "Las tuplas al ser *iterables* pueden accederse mediante la notación de corchetes e índice."
   ]
  },
  {
   "cell_type": "code",
   "execution_count": 31,
   "metadata": {},
   "outputs": [
    {
     "data": {
      "text/plain": [
       "'Azul'"
      ]
     },
     "execution_count": 31,
     "metadata": {},
     "output_type": "execute_result"
    }
   ],
   "source": [
    "colores[0]"
   ]
  },
  {
   "cell_type": "code",
   "execution_count": 32,
   "metadata": {},
   "outputs": [
    {
     "data": {
      "text/plain": [
       "'Gris'"
      ]
     },
     "execution_count": 32,
     "metadata": {},
     "output_type": "execute_result"
    }
   ],
   "source": [
    "colores[-1]"
   ]
  },
  {
   "cell_type": "code",
   "execution_count": 33,
   "metadata": {},
   "outputs": [
    {
     "data": {
      "text/plain": [
       "'Amarillo'"
      ]
     },
     "execution_count": 33,
     "metadata": {},
     "output_type": "execute_result"
    }
   ],
   "source": [
    "colores[3]"
   ]
  },
  {
   "cell_type": "markdown",
   "metadata": {},
   "source": [
    "Si intentamos modificar alguno de los elementos de la tupla Python nos devolverá un `TypeError`:"
   ]
  },
  {
   "cell_type": "code",
   "execution_count": 35,
   "metadata": {},
   "outputs": [
    {
     "ename": "TypeError",
     "evalue": "'tuple' object does not support item assignment",
     "output_type": "error",
     "traceback": [
      "\u001b[1;31m---------------------------------------------------------------------------\u001b[0m",
      "\u001b[1;31mTypeError\u001b[0m                                 Traceback (most recent call last)",
      "\u001b[1;32m<ipython-input-35-3502c7127536>\u001b[0m in \u001b[0;36m<module>\u001b[1;34m()\u001b[0m\n\u001b[1;32m----> 1\u001b[1;33m \u001b[0mcolores\u001b[0m\u001b[1;33m[\u001b[0m\u001b[1;36m0\u001b[0m\u001b[1;33m]\u001b[0m \u001b[1;33m=\u001b[0m \u001b[1;34m\"Café\"\u001b[0m\u001b[1;33m\u001b[0m\u001b[0m\n\u001b[0m",
      "\u001b[1;31mTypeError\u001b[0m: 'tuple' object does not support item assignment"
     ]
    }
   ],
   "source": [
    "colores[0] = \"Café\""
   ]
  },
  {
   "cell_type": "markdown",
   "metadata": {},
   "source": [
    "### Diccionarios"
   ]
  },
  {
   "cell_type": "markdown",
   "metadata": {},
   "source": [
    "Los diccionarios son estructuras que contienen una colección de elementos de la \n",
    "forma `clave: valor` separados por comas y encerrados entre llaves. \n",
    "Las claves deben ser objetos inmutables y los valores pueden ser de cualquier tipo. \n",
    "Necesariamente las claves deben ser únicas en cada diccionario, no así \n",
    "los valores. \n",
    "\n",
    "Vamos a definir un diccionario llamado `edades` en el cual \n",
    "cada clave será un nombre y el valor una edad:"
   ]
  },
  {
   "cell_type": "code",
   "execution_count": 38,
   "metadata": {},
   "outputs": [],
   "source": [
    "edades = {\"Ana\": 25, \"David\": 18, \"Lucas\": 35, \"Ximena\": 30, \"Ale\": 20}"
   ]
  },
  {
   "cell_type": "markdown",
   "metadata": {},
   "source": [
    "Puede acceder a cada valor de un diccionario mediante su clave, por ejemplo, \n",
    "si quisieramos obtener la edad de la clave `Lucas` se tendría que escribir:"
   ]
  },
  {
   "cell_type": "code",
   "execution_count": 39,
   "metadata": {},
   "outputs": [
    {
     "data": {
      "text/plain": [
       "35"
      ]
     },
     "execution_count": 39,
     "metadata": {},
     "output_type": "execute_result"
    }
   ],
   "source": [
    "edades[\"Lucas\"]"
   ]
  },
  {
   "cell_type": "markdown",
   "metadata": {},
   "source": [
    "## Operadores relacionales y lógicos"
   ]
  },
  {
   "cell_type": "markdown",
   "metadata": {},
   "source": [
    "## Control de flujo\n",
    "\n",
    "### Condicional `if-elif-else`\n",
    "\n",
    "El condicional `if-elif-else` es una estructura de control que sirve para tomar decisiones \n",
    "en el flujo del programa. La sintaxis para `if-elif-else` es:\n",
    "\n",
    "```python\n",
    "if cond1:\n",
    "    # hacer algo \n",
    "elif cond2:\n",
    "    # hacer otra cosa\n",
    "    .\n",
    "    .\n",
    "    .\n",
    "elif condn:\n",
    "    # hacer algo más\n",
    "else:\n",
    "    # hacer algo por default\n",
    "```\n",
    "\n",
    "Donde `cond1, cond2, ... condn` son valores lógicos que resultan de una comparación. Esta estructura se evalúa \n",
    "secuencialmente hasta encontrar una condición que se cumpla, si ninguna lo hace, entonces se ejecuta la instrucción \n",
    "colocada en el caso por default `else`."
   ]
  },
  {
   "cell_type": "markdown",
   "metadata": {},
   "source": [
    "### Bucle `for`\n",
    "\n",
    "El **bucle for** es una estructura de control de naturaleza repetitiva, en la cual se conocen \n",
    "*a priori* el número de iteraciones a realizar. En lenguajes como C++ o Java, el ciclo `for` \n",
    "necesita de una variable de ciclo de tipo entero que irá incrementándose en cada iteración. En Python, la cuestión es un poco diferente, el ciclo `for` *recorre* un *iterable* y en la k-ésima iteración la variable de ciclo *adopta* el \n",
    "valor del elemento en la k-ésima posición del iterable.\n",
    "\n",
    "De manera general, la sintaxis de `for` es:\n",
    "\n",
    "```python\n",
    "for var in iterable:\n",
    "    # Hacer algo ...\n",
    "```\n",
    "\n",
    "Donde `var` es la **variable de ciclo** e `iterable` la secuencia de valores que deberá iterarse. \n",
    "Es necesario remarcar la importancia de los dos puntos al final de esta primera línea y en indentar el bloque de \n",
    "código subsecuente que definirá el cuerpo del ciclo for.\n",
    "\n",
    "Como primer ejemplo vamos a recorrer una lista de números y mostrarlos por consola:"
   ]
  },
  {
   "cell_type": "code",
   "execution_count": 40,
   "metadata": {},
   "outputs": [
    {
     "name": "stdout",
     "output_type": "stream",
     "text": [
      "18\n",
      "50\n",
      "90\n",
      "-20\n",
      "100\n",
      "80\n",
      "37\n"
     ]
    }
   ],
   "source": [
    "numeros = [18,50,90,-20,100,80,37]\n",
    "for n in numeros:\n",
    "    print(n)"
   ]
  },
  {
   "cell_type": "markdown",
   "metadata": {},
   "source": [
    "Observe que en cada iteración la variable de ciclo `n` adopta el valor de cada uno de los elementos de la \n",
    "lista `numeros`.\n",
    "\n",
    "Como ya se mencionó, en Python la variable de ciclo no necesariamente adopta valores numéricos enteros secuenciales, \n",
    "si no valores dentro de una secuencia. Esta secuencia podría ser también una cadena de caracteres, por ejemplo:"
   ]
  },
  {
   "cell_type": "code",
   "execution_count": 41,
   "metadata": {},
   "outputs": [
    {
     "name": "stdout",
     "output_type": "stream",
     "text": [
      "P\n",
      "y\n",
      "t\n",
      "h\n",
      "o\n",
      "n\n"
     ]
    }
   ],
   "source": [
    "palabra = \"Python\"\n",
    "for letra in palabra:\n",
    "    print(letra)"
   ]
  },
  {
   "cell_type": "markdown",
   "metadata": {},
   "source": [
    "Dentro de un ciclo for podemos colocar cualesquiera otra instrucción de control de flujo. Un caso \n",
    "muy común es el de incluir otro ciclo for, algo que habitualmente se denota como **ciclos anidados**. \n",
    "Por ejemplo, supongamos que se requieren mostrar por consola todos los elementos de algunas listas contenidas \n",
    "dentro de otra lista principal, en ese caso se hace necesario primero iterar sobre la lista principal y \n",
    "enseguida hacerlo sobre las listas contenidas, por ejemplo:"
   ]
  },
  {
   "cell_type": "code",
   "execution_count": 42,
   "metadata": {},
   "outputs": [
    {
     "name": "stdout",
     "output_type": "stream",
     "text": [
      "-5\n",
      "2\n",
      "0\n",
      "9\n",
      "5\n",
      "6\n",
      "1\n",
      "7\n",
      "15\n"
     ]
    }
   ],
   "source": [
    "matriz = [[-5,2,0], [9,5,6], [1,7,15]]\n",
    "for fila in matriz:\n",
    "    for elemento in fila:\n",
    "        print(elemento)"
   ]
  },
  {
   "cell_type": "markdown",
   "metadata": {},
   "source": [
    "### Bucle `while`"
   ]
  },
  {
   "cell_type": "markdown",
   "metadata": {},
   "source": [
    "## Funciones\n",
    "\n",
    "Las funciones son *porciones de código* que nos sirven para modularizar \n",
    "nuestros programas y evitar en muchos casos la repetitividad de código. \n",
    "De manera general una función recibe algunos valores de entrada, los *procesa* y \n",
    "devuelve algunos valores de salida (o bien modifica algunas variables).\n",
    "\n",
    "### Funciones nativas de Python (`built-in`)\n",
    "\n",
    "Python dispone de algunas funciones nativas que se *cargan* automáticamente cuando se \n",
    "inicia el intérprete. Por ejemplo la función `max` devuelve el mayor valor numérico de \n",
    "una lista de números:"
   ]
  },
  {
   "cell_type": "code",
   "execution_count": 43,
   "metadata": {},
   "outputs": [
    {
     "data": {
      "text/plain": [
       "112"
      ]
     },
     "execution_count": 43,
     "metadata": {},
     "output_type": "execute_result"
    }
   ],
   "source": [
    "max([10,35,5,110,48,30,112,98,87])"
   ]
  },
  {
   "cell_type": "markdown",
   "metadata": {},
   "source": [
    "También existe una función `min`, análoga a `max`:"
   ]
  },
  {
   "cell_type": "code",
   "execution_count": 44,
   "metadata": {},
   "outputs": [
    {
     "data": {
      "text/plain": [
       "5"
      ]
     },
     "execution_count": 44,
     "metadata": {},
     "output_type": "execute_result"
    }
   ],
   "source": [
    "min([10,35,5,110,48,30,112,98,87])"
   ]
  },
  {
   "cell_type": "markdown",
   "metadata": {},
   "source": [
    "Otro ejemplo de función nativa es `bin`, la cual dado un número en base 10 devuelve \n",
    "una cadena con la representación en base 2."
   ]
  },
  {
   "cell_type": "code",
   "execution_count": 46,
   "metadata": {},
   "outputs": [
    {
     "data": {
      "text/plain": [
       "'0b1010'"
      ]
     },
     "execution_count": 46,
     "metadata": {},
     "output_type": "execute_result"
    }
   ],
   "source": [
    "bin(10)"
   ]
  },
  {
   "cell_type": "markdown",
   "metadata": {},
   "source": [
    "Naturalmente, el valor devuelto por una función se puede asignar a una variable y posteriormente ser utilizado:"
   ]
  },
  {
   "cell_type": "code",
   "execution_count": 47,
   "metadata": {},
   "outputs": [
    {
     "name": "stdout",
     "output_type": "stream",
     "text": [
      "0.5\n"
     ]
    }
   ],
   "source": [
    "a = max([10,5,8])\n",
    "b = min([10,5,8])\n",
    "h = (a - b)/10\n",
    "print(h)"
   ]
  },
  {
   "cell_type": "markdown",
   "metadata": {},
   "source": [
    "Hay funciones que no devuelven como tal un valor, si no que pueden modificar directamente \n",
    "alguna variable global o simplemente mostrar algo en la salida estándar como el caso de `print`.\n",
    "\n",
    "Tendremos también funciones que aceptan más de un argumento, por ejemplo a la función `round` podemos \n",
    "pasarle dos argumentos: un número real y la cantidad de lugares decimales a considerar para el redondeo.\n"
   ]
  },
  {
   "cell_type": "code",
   "execution_count": 48,
   "metadata": {},
   "outputs": [
    {
     "data": {
      "text/plain": [
       "3.141593"
      ]
     },
     "execution_count": 48,
     "metadata": {},
     "output_type": "execute_result"
    }
   ],
   "source": [
    "round(3.141592653589793, 6)"
   ]
  },
  {
   "cell_type": "code",
   "execution_count": 49,
   "metadata": {},
   "outputs": [
    {
     "data": {
      "text/plain": [
       "3.14"
      ]
     },
     "execution_count": 49,
     "metadata": {},
     "output_type": "execute_result"
    }
   ],
   "source": [
    "round(3.141592653589793, 2)"
   ]
  },
  {
   "cell_type": "markdown",
   "metadata": {},
   "source": [
    "### Funciones definidas por el usuario"
   ]
  },
  {
   "cell_type": "markdown",
   "metadata": {},
   "source": [
    "Además de las funciones nativas de Python, es posible definir nuestras propias funciones. \n",
    "En Python, de manera general, una función se define siguiendo la estructura mostrada a continuación:\n",
    "\n",
    "```python\n",
    "def nombre_fun(arg1, arg2, ..., argN):\n",
    "\t# Cuerpo de la función\n",
    "\t# .\n",
    "\t# .\n",
    "\t# .\n",
    "\treturn val1, val2, ..., valN\n",
    "```\n",
    "\n",
    "Donde `def` es una palabra que debe anteceder siempre a la definición de una función, \n",
    "`nombre_fun` es el nombre que se asignará a la función, entre paréntesis y \n",
    "separados por comas se colocan los nombres de los argumentos de entrada, los dos puntos \n",
    "se colocan después de cerrar el paréntesis e indican que ahí termina el *encabezado* de \n",
    "la función y comenzará el *cuerpo* de la misma, aquí se colocarán todas las \n",
    "instrucciones que deberán realizarse; la palabra reservada `return` sirve para \n",
    "indicar los valores a devolver, mismos que se colocarán separados por comas.\n",
    "\n",
    "Vamos a definir una función llamada `saluda`, la cual recibe un nombre (string)\n",
    "y devuelve un saludo (string) formado mediante concatenación:\n"
   ]
  },
  {
   "cell_type": "code",
   "execution_count": 50,
   "metadata": {},
   "outputs": [],
   "source": [
    "def saluda(nombre):\n",
    "    s = \"Hola \" + nombre + \", bienvenido.\"\n",
    "    return s"
   ]
  },
  {
   "cell_type": "code",
   "execution_count": 51,
   "metadata": {},
   "outputs": [
    {
     "name": "stdout",
     "output_type": "stream",
     "text": [
      "Hola Jorge, bienvenido.\n"
     ]
    }
   ],
   "source": [
    "print(saluda(\"Jorge\"))"
   ]
  },
  {
   "cell_type": "markdown",
   "metadata": {},
   "source": [
    "Lo único que hace la función anterior es tomar un *string* como argumento y unirlo \n",
    "a algunas cadenas ya establecidas dentro de la función. \n",
    "\n",
    "Veamos ahora cómo definir una función que recibe como argumento un entero y devuelve un valor lógico que \n",
    "indica si este es par."
   ]
  },
  {
   "cell_type": "code",
   "execution_count": 52,
   "metadata": {},
   "outputs": [],
   "source": [
    "def espar(n):\n",
    "    if n%2 == 0:\n",
    "        s = True\n",
    "    else:\n",
    "        s = False\n",
    "    return s"
   ]
  },
  {
   "cell_type": "code",
   "execution_count": 53,
   "metadata": {},
   "outputs": [
    {
     "name": "stdout",
     "output_type": "stream",
     "text": [
      "True\n",
      "False\n",
      "True\n"
     ]
    }
   ],
   "source": [
    "print(espar(2))\n",
    "print(espar(5))\n",
    "print(espar(10))"
   ]
  },
  {
   "cell_type": "markdown",
   "metadata": {},
   "source": [
    "Naturalmente, las funciones pueden recibir más de un argumento. Por ejemplo:"
   ]
  },
  {
   "cell_type": "code",
   "execution_count": 54,
   "metadata": {},
   "outputs": [],
   "source": [
    "def mayor(a,b):\n",
    "    m = a\n",
    "    if a < b:\n",
    "        m = b\n",
    "    return m"
   ]
  },
  {
   "cell_type": "code",
   "execution_count": 55,
   "metadata": {},
   "outputs": [
    {
     "name": "stdout",
     "output_type": "stream",
     "text": [
      "50\n",
      "3050\n"
     ]
    }
   ],
   "source": [
    "print( mayor(50,30) )\n",
    "print( mayor(1100,3050) )"
   ]
  },
  {
   "cell_type": "markdown",
   "metadata": {},
   "source": [
    "La función `mayor` recibe dos valores numéricos y determina cuál es el mayor de ambos mediante \n",
    "una comparación con la sentencia `if`. \n",
    "\n",
    "¿Pueden las funciones en Python devolver más de un valor? ¡Claro! Hace falta nada más separar \n",
    "con comas los valores a devolver.\n"
   ]
  },
  {
   "cell_type": "code",
   "execution_count": 56,
   "metadata": {},
   "outputs": [],
   "source": [
    "def calcula_rectangulo(b,h):\n",
    "    A = b*h\n",
    "    P = 2*b + 2*h\n",
    "    return A, P"
   ]
  },
  {
   "cell_type": "code",
   "execution_count": 57,
   "metadata": {},
   "outputs": [
    {
     "name": "stdout",
     "output_type": "stream",
     "text": [
      "(50, 30)\n",
      "(750, 130)\n"
     ]
    }
   ],
   "source": [
    "print( calcula_rectangulo(10,5) )\n",
    "print( calcula_rectangulo(50,15) )"
   ]
  },
  {
   "cell_type": "markdown",
   "metadata": {},
   "source": [
    "También es posible guardar/asignar los valores devueltos por la función en variables:\n"
   ]
  },
  {
   "cell_type": "code",
   "execution_count": 58,
   "metadata": {},
   "outputs": [
    {
     "name": "stdout",
     "output_type": "stream",
     "text": [
      "Área: 2000\n",
      "Perímetro: 240\n"
     ]
    }
   ],
   "source": [
    "area1, perimetro1 = calcula_rectangulo(100, 20)\n",
    "print(\"Área: {0}\\nPerímetro: {1}\".format(area1, perimetro1))"
   ]
  },
  {
   "cell_type": "markdown",
   "metadata": {},
   "source": [
    "### Funciones con una cantidad de parámetros indeterminada\n",
    "\n",
    "En ocasiones el número de parámetros que deberá recibir una función no puede ser algo fijo. \n",
    "Las definiciones de función en Python tienen la flexibilidad de poder recibir una cantidad \n",
    "variable de argumentos de entrada. \n",
    "\n",
    "Para ejemplificar esto, vamos a crear una función llamada `promedio` que calcule \n",
    "el promedio de una cierta cantidad de números pasados como argumentos:"
   ]
  },
  {
   "cell_type": "code",
   "execution_count": 59,
   "metadata": {},
   "outputs": [],
   "source": [
    "def promedio(*numeros):\n",
    "    suma = 0\n",
    "    k = 0\n",
    "    for n in numeros:\n",
    "        suma += n\n",
    "        k += 1\n",
    "    return suma/k"
   ]
  },
  {
   "cell_type": "code",
   "execution_count": 60,
   "metadata": {},
   "outputs": [
    {
     "name": "stdout",
     "output_type": "stream",
     "text": [
      "7.5\n",
      "50.0\n",
      "8.75\n"
     ]
    }
   ],
   "source": [
    "print(promedio(10,5))\n",
    "print(promedio(10,50,40,80,20,100))\n",
    "print(promedio(5,15,10,5))"
   ]
  },
  {
   "cell_type": "markdown",
   "metadata": {},
   "source": [
    "Observe que lo único que hacemos es que al nombre del parámetro le anteponemos un asterisco, esto le indica \n",
    "a Python que la cantidad de argumentos de entrada es indeterminada, en principio. Claro está, que el manejo posterior \n",
    "de la información es algo que el programador debe tener en cuenta. Dentro del cuerpo de la función \n",
    "se debe considerar que el parámetro `numeros` será una tupla cuya cantidad de elementos dependerá \n",
    "de la cantidad de argumentos ingresados."
   ]
  },
  {
   "cell_type": "markdown",
   "metadata": {},
   "source": [
    "### Funciones y los argumentos con nombre\n",
    "\n",
    "Una función en Python se puede *mandar a llamar* pasándo los argumentos de manera posicional, es \n",
    "decir, en el orden que fueron definidos en la función, o bien, haciendo uso del nombre del parámetro correspondiente \n",
    "al argumento que se introduce, por ejemplo:"
   ]
  },
  {
   "cell_type": "code",
   "execution_count": 61,
   "metadata": {},
   "outputs": [],
   "source": [
    "def cuenta_cuantas(frase, letra):\n",
    "    k = 0\n",
    "    for car in frase:\n",
    "        if car is letra:\n",
    "            k += 1\n",
    "    return k"
   ]
  },
  {
   "cell_type": "code",
   "execution_count": 62,
   "metadata": {},
   "outputs": [
    {
     "name": "stdout",
     "output_type": "stream",
     "text": [
      "2\n",
      "2\n",
      "2\n"
     ]
    }
   ],
   "source": [
    "print( cuenta_cuantas(\"hola mundo\", \"o\") )\n",
    "print( cuenta_cuantas(frase=\"hola mundo\", letra=\"o\") )\n",
    "print( cuenta_cuantas(letra=\"o\", frase=\"hola mundo\") )"
   ]
  },
  {
   "cell_type": "markdown",
   "metadata": {},
   "source": [
    "La función `cuenta_cuantas` devuelve el número de presencias de una determinada letra en una frase. Observe \n",
    "las tres formas en que la *ejecutamos*, todas son equivalentes. En la primera se pasan los argumentos de \n",
    "forma posicional, en la segunda y tercera se utilizan los argumentos con nombres, note que en este caso el orden \n",
    "en que los argumentos son pasados, es indistinto.\n",
    "\n",
    "En la definición de funciones es posible también especificar que se pasarán ciertos argumentos con nombre \n",
    "sin necesidad de escribirlos de manera explícita. Observe la siguiente función:"
   ]
  },
  {
   "cell_type": "code",
   "execution_count": 63,
   "metadata": {},
   "outputs": [],
   "source": [
    "def muestra_puntos(**personas):\n",
    "    for persona in personas.items():\n",
    "        print(persona[0] + \" tiene \" + str(persona[1]) + \" puntos\")"
   ]
  },
  {
   "cell_type": "code",
   "execution_count": 64,
   "metadata": {},
   "outputs": [
    {
     "name": "stdout",
     "output_type": "stream",
     "text": [
      "Jorge tiene 8 puntos\n",
      "Paty tiene 10 puntos\n",
      "==============================\n",
      "Ana tiene 6 puntos\n",
      "Carlos tiene 9 puntos\n",
      "Victor tiene 4 puntos\n",
      "Daniela tiene 8 puntos\n"
     ]
    }
   ],
   "source": [
    "muestra_puntos(Jorge=8, Paty=10)\n",
    "print(30*\"=\")\n",
    "muestra_puntos(Ana=6, Carlos=9, Victor=4, Daniela=8)"
   ]
  },
  {
   "cell_type": "markdown",
   "metadata": {},
   "source": [
    "Vea que la definición de la función `muestra_puntos` incluye un parámetro llamado `**personas`, esos dos \n",
    "asteriscos antes del nombre del parámetro, indican que no se tiene predeterminado el número de argumentos que se \n",
    "pasarán, pero además, indica que cada argumento a introducir deberá ser un argumento con nombre.\n",
    "Dentro del cuerpo de la función el parámetro `**personas` es un diccionario cuyas claves \n",
    "son los nombres de los argumentos y los valores corresponden a cada valor asignado al argumento."
   ]
  },
  {
   "cell_type": "markdown",
   "metadata": {},
   "source": [
    "---"
   ]
  },
  {
   "cell_type": "markdown",
   "metadata": {},
   "source": [
    "## Ejercicios\n",
    "\n",
    "1. En las siguientes opciones se muestran operaciones aritméticas entre diversos \n",
    "objetos de Python. Verifique si es posible realizarlas e indique el resultado, \n",
    "de no ser así describa el por qué.\n",
    "\n",
    "    1. `1 + 2`\n",
    "    1. `1.3 + 2.5`\n",
    "    1. `\"1\" + 2`\n",
    "    1. `\"1\" + \"2\"`\n",
    "    1. `[1,2,3] + [10,20]`\n",
    "    1. `{\"a\":10, \"b\":5} + {\"h\":2, \"i\":4}`\n",
    "    \n",
    "1. Observe el siguiente código e identifique y explique el error:\n",
    "\n",
    "    ```python\n",
    "    for a,b in [1,2,5,3,8,7]:\n",
    "        print(a)\n",
    "    ```\n",
    "\n",
    "1. El siguiente código debería imprimir la longitud de cada palabra contenida en la lista `palabras`. Identifique el error.\n",
    "\n",
    "    ```\n",
    "    palabras = [\"Carro\", \"Sol\", \"Mesa\", \"Dinosaurio\", \"Girasol\", \"Silla\"]\n",
    "    for palabra in palabras:\n",
    "        print(len(palabras))\n",
    "    ```\n",
    "\n",
    "1. Implemente un programa que determine si un número dado es par o impar.\n",
    "\n",
    "1. Escriba un programa que cuente el número de vocales en una frase. Tome en cuenta que las vocales \n",
    "podrían ser tanto mayúsculas como minúsculas.\n",
    "\n",
    "1. Escriba un programa que aproxime, mediante la suma de Riemann, el área bajo la curva de la función \n",
    "$ f(x) = x^2 + 3x $ en el intervalo $ 0 \\leq x \\leq 10 $. \n"
   ]
  },
  {
   "cell_type": "code",
   "execution_count": null,
   "metadata": {},
   "outputs": [],
   "source": []
  }
 ],
 "metadata": {
  "kernelspec": {
   "display_name": "Python 3",
   "language": "python",
   "name": "python3"
  },
  "language_info": {
   "codemirror_mode": {
    "name": "ipython",
    "version": 3
   },
   "file_extension": ".py",
   "mimetype": "text/x-python",
   "name": "python",
   "nbconvert_exporter": "python",
   "pygments_lexer": "ipython3",
   "version": "3.6.5"
  },
  "toc": {
   "base_numbering": 1,
   "nav_menu": {
    "height": "462px",
    "width": "608px"
   },
   "number_sections": true,
   "sideBar": true,
   "skip_h1_title": false,
   "title_cell": "Contenido",
   "title_sidebar": "Contents",
   "toc_cell": true,
   "toc_position": {},
   "toc_section_display": true,
   "toc_window_display": false
  }
 },
 "nbformat": 4,
 "nbformat_minor": 2
}
