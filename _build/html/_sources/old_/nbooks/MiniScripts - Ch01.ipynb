{
 "cells": [
  {
   "cell_type": "code",
   "execution_count": 57,
   "metadata": {},
   "outputs": [],
   "source": [
    "edades = {\"Ana\": 25, \"David\": 18, \"Lucas\": 35, \"Ximena\": 30, \"Ale\": 20}"
   ]
  },
  {
   "cell_type": "code",
   "execution_count": 54,
   "metadata": {},
   "outputs": [
    {
     "data": {
      "text/plain": [
       "25"
      ]
     },
     "execution_count": 54,
     "metadata": {},
     "output_type": "execute_result"
    }
   ],
   "source": [
    "edades[\"Ana\"]"
   ]
  },
  {
   "cell_type": "code",
   "execution_count": 60,
   "metadata": {},
   "outputs": [
    {
     "data": {
      "text/plain": [
       "25"
      ]
     },
     "execution_count": 60,
     "metadata": {},
     "output_type": "execute_result"
    }
   ],
   "source": [
    "edades.pop(\"Ana\")"
   ]
  },
  {
   "cell_type": "code",
   "execution_count": 61,
   "metadata": {},
   "outputs": [
    {
     "data": {
      "text/plain": [
       "{'David': 18, 'Lucas': 35, 'Ximena': 30, 'Ale': 20}"
      ]
     },
     "execution_count": 61,
     "metadata": {},
     "output_type": "execute_result"
    }
   ],
   "source": [
    "edades"
   ]
  },
  {
   "cell_type": "markdown",
   "metadata": {},
   "source": [
    "## Funciones"
   ]
  },
  {
   "cell_type": "code",
   "execution_count": 1,
   "metadata": {},
   "outputs": [
    {
     "name": "stdout",
     "output_type": "stream",
     "text": [
      "Hola Jorge, bienvenido.\n"
     ]
    }
   ],
   "source": [
    "def saluda(nombre):\n",
    "    s = \"Hola \" + nombre + \", bienvenido.\"\n",
    "    return s\n",
    "\n",
    "print(saluda(\"Jorge\"))"
   ]
  },
  {
   "cell_type": "code",
   "execution_count": 1,
   "metadata": {},
   "outputs": [
    {
     "name": "stdout",
     "output_type": "stream",
     "text": [
      "True\n",
      "False\n",
      "True\n"
     ]
    }
   ],
   "source": [
    "def espar(n):\n",
    "    if n%2 == 0:\n",
    "        s = True\n",
    "    else:\n",
    "        s = False\n",
    "    return s\n",
    "\n",
    "print(espar(2))\n",
    "print(espar(5))\n",
    "print(espar(10))"
   ]
  },
  {
   "cell_type": "code",
   "execution_count": 7,
   "metadata": {},
   "outputs": [
    {
     "name": "stdout",
     "output_type": "stream",
     "text": [
      "50\n",
      "3050\n"
     ]
    }
   ],
   "source": [
    "def mayor(a,b):\n",
    "    m = a\n",
    "    if a < b:\n",
    "        m = b\n",
    "    return m\n",
    "\n",
    "print( mayor(50,30) )\n",
    "print( mayor(1100,3050) )"
   ]
  },
  {
   "cell_type": "code",
   "execution_count": 14,
   "metadata": {},
   "outputs": [
    {
     "name": "stdout",
     "output_type": "stream",
     "text": [
      "(50, 30)\n",
      "(750, 130)\n"
     ]
    }
   ],
   "source": [
    "def calcula_rectangulo(b,h):\n",
    "    A = b*h\n",
    "    P = 2*b + 2*h\n",
    "    return A, P\n",
    "\n",
    "print( calcula_rectangulo(10,5) )\n",
    "print( calcula_rectangulo(50,15) )"
   ]
  },
  {
   "cell_type": "code",
   "execution_count": 41,
   "metadata": {},
   "outputs": [
    {
     "name": "stdout",
     "output_type": "stream",
     "text": [
      "Área: 2000\n",
      "Perímetro: 240\n"
     ]
    }
   ],
   "source": [
    "area1, perimetro1 = calcula_rectangulo(100, 20)\n",
    "print(\"Área: {0}\\nPerímetro: {1}\".format(area1, perimetro1))"
   ]
  },
  {
   "cell_type": "code",
   "execution_count": 52,
   "metadata": {},
   "outputs": [],
   "source": [
    "def mayor(*numeros):\n",
    "    m = numeros[0]\n",
    "    for numero in numeros:\n",
    "        if numero > m:\n",
    "            m = numero\n",
    "    return m"
   ]
  },
  {
   "cell_type": "code",
   "execution_count": 51,
   "metadata": {},
   "outputs": [
    {
     "data": {
      "text/plain": [
       "6"
      ]
     },
     "execution_count": 51,
     "metadata": {},
     "output_type": "execute_result"
    }
   ],
   "source": [
    "mayor(4,3,6,5)"
   ]
  },
  {
   "cell_type": "code",
   "execution_count": 75,
   "metadata": {},
   "outputs": [
    {
     "name": "stdout",
     "output_type": "stream",
     "text": [
      "7.5\n",
      "50.0\n",
      "8.75\n"
     ]
    }
   ],
   "source": [
    "def promedio(*numeros):\n",
    "    suma = 0\n",
    "    k = 0\n",
    "    for n in numeros:\n",
    "        suma += n\n",
    "        k += 1\n",
    "    return suma/k\n",
    "\n",
    "print(promedio(10,5))\n",
    "print(promedio(10,50,40,80,20,100))\n",
    "print(promedio(5,15,10,5))"
   ]
  },
  {
   "cell_type": "code",
   "execution_count": 5,
   "metadata": {},
   "outputs": [
    {
     "name": "stdout",
     "output_type": "stream",
     "text": [
      "2\n",
      "2\n",
      "2\n"
     ]
    }
   ],
   "source": [
    "def cuenta_cuantas(frase, letra):\n",
    "    k = 0\n",
    "    for car in frase:\n",
    "        if car is letra:\n",
    "            k += 1\n",
    "    return k\n",
    "\n",
    "print( cuenta_cuantas(\"hola mundo\", \"o\") )\n",
    "print( cuenta_cuantas(frase=\"hola mundo\", letra=\"o\") )\n",
    "print( cuenta_cuantas(letra=\"o\", frase=\"hola mundo\") )"
   ]
  },
  {
   "cell_type": "code",
   "execution_count": 17,
   "metadata": {},
   "outputs": [
    {
     "name": "stdout",
     "output_type": "stream",
     "text": [
      "Jorge tiene 8 puntos\n",
      "Paty tiene 10 puntos\n",
      "==============================\n",
      "Ana tiene 6 puntos\n",
      "Carlos tiene 9 puntos\n",
      "Victor tiene 4 puntos\n",
      "Daniela tiene 8 puntos\n"
     ]
    }
   ],
   "source": [
    "def muestra_puntos(**personas):\n",
    "    for persona in personas.items():\n",
    "        print(persona[0] + \" tiene \" + str(persona[1]) + \" puntos\")\n",
    "\n",
    "muestra_puntos(Jorge=8, Paty=10)\n",
    "print(30*\"=\")\n",
    "muestra_puntos(Ana=6, Carlos=9, Victor=4, Daniela=8)"
   ]
  },
  {
   "cell_type": "markdown",
   "metadata": {},
   "source": [
    "## Estructuras de control\n",
    "\n",
    "### Ciclo for"
   ]
  },
  {
   "cell_type": "code",
   "execution_count": 1,
   "metadata": {},
   "outputs": [
    {
     "name": "stdout",
     "output_type": "stream",
     "text": [
      "18\n",
      "50\n",
      "90\n",
      "-20\n",
      "100\n",
      "80\n",
      "37\n"
     ]
    }
   ],
   "source": [
    "numeros = [18,50,90,-20,100,80,37]\n",
    "for n in numeros:\n",
    "    print(n)"
   ]
  },
  {
   "cell_type": "code",
   "execution_count": 2,
   "metadata": {},
   "outputs": [
    {
     "name": "stdout",
     "output_type": "stream",
     "text": [
      "P\n",
      "y\n",
      "t\n",
      "h\n",
      "o\n",
      "n\n"
     ]
    }
   ],
   "source": [
    "palabra = \"Python\"\n",
    "for letra in palabra:\n",
    "    print(letra)"
   ]
  },
  {
   "cell_type": "code",
   "execution_count": 6,
   "metadata": {},
   "outputs": [
    {
     "name": "stdout",
     "output_type": "stream",
     "text": [
      "-5\n",
      "2\n",
      "0\n",
      "9\n",
      "5\n",
      "6\n",
      "1\n",
      "7\n",
      "15\n"
     ]
    }
   ],
   "source": [
    "matriz = [[-5,2,0], [9,5,6], [1,7,15]]\n",
    "for fila in matriz:\n",
    "    for elemento in fila:\n",
    "        print(elemento)"
   ]
  },
  {
   "cell_type": "code",
   "execution_count": 34,
   "metadata": {},
   "outputs": [],
   "source": [
    "a = 0\n",
    "b = 10\n",
    "n = 100\n",
    "f = \"x\"\n",
    "dx = (b-a)/n\n",
    "A = 0\n",
    "xi = a + dx\n",
    "while xi <= b:\n",
    "    x = xi\n",
    "    A += eval(f)*(xi-(xi-dx))\n",
    "    xi += dx"
   ]
  },
  {
   "cell_type": "code",
   "execution_count": 49,
   "metadata": {},
   "outputs": [
    {
     "name": "stdout",
     "output_type": "stream",
     "text": [
      "6\n",
      "6\n",
      "6\n",
      "6\n",
      "6\n",
      "6\n"
     ]
    }
   ],
   "source": [
    "palabras = [\"Carro\", \"Sol\", \"Mesa\", \"Dinosaurio\", \"Girasol\", \"Silla\"]\n",
    "for palabra in palabras:\n",
    "    print(len(palabras))"
   ]
  },
  {
   "cell_type": "markdown",
   "metadata": {},
   "source": [
    "## If"
   ]
  },
  {
   "cell_type": "code",
   "execution_count": null,
   "metadata": {},
   "outputs": [],
   "source": [
    "if cond1:\n",
    "    # hacer algo \n",
    "elif cond2:\n",
    "    # hacer otra cosa\n",
    "    #.\n",
    "    #.\n",
    "    #.\n",
    "elif condn:\n",
    "    # hacer algo más\n",
    "else:\n",
    "    # hacer algo por default"
   ]
  }
 ],
 "metadata": {
  "kernelspec": {
   "display_name": "Python 3",
   "language": "python",
   "name": "python3"
  },
  "language_info": {
   "codemirror_mode": {
    "name": "ipython",
    "version": 3
   },
   "file_extension": ".py",
   "mimetype": "text/x-python",
   "name": "python",
   "nbconvert_exporter": "python",
   "pygments_lexer": "ipython3",
   "version": "3.6.5"
  }
 },
 "nbformat": 4,
 "nbformat_minor": 2
}
