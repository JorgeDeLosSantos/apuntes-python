{
 "cells": [
  {
   "cell_type": "markdown",
   "metadata": {},
   "source": [
    "# Estructuras de control"
   ]
  },
  {
   "cell_type": "markdown",
   "metadata": {},
   "source": [
    "En un lenguaje de programación, las estructuras de control permiten modificar el flujo de la ejecución de un conjunto de instrucciones. Se pueden distinguir tres tipos básicos de control de flujo, a saber:\n",
    "\n",
    "* Control secuencial\n",
    "* Control de selección\n",
    "* Control de repetición"
   ]
  },
  {
   "cell_type": "markdown",
   "metadata": {},
   "source": [
    "<img src=\"img/estructuras-de-control/estructuras-de-control.svg\">"
   ]
  },
  {
   "cell_type": "markdown",
   "metadata": {},
   "source": [
    "En el control secuencial las instrucciones se ejecutan de manera secuencial desde el inicio hasta el fin del programa. En el control de selección se tiene una condición que puede ser falsa o verdadera, dependiendo de esto se ejecutará uno u otro bloque de instrucciones. En el control de repetición, un bloque de instrucciones se ejecuta de manera repetitiva mientras una condición sea verdadera, en caso contrario el flujo de ejecución se pasará a otro conjunto de instrucciones."
   ]
  },
  {
   "cell_type": "markdown",
   "metadata": {},
   "source": [
    "## Condicional `if-elif-else`\n",
    "\n",
    "El condicional `if-elif-else` es una estructura de control de selección que sirve para *tomar decisiones*, basándose en la evaluación de condiciones y/o comparaciones, en el flujo del programa. La sintaxis más general para `if-elif-else` es:\n",
    "\n",
    "```python\n",
    "if cond1:\n",
    "    # hacer algo \n",
    "elif cond2:\n",
    "    # hacer otra cosa\n",
    "...\n",
    "elif condn:\n",
    "    # hacer algo más\n",
    "else:\n",
    "    # hacer algo por default\n",
    "```\n",
    "\n",
    "Donde `cond1, cond2, ... condn` son valores lógicos que resultan de una comparación. Esta estructura se evalúa \n",
    "secuencialmente hasta encontrar una condición que se cumpla, si ninguna lo hace, entonces se ejecuta la instrucción \n",
    "colocada en el caso por default `else`.\n",
    "\n",
    "Hay que tener especial cuidado con las indentaciones de los bloques de código, en Python las indentaciones no son opcionales, tienen un significado sintáctico. La mayoría de los editores de código de Python indentarán de manera automática la siguiente línea, cada vez que coloques los dos puntos al final de una línea."
   ]
  },
  {
   "cell_type": "markdown",
   "metadata": {},
   "source": [
    "En el siguiente fragmento de código se muestra un programa que verifica si el valor de `a` es mayor, menor o igual al valor de `b`."
   ]
  },
  {
   "cell_type": "code",
   "execution_count": 2,
   "metadata": {},
   "outputs": [
    {
     "name": "stdout",
     "output_type": "stream",
     "text": [
      "a es menor que b\n"
     ]
    }
   ],
   "source": [
    "a = 10\n",
    "b = 30\n",
    "\n",
    "if a > b:\n",
    "    print(\"a es mayor que b\")\n",
    "elif a < b:\n",
    "    print(\"a es menor que b\")\n",
    "else:\n",
    "    print(\"a es igual a b\")"
   ]
  },
  {
   "cell_type": "markdown",
   "metadata": {},
   "source": [
    "Es muy común que en algunos casos, por cuestiones inherentes a lo que se está programando, únicamente se decida entre dos posibilidades que son excluyentes, en esos casos basta con una estructura *reducida* `if-else`.\n",
    "\n",
    "Por ejemplo, el siguiente código determina si un número es par o impar (un número entero cualquiera o es par o es impar, no hay otra posibilidad)."
   ]
  },
  {
   "cell_type": "code",
   "execution_count": 3,
   "metadata": {},
   "outputs": [
    {
     "name": "stdout",
     "output_type": "stream",
     "text": [
      "El número es impar\n"
     ]
    }
   ],
   "source": [
    "n = 1001\n",
    "\n",
    "if (-1)**(n) > 0:\n",
    "    print(\"El número es par\")\n",
    "else:\n",
    "    print(\"El número es impar\")"
   ]
  },
  {
   "cell_type": "markdown",
   "metadata": {},
   "source": [
    "La verificación que realiza el código anterior se basa en el hecho de que las potencias pares de -1 siempre serán 1, y las impares -1, es decir:\n",
    "\n",
    "$$\n",
    "(-1)^n = \\left\\{\\begin{matrix}\n",
    "1 \\text{       ; si n es par} \\\\\n",
    "-1 \\text{      ; si n es impar} \n",
    "\\end{matrix}\\right.\n",
    "$$"
   ]
  },
  {
   "cell_type": "markdown",
   "metadata": {},
   "source": [
    "Supongamos ahora otro caso en donde las posibilidades son mutuamente excluyentes: en un curso la calificación mínima aprobatoria es de 70, la escala de calificación es de 0 a 100, ¿cómo podríamos implementar un código que decida si un alumno aprobó o reprobó la asignatura? Observa lo siguiente:"
   ]
  },
  {
   "cell_type": "code",
   "execution_count": 16,
   "metadata": {},
   "outputs": [
    {
     "name": "stdout",
     "output_type": "stream",
     "text": [
      "Aprobado\n"
     ]
    }
   ],
   "source": [
    "calificacion = 100\n",
    "\n",
    "if calificacion >= 70:\n",
    "    print(\"Aprobado\")\n",
    "else:\n",
    "    print(\"No aprobado\")"
   ]
  },
  {
   "cell_type": "markdown",
   "metadata": {},
   "source": [
    "```{admonition} Sobre datos y validaciones\n",
    ":class: warning\n",
    "\n",
    "Usualmente un programa de computadora recibe datos de forma externa, es decir, alguien los proporciona de forma manual o se leen desde algún archivo de datos o desde algún sensor. Esto implica la posibilidad de que se reciban datos que no corresponderían con lo esperado, por ejemplo, en el caso del programa anterior, imagina ¿qué pasaría si un usuario inserta una calificación de 150? El programa seguiría funcionando y te imprimiría un mensaje de aprobado. Una manera de solventar esta situación sería adicionar una  verificación de que el valor pasado esté en el rango de valores esperado, por ejemplo:\n",
    "\n",
    "\n",
    "```python\n",
    "calificacion = 150\n",
    "\n",
    "if calificacion < 0 or calificacion > 100:\n",
    "    print(\"La calificación debe estar en la escala de 0 a 100\")\n",
    "elif calificacion >= 70:\n",
    "    print(\"Aprobado\")\n",
    "else:\n",
    "    print(\"No aprobado\")\n",
    "```\n",
    "```"
   ]
  },
  {
   "cell_type": "markdown",
   "metadata": {},
   "source": [
    "## Ciclo `for`\n",
    "\n",
    "El **bucle for** es una estructura de control de repetición, en la cual se conocen \n",
    "*a priori* el número de iteraciones a realizar. En lenguajes como C++ o Java, el ciclo `for` \n",
    "necesita de una variable de ciclo de tipo entero que irá incrementándose en cada iteración. En Python, la cuestión es un poco diferente, el ciclo `for` *recorre* una secuencia y en la k-ésima iteración la variable de ciclo *adopta* el \n",
    "valor del elemento en la k-ésima posición del iterable.\n",
    "\n",
    "De manera general, la sintaxis de `for` es:\n",
    "\n",
    "```python\n",
    "for var in secuencia:\n",
    "    # Hacer algo ...\n",
    "```\n",
    "\n",
    "Donde `var` es la **variable de ciclo** o **variable de control** y `secuencia` la secuencia de valores que deberá iterarse. Es necesario remarcar la importancia de los dos puntos al final de esta primera línea y en indentar el bloque de \n",
    "código subsecuente que definirá el cuerpo del ciclo for."
   ]
  },
  {
   "cell_type": "markdown",
   "metadata": {},
   "source": [
    "Como primer ejemplo vamos a recorrer una lista de números y mostrarlos por consola:"
   ]
  },
  {
   "cell_type": "code",
   "execution_count": 17,
   "metadata": {},
   "outputs": [
    {
     "name": "stdout",
     "output_type": "stream",
     "text": [
      "18\n",
      "50\n",
      "90\n",
      "-20\n",
      "100\n",
      "80\n",
      "37\n"
     ]
    }
   ],
   "source": [
    "numeros = [18,50,90,-20,100,80,37]\n",
    "for n in numeros:\n",
    "    print(n)"
   ]
  },
  {
   "cell_type": "markdown",
   "metadata": {},
   "source": [
    "Observe que en cada iteración la variable de ciclo `n` adopta el valor de cada uno de los elementos de la \n",
    "lista `numeros`.\n",
    "\n",
    "Como ya se mencionó, en Python la variable de ciclo no necesariamente adopta valores numéricos enteros secuenciales, \n",
    "si no valores dentro de una secuencia. Esta secuencia podría ser también una cadena de caracteres, por ejemplo:"
   ]
  },
  {
   "cell_type": "code",
   "execution_count": 148,
   "metadata": {},
   "outputs": [
    {
     "name": "stdout",
     "output_type": "stream",
     "text": [
      "P\n",
      "y\n",
      "t\n",
      "h\n",
      "o\n",
      "n\n"
     ]
    }
   ],
   "source": [
    "palabra = \"Python\"\n",
    "for letra in palabra:\n",
    "    print(letra)"
   ]
  },
  {
   "cell_type": "markdown",
   "metadata": {},
   "source": [
    "Dentro de un ciclo for podemos colocar cualquier otra instrucción de control de flujo. Un caso muy común es el de incluir otro ciclo for, algo que habitualmente se denota como **ciclos anidados**. Por ejemplo, supongamos que se requieren mostrar por consola todos los elementos de algunas listas contenidas dentro de otra lista principal, en ese caso se hace necesario primero iterar sobre la lista principal y enseguida hacerlo sobre las listas contenidas, por ejemplo:"
   ]
  },
  {
   "cell_type": "code",
   "execution_count": 18,
   "metadata": {},
   "outputs": [
    {
     "name": "stdout",
     "output_type": "stream",
     "text": [
      "-5\n",
      "2\n",
      "0\n",
      "9\n",
      "5\n",
      "6\n",
      "1\n",
      "7\n",
      "15\n"
     ]
    }
   ],
   "source": [
    "matriz = [[-5,2,0], [9,5,6], [1,7,15]]\n",
    "for fila in matriz:\n",
    "    for elemento in fila:\n",
    "        print(elemento)"
   ]
  },
  {
   "cell_type": "markdown",
   "metadata": {},
   "source": [
    "Con un ciclo for también podemos *desempaquetar* múltiples valores:"
   ]
  },
  {
   "cell_type": "code",
   "execution_count": 19,
   "metadata": {},
   "outputs": [
    {
     "name": "stdout",
     "output_type": "stream",
     "text": [
      "x=0 y=0\n",
      "x=1 y=0\n",
      "x=1 y=1\n",
      "x=0 y=1\n"
     ]
    }
   ],
   "source": [
    "puntos = [(0,0), (1,0), (1,1), (0,1)]\n",
    "\n",
    "for x,y in puntos:\n",
    "    print(f\"x={x} y={y}\")"
   ]
  },
  {
   "cell_type": "markdown",
   "metadata": {},
   "source": [
    "Una forma equivalente de *desempaquetar* el conjunto de tuplas anteriores sería como sigue:"
   ]
  },
  {
   "cell_type": "code",
   "execution_count": 24,
   "metadata": {},
   "outputs": [
    {
     "name": "stdout",
     "output_type": "stream",
     "text": [
      "x=0 y=0\n",
      "x=1 y=0\n",
      "x=1 y=1\n",
      "x=0 y=1\n"
     ]
    }
   ],
   "source": [
    "puntos = [(0,0), (1,0), (1,1), (0,1)]\n",
    "\n",
    "for punto in puntos:\n",
    "    print(f\"x={punto[0]} y={punto[1]}\")"
   ]
  },
  {
   "cell_type": "markdown",
   "metadata": {},
   "source": [
    "Observa la diferencia, la primera forma es un quizá un poco menos *intuitiva* pero más práctica y natural. En la primera se accede directamente con las variables de ciclo `(x,y)` a cada elemento de las tuplas que conforman la lista `puntos`, con la segunda se tiene que acceder mediante indexación a cada elemento."
   ]
  },
  {
   "cell_type": "markdown",
   "metadata": {},
   "source": [
    "## Ciclo `while`"
   ]
  },
  {
   "cell_type": "markdown",
   "metadata": {},
   "source": [
    "El ciclo `while` ejecuta un bloque de instrucciones mientras haya una condición que se cumpla. La sintaxis de `while` es: \n",
    "\n",
    "```python\n",
    "while cond:\n",
    "    # hacer algo \n",
    "```\n",
    "\n",
    "Donde `cond` es un valor de tipo booleano que usualmente resulta de realizar una comparación; mientras `cond` sea un valor booleano `True` entonces el bloque de instrucciones contenidas en `while` se ejecutarán.\n",
    "\n",
    "Veamos un ejemplo:"
   ]
  },
  {
   "cell_type": "code",
   "execution_count": 25,
   "metadata": {},
   "outputs": [
    {
     "name": "stdout",
     "output_type": "stream",
     "text": [
      "1\n",
      "2\n",
      "3\n",
      "4\n"
     ]
    }
   ],
   "source": [
    "x = 1\n",
    "while x < 5:\n",
    "    print(x)\n",
    "    x += 1"
   ]
  },
  {
   "cell_type": "markdown",
   "metadata": {},
   "source": [
    "En el código anterior, inicialmente `x` tiene un valor de 1, el flujo del programa *entra* en el ciclo while, puesto que la condición se cumple (dado que en ese momento `1 < 5`), posteriormente se ejecutan de manera repetitiva las instrucciones que están dentro del ciclo while, hasta que `x = 5`. La instrucción `x += 1` suma 1 al valor de `x` en cada iteración. "
   ]
  },
  {
   "cell_type": "markdown",
   "metadata": {},
   "source": [
    "Aunque es menos común y poco práctico, con `while` podríamos iterar, como con `for`, sobre una secuencia:"
   ]
  },
  {
   "cell_type": "code",
   "execution_count": 34,
   "metadata": {},
   "outputs": [
    {
     "name": "stdout",
     "output_type": "stream",
     "text": [
      "P\n",
      "a\n",
      "b\n",
      "l\n",
      "o\n"
     ]
    }
   ],
   "source": [
    "nombre = \"Pablo\"\n",
    "k = 0\n",
    "while k < len(nombre):\n",
    "    print(nombre[k])\n",
    "    k += 1"
   ]
  },
  {
   "cell_type": "markdown",
   "metadata": {},
   "source": [
    "El ciclo `while` suele ser muy utilizado en métodos numéricos, donde el número de iteraciones requeridas puede establecerse por el usuario de manera directa o bien mediante la indicación de una tolerancia."
   ]
  },
  {
   "cell_type": "markdown",
   "metadata": {},
   "source": [
    "Por ejemplo, el [método de Newton](https://es.wikipedia.org/wiki/M%C3%A9todo_de_Newton) es un algoritmo que se utiliza para aproximar  raíces de una función real. Este método se puede establecer como sigue: \n",
    "\n",
    "> Sea $f$ una función real derivable, y sea r un cero real de $f$. Si $x_n$ es una aproximación a $r$, \n",
    "> entonces la siguiente aproximación $x_{n+1}$ está dada por:\n",
    ">\n",
    "> $$ x_{n+1} = x_n - \\frac{ f(x_n) }{ f'(x_n) } $$\n",
    ">\n",
    "> Donde $ f' $ denota la derivada de $ f $. [^newton]\n",
    "\n",
    "[^newton]: https://www.calculo.jcbmat.com/id454.htm"
   ]
  },
  {
   "cell_type": "markdown",
   "metadata": {},
   "source": [
    "Vamos a aproximar una de las raíces de la función $ f(x) =  x^3 - 5x^2 + 3$, para ello necesitamos conocer también la derivada de esta función, derivando se tiene que $f'(x) = 3x^2 - 10x$. Observe el siguiente código implementado:"
   ]
  },
  {
   "cell_type": "code",
   "execution_count": 44,
   "metadata": {},
   "outputs": [
    {
     "name": "stdout",
     "output_type": "stream",
     "text": [
      "N = 1 | xn = 0.9411764705882353\n",
      "N = 2 | xn = 0.853031581485053\n",
      "N = 3 | xn = 0.8502595519219142\n",
      "N = 4 | xn = 0.850256587246385\n",
      "N = 5 | xn = 0.8502565872429864\n"
     ]
    }
   ],
   "source": [
    "f = lambda x: x**3 - 5*x**2 + 3 # función f\n",
    "fp = lambda x: 3*x**2 - 10*x # derivada de la función f'\n",
    "nit = 5 # número de iteraciones\n",
    "k = 0 # contador de iteraciones\n",
    "xn = 0.5 # valor inicial\n",
    "\n",
    "while k < nit:\n",
    "    xnm1 = xn - ( f(xn) / fp(xn) )\n",
    "    xn = xnm1\n",
    "    k += 1\n",
    "    print(f\"N = {k} | xn = {xn}\")"
   ]
  },
  {
   "cell_type": "markdown",
   "metadata": {},
   "source": [
    "En `f` y `fp` se definen como funciones lambda las expresiones correspondientes a la función y su derivada, de manera respectiva. En la variable `nit` establecemos el número de iteraciones a realizar, la variable `k` funciona como un contador de iteraciones y en `xn` se guarda primeramente el valor inicial, y posteriormente, cada una de las aproximaciones realizadas. "
   ]
  },
  {
   "cell_type": "markdown",
   "metadata": {},
   "source": [
    "Ahora veamos otro ejemplo, en donde se combina el uso de `while` con el condicional `if-else`."
   ]
  },
  {
   "cell_type": "code",
   "execution_count": 25,
   "metadata": {},
   "outputs": [
    {
     "name": "stdout",
     "output_type": "stream",
     "text": [
      "¡Bienvenido a Adivina el Número!\n",
      "Ingrese un entero entre 1 y 10: 4\n",
      "4 no es el número, intenta nuevamente\n",
      "\n",
      "Ingrese un entero entre 1 y 10: 5\n",
      "5 no es el número, intenta nuevamente\n",
      "\n",
      "Ingrese un entero entre 1 y 10: 8\n",
      "8 no es el número, intenta nuevamente\n",
      "\n",
      "Ingrese un entero entre 1 y 10: 1\n",
      "1 no es el número, intenta nuevamente\n",
      "\n",
      "Ingrese un entero entre 1 y 10: 10\n",
      "Has adivinado después de 5 intentos\n"
     ]
    }
   ],
   "source": [
    "from random import randint\n",
    "\n",
    "print(\"¡Bienvenido a Adivina el Número!\")\n",
    "n = randint(1,10) # Genera un entero aleatorio en el intervalo [1,10]\n",
    "k = 1 # número de intentos\n",
    "\n",
    "while True:\n",
    "    x = int( input(\"Ingrese un entero entre 1 y 10: \") )\n",
    "    if x == n:\n",
    "        print(f\"Has adivinado después de {k} intentos\")\n",
    "        break\n",
    "    else:\n",
    "        print(f\"{x} no es el número, intenta nuevamente\\n\")\n",
    "    k += 1"
   ]
  },
  {
   "cell_type": "markdown",
   "metadata": {},
   "source": [
    "El código anterior es un juego muy simple de adivinar un número entero entre 1 y 10 que la computadora genera de manera aleatoria mediante la función `randint`. Observa que el ciclo `while`, en principio, se ejecutará de forma indefinida, dado que la condición es la constante booleana `True`; en este caso para *romper* la ejecución iterativa se hace uso de la instrucción `break`, en conjunto con la sentencia de selección `if-else`, observa que si la condición del `if` se cumple (`x == n`) entonces el programa rompe el ciclo `while` con la instrucción `break`, en caso contrario simplemente se sigue ejecutando el juego."
   ]
  },
  {
   "cell_type": "markdown",
   "metadata": {},
   "source": [
    "## Ejercicios"
   ]
  },
  {
   "cell_type": "markdown",
   "metadata": {},
   "source": [
    "---\n",
    "1. Desarrolle un programa que calcule la suma de los enteros del 1 al 100, es decir: 1 + 2 + 3 + ... + 99 + 100"
   ]
  },
  {
   "cell_type": "markdown",
   "metadata": {},
   "source": [
    "---\n",
    "2. Escriba un programa que reciba un entero positivo. Sí el número ingresado es múltiplo de 5 deberá imprimir en pantalla `El número es múltiplo de 5`, en cualquier otro caso deberá imprimir `El número no es múltiplo de 5`."
   ]
  },
  {
   "cell_type": "markdown",
   "metadata": {},
   "source": [
    "---\n",
    "3. Escriba un programa que reciba como entrada una frase (un string) y determine cuántas veces aparece cada una de las vocales en esa frase. El valor de salida a mostrar debe ser un diccionario, se muestra enseguida un ejemplo:\n",
    "\n",
    "```python\n",
    "# entrada\n",
    "frase = \"hola mundo\"\n",
    "\n",
    "# salida\n",
    "{'a': 1, 'e': 0, 'i': 0, 'o': 2, 'u': 1}\n",
    "```\n",
    "\n"
   ]
  },
  {
   "cell_type": "markdown",
   "metadata": {},
   "source": [
    "---\n",
    "4. Desarrolle un programa que reciba una lista de números enteros y calcule cuántos el porcentaje de números pares que contiene, redondee el porcentaje calculado. \n",
    "\n",
    "```python\n",
    "# Ejemplos\n",
    "\n",
    "x = [10,20,40,45,66,53,55] # porcentaje -> 57\n",
    "x = [100,200,300] # porcentaje -> 100\n",
    "x = [33,45,65,90,23,12,189] # porcentaje -> 29\n",
    "```"
   ]
  },
  {
   "cell_type": "markdown",
   "metadata": {},
   "source": [
    "---\n",
    "5. ¿Cuál es el error en el siguiente código? Descríbalo."
   ]
  },
  {
   "cell_type": "code",
   "execution_count": 1,
   "metadata": {},
   "outputs": [],
   "source": [
    "numeros = [10,20,30]\n",
    "for x,y in numeros:\n",
    "    print(x)"
   ]
  },
  {
   "cell_type": "markdown",
   "metadata": {},
   "source": [
    "---\n",
    "6. Modifique el siguiente código para que se muestre en pantalla lo siguiente:\n",
    "\n",
    "```\n",
    "x\n",
    "xx\n",
    "xxx\n",
    "xxxx\n",
    "xxxxx\n",
    "```"
   ]
  },
  {
   "cell_type": "code",
   "execution_count": 16,
   "metadata": {},
   "outputs": [
    {
     "name": "stdout",
     "output_type": "stream",
     "text": [
      "o\n",
      "oo\n"
     ]
    }
   ],
   "source": [
    "for x in range(1,3):\n",
    "    print(x * \"o\")"
   ]
  },
  {
   "cell_type": "markdown",
   "metadata": {},
   "source": []
  }
 ],
 "metadata": {
  "kernelspec": {
   "display_name": "Python 3",
   "language": "python",
   "name": "python3"
  },
  "language_info": {
   "codemirror_mode": {
    "name": "ipython",
    "version": 3
   },
   "file_extension": ".py",
   "mimetype": "text/x-python",
   "name": "python",
   "nbconvert_exporter": "python",
   "pygments_lexer": "ipython3",
   "version": "3.6.5"
  },
  "toc": {
   "base_numbering": 1,
   "nav_menu": {
    "height": "462px",
    "width": "608px"
   },
   "number_sections": true,
   "sideBar": true,
   "skip_h1_title": false,
   "title_cell": "Contenido",
   "title_sidebar": "Contents",
   "toc_cell": true,
   "toc_position": {},
   "toc_section_display": true,
   "toc_window_display": false
  }
 },
 "nbformat": 4,
 "nbformat_minor": 2
}