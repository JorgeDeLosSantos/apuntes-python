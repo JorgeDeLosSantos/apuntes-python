{
 "cells": [
  {
   "cell_type": "markdown",
   "metadata": {},
   "source": [
    "# Análisis cinemático de mecanismos"
   ]
  },
  {
   "cell_type": "markdown",
   "metadata": {},
   "source": [
    "w = symbols(\"\\\\omega\")\n",
    "r = symbols(\"r_{BA}\")\n",
    "thBA = symbols(\"\\\\theta_{BA}\")\n",
    "va = symbols(\"v_A\")\n",
    "vb = symbols(\"v_B\")\n",
    "tha = symbols(\"\\\\theta_{A}\")\n",
    "thb = symbols(\"\\\\theta_{B}\")"
   ]
  },
  {
   "cell_type": "markdown",
   "metadata": {},
   "source": [
    "VA = Matrix([va*cos(tha), va*sin(tha), 0])\n",
    "VB = Matrix([vb*cos(thb), vb*sin(thb), 0])\n",
    "W = Matrix([0,0,w])\n",
    "RBA = Matrix([r*cos(thBA), r*sin(thBA), 0])\n",
    "\n",
    "ecv = Eq(VB, VA + W.cross(RBA) )\n",
    "\n",
    "solve(ecv, [vb, w])"
   ]
  },
  {
   "cell_type": "markdown",
   "metadata": {},
   "source": [
    "## Utilizando la librería `cime`"
   ]
  },
  {
   "cell_type": "markdown",
   "metadata": {},
   "source": [
    "La librería `cime` es un conjunto de funciones y clases cuyo objetivo es facilitar el análisis cinemático de mecanismos planos. \n",
    "\n",
    "Para instalar la librería debe ejecutar la siguiente instrucción en consola:\n",
    "\n",
    "```\n",
    "pip install git+https://github.com/iro-upgto/cime.git\n",
    "```\n",
    "\n",
    "Asegúrese que al momento de ejecutar estas instrucciones cuente con una conexión a internet.\n",
    "\n",
    "### Importando la librería\n",
    "\n",
    "Para importar las funciones y clases de esta librería basta con ejecutar la siguiente instrucción:"
   ]
  },
  {
   "cell_type": "code",
   "execution_count": 1,
   "metadata": {},
   "outputs": [],
   "source": [
    "from cime import *"
   ]
  },
  {
   "cell_type": "markdown",
   "metadata": {},
   "source": [
    "\n",
    "### La función `vexp` \n",
    "\n",
    "La función `vexp` de la librería `cime` tiene el objetivo de representar un vector en forma rectangular a partir de su forma compleja exponencial. Por ejemplo:\n",
    "\n",
    "$$\n",
    "K e^{j\\theta} \\qquad \\rightarrow \\qquad \\begin{bmatrix} K \\cos\\theta \\\\ K \\sin\\theta \\end{bmatrix}\n",
    "$$\n",
    "\n",
    "O bien:\n",
    "\n",
    "$$\n",
    "j K e^{j\\theta} \\qquad \\rightarrow \\qquad \\begin{bmatrix} - K \\sin\\theta \\\\ K \\cos\\theta \\end{bmatrix}\n",
    "$$\n",
    "\n",
    "Vamos a definir primeramente algunas variables simbólicas:"
   ]
  },
  {
   "cell_type": "code",
   "execution_count": 2,
   "metadata": {},
   "outputs": [],
   "source": [
    "K = symbols(\"K\")\n",
    "th = symbols(\"\\\\theta\")"
   ]
  },
  {
   "cell_type": "markdown",
   "metadata": {},
   "source": [
    "La función `vexp` puede aceptar tres argumentos, podemos solicitar la ayuda al respecto:"
   ]
  },
  {
   "cell_type": "code",
   "execution_count": 3,
   "metadata": {},
   "outputs": [
    {
     "name": "stdout",
     "output_type": "stream",
     "text": [
      "Help on function vexp in module cime.core:\n",
      "\n",
      "vexp(r, theta, j=False)\n",
      "    Parameters\n",
      "    ----------\n",
      "    r : int, float, symbol\n",
      "        Vector magnitude\n",
      "    theta : int, float, symbol\n",
      "        Vector orientation\n",
      "    j : bool\n",
      "        ¿Is multiplied by \"j\"?\n",
      "    \n",
      "    Returns\n",
      "    -------\n",
      "    R : :class:`sympy.matrices.dense.MutableDenseMatrix`\n",
      "        Vector in rectangular coordinates\n",
      "\n"
     ]
    }
   ],
   "source": [
    "help(vexp)"
   ]
  },
  {
   "cell_type": "markdown",
   "metadata": {},
   "source": [
    "El primer argumento corresponde a la magnitud del vector, el segundo a la orientación (ángulo) del vector y el tercero corresponde a un argumento booleano que indica si el vector está multiplicado por la unidad imaginaria `j`, por default se asume que no.\n",
    "\n",
    "Veamos el siguiente ejemplo:"
   ]
  },
  {
   "cell_type": "code",
   "execution_count": 4,
   "metadata": {},
   "outputs": [
    {
     "data": {
      "image/png": "[encoded data removed]",
      "text/latex": [
       "$\\displaystyle \\left[\\begin{matrix}K \\cos{\\left(\\theta \\right)}\\\\K \\sin{\\left(\\theta \\right)}\\end{matrix}\\right]$"
      ],
      "text/plain": [
       "⎡K⋅cos(\\theta)⎤\n",
       "⎢             ⎥\n",
       "⎣K⋅sin(\\theta)⎦"
      ]
     },
     "execution_count": 4,
     "metadata": {},
     "output_type": "execute_result"
    }
   ],
   "source": [
    "vexp(K, th)"
   ]
  },
  {
   "cell_type": "code",
   "execution_count": 5,
   "metadata": {},
   "outputs": [
    {
     "data": {
      "image/png": "[encoded data removed]",
      "text/latex": [
       "$\\displaystyle \\left[\\begin{matrix}- K \\sin{\\left(\\theta \\right)}\\\\K \\cos{\\left(\\theta \\right)}\\end{matrix}\\right]$"
      ],
      "text/plain": [
       "⎡-K⋅sin(\\theta)⎤\n",
       "⎢              ⎥\n",
       "⎣K⋅cos(\\theta) ⎦"
      ]
     },
     "execution_count": 5,
     "metadata": {},
     "output_type": "execute_result"
    }
   ],
   "source": [
    "vexp(K, th, \"j\")"
   ]
  },
  {
   "cell_type": "markdown",
   "metadata": {},
   "source": [
    "Naturalmente, no sólo funciona para valores simbólicos:"
   ]
  },
  {
   "cell_type": "code",
   "execution_count": 6,
   "metadata": {},
   "outputs": [
    {
     "data": {
      "image/png": "[encoded data removed]",
      "text/latex": [
       "$\\displaystyle \\left[\\begin{matrix}0\\\\5\\end{matrix}\\right]$"
      ],
      "text/plain": [
       "⎡0⎤\n",
       "⎢ ⎥\n",
       "⎣5⎦"
      ]
     },
     "execution_count": 6,
     "metadata": {},
     "output_type": "execute_result"
    }
   ],
   "source": [
    "vexp(5, pi/2)"
   ]
  },
  {
   "cell_type": "code",
   "execution_count": 7,
   "metadata": {},
   "outputs": [
    {
     "data": {
      "image/png": "[encoded data removed]",
      "text/latex": [
       "$\\displaystyle \\left[\\begin{matrix}-5\\\\0\\end{matrix}\\right]$"
      ],
      "text/plain": [
       "⎡-5⎤\n",
       "⎢  ⎥\n",
       "⎣0 ⎦"
      ]
     },
     "execution_count": 7,
     "metadata": {},
     "output_type": "execute_result"
    }
   ],
   "source": [
    "vexp(5, pi/2, \"j\")"
   ]
  },
  {
   "cell_type": "markdown",
   "metadata": {},
   "source": [
    "### Resolviendo problemas de análisis cinemático utilizando `cime`"
   ]
  },
  {
   "cell_type": "markdown",
   "metadata": {},
   "source": [
    "En la figura se muestra un mecanismo de manivela-biela corredera. Se sabe que el ángulo $\\phi = 45°$ y que la manivela $OA$ está rotando a una velocidad angular $\\omega_{OA} = 12$ rad/s, con esa información debemos determinar la velocidad angular de la biela $AB$ y la velocidad del bloque en $B$. Se conoce que $\\overline{OA}=100$ mm y $\\overline{AB}=300$ mm.\n",
    "\n",
    "<img src=\"img/acm/slider_crank_01.svg\">"
   ]
  },
  {
   "cell_type": "markdown",
   "metadata": {},
   "source": [
    "Si planteamos el lazo vectorial como se muestra en la figura podemos establecer la siguiente ecuación de posición:\n",
    "\n",
    "$$ r_2 e^{j\\theta_2} + r_3 e^{j\\theta_3} - r_1 e^{j\\theta_1} = 0 $$\n",
    "\n",
    "Utilizando `cime` para establecer dicha ecuación, previamente definiendo los valores conocidos:"
   ]
  },
  {
   "cell_type": "code",
   "execution_count": 8,
   "metadata": {},
   "outputs": [
    {
     "data": {
      "image/png": "[encoded data removed]",
      "text/latex": [
       "$\\displaystyle \\left[\\begin{matrix}- r_{1} + 300 \\cos{\\left(\\theta_3 \\right)} + 50 \\sqrt{2}\\\\300 \\sin{\\left(\\theta_3 \\right)} + 50 \\sqrt{2}\\end{matrix}\\right] = \\left[\\begin{matrix}0\\\\0\\end{matrix}\\right]$"
      ],
      "text/plain": [
       "⎡-r₁ + 300⋅cos(\\theta₃) + 50⋅√2⎤   ⎡0⎤\n",
       "⎢                              ⎥ = ⎢ ⎥\n",
       "⎣   300⋅sin(\\theta₃) + 50⋅√2   ⎦   ⎣0⎦"
      ]
     },
     "execution_count": 8,
     "metadata": {},
     "output_type": "execute_result"
    }
   ],
   "source": [
    "r2 = 100\n",
    "r3 = 300\n",
    "t1 = 0 \n",
    "t2 = rad(45)\n",
    "ecpos = Eq( vexp(r2, t2) + vexp(r3, t3) - vexp(r1, t1), vexp(0,0))\n",
    "ecpos"
   ]
  },
  {
   "cell_type": "markdown",
   "metadata": {},
   "source": [
    "Resolviendo para los valores desconocidos, se tiene:"
   ]
  },
  {
   "cell_type": "code",
   "execution_count": 9,
   "metadata": {},
   "outputs": [
    {
     "data": {
      "image/png": "[encoded data removed]",
      "text/latex": [
       "$\\displaystyle \\left[ \\left\\{ \\theta_3 : \\operatorname{asin}{\\left(\\frac{\\sqrt{2}}{6} \\right)} + \\pi, \\  r_{1} : - 50 \\sqrt{34} + 50 \\sqrt{2}\\right\\}, \\  \\left\\{ \\theta_3 : - \\operatorname{asin}{\\left(\\frac{\\sqrt{2}}{6} \\right)}, \\  r_{1} : 50 \\sqrt{2} + 50 \\sqrt{34}\\right\\}\\right]$"
      ],
      "text/plain": [
       "⎡⎧             ⎛√2⎞                         ⎫  ⎧              ⎛√2⎞            \n",
       "⎢⎨\\theta₃: asin⎜──⎟ + π, r₁: -50⋅√34 + 50⋅√2⎬, ⎨\\theta₃: -asin⎜──⎟, r₁: 50⋅√2 \n",
       "⎣⎩             ⎝6 ⎠                         ⎭  ⎩              ⎝6 ⎠            \n",
       "\n",
       "        ⎫⎤\n",
       "+ 50⋅√34⎬⎥\n",
       "        ⎭⎦"
      ]
     },
     "execution_count": 9,
     "metadata": {},
     "output_type": "execute_result"
    }
   ],
   "source": [
    "xpos = solve(ecpos)\n",
    "xpos"
   ]
  },
  {
   "cell_type": "markdown",
   "metadata": {},
   "source": [
    "Observe que Python nos devuelve dos soluciones, ¿cuál debemos tomar? ¡La que corresponda con la posición actual del mecanismo!\n",
    "\n",
    "Por ejemplo, si tomamos la primera solución:"
   ]
  },
  {
   "cell_type": "code",
   "execution_count": 10,
   "metadata": {},
   "outputs": [
    {
     "data": {
      "image/png": "[encoded data removed]",
      "text/latex": [
       "$\\displaystyle \\left( 193.633022225366, \\  -220.83691662361\\right)$"
      ],
      "text/plain": [
       "(193.633022225366, -220.83691662361)"
      ]
     },
     "execution_count": 10,
     "metadata": {},
     "output_type": "execute_result"
    }
   ],
   "source": [
    "deg(xpos[0][t3]).evalf(), (xpos[0][r1]).evalf()"
   ]
  },
  {
   "cell_type": "markdown",
   "metadata": {},
   "source": [
    "Se observa que los valores calculados no corresponden con lo esperable. Veamos ahora con la segunda solución:"
   ]
  },
  {
   "cell_type": "code",
   "execution_count": 11,
   "metadata": {},
   "outputs": [
    {
     "data": {
      "image/png": "[encoded data removed]",
      "text/latex": [
       "$\\displaystyle \\left( -13.6330222253664, \\  362.25827286092\\right)$"
      ],
      "text/plain": [
       "(-13.6330222253664, 362.25827286092)"
      ]
     },
     "execution_count": 11,
     "metadata": {},
     "output_type": "execute_result"
    }
   ],
   "source": [
    "deg(xpos[1][t3]).evalf(), (xpos[1][r1]).evalf()"
   ]
  },
  {
   "cell_type": "markdown",
   "metadata": {},
   "source": [
    "Note que esta solución sí corresponde con lo que esperaríamos. Reescribimos la variable `xpos` para únicamente quedarnos con la segunda solución:"
   ]
  },
  {
   "cell_type": "code",
   "execution_count": 12,
   "metadata": {},
   "outputs": [],
   "source": [
    "xpos = xpos[1]"
   ]
  },
  {
   "cell_type": "markdown",
   "metadata": {},
   "source": [
    "Para el análisis de velocidad, derivando la ecuación de posición se tiene:\n"
   ]
  },
  {
   "cell_type": "code",
   "execution_count": null,
   "metadata": {},
   "outputs": [],
   "source": []
  },
  {
   "cell_type": "markdown",
   "metadata": {},
   "source": [
    "## Ejemplos resueltos (método del movimiento relativo)"
   ]
  },
  {
   "cell_type": "markdown",
   "metadata": {},
   "source": [
    "Para todos los ejemplos resueltos, asumiremos que hemos importado, previamente, la librería SymPy, de la siguiente manera:"
   ]
  },
  {
   "cell_type": "code",
   "execution_count": 13,
   "metadata": {},
   "outputs": [],
   "source": [
    "from sympy import *\n",
    "from sympy.matrices import Matrix"
   ]
  },
  {
   "cell_type": "markdown",
   "metadata": {},
   "source": [
    "Y que hemos colocado la instrucción `init_printing` para *renderizar* las expresiones de SymPy:"
   ]
  },
  {
   "cell_type": "code",
   "execution_count": 14,
   "metadata": {},
   "outputs": [],
   "source": [
    "init_printing()"
   ]
  },
  {
   "cell_type": "markdown",
   "metadata": {},
   "source": [
    "<hr style=\"border-top: 3px solid #070707;\">\n",
    "\n",
    "**Ejemplo 1**. En la figura se muestra una placa rectangular de (300x180) mm, la cual está rotando a una velocidad angular constante de 65 rad/s en el sentido de las manecillas del reloj. Calcule la velocidad y aceleración de los puntos $P$, $Q$ y $M$, para la posición esquematizada.\n",
    "\n",
    "<img src=\"img/acm/rectangular_plate.svg\">\n",
    "\n",
    "*Solución*\n",
    "\n",
    "Comenzamos definiendo el vector de velocidad angular, el ángulo de 30° y las dimensiones de la placa:"
   ]
  },
  {
   "cell_type": "code",
   "execution_count": 15,
   "metadata": {},
   "outputs": [],
   "source": [
    "w = Matrix([0,0,-65]) # Vector de velocidad angular\n",
    "th = rad(30).evalf() # Ángulo en radianes\n",
    "b = 300 # Base de la placa\n",
    "h = 180 # Alto de la placa"
   ]
  },
  {
   "cell_type": "markdown",
   "metadata": {},
   "source": [
    "Para la velocidad del punto $Q$ sabemos que:\n",
    "\n",
    "$$ \\vec{v}_Q = \\vec{\\omega} \\times \\vec{r}_{Q/O}$$\n",
    "\n",
    "Entonces:"
   ]
  },
  {
   "cell_type": "code",
   "execution_count": 11,
   "metadata": {},
   "outputs": [
    {
     "data": {
      "image/png": "[encoded data removed]",
      "text/latex": [
       "$$\\left[\\begin{matrix}9750.0\\\\-16887.4953737966\\\\0\\end{matrix}\\right]$$"
      ],
      "text/plain": [
       "⎡     9750.0      ⎤\n",
       "⎢                 ⎥\n",
       "⎢-16887.4953737966⎥\n",
       "⎢                 ⎥\n",
       "⎣        0        ⎦"
      ]
     },
     "execution_count": 11,
     "metadata": {},
     "output_type": "execute_result"
    }
   ],
   "source": [
    "rQO = Matrix([b*cos(th), b*sin(th), 0]) # Vector r_Q/O\n",
    "vQ = w.cross(rQO) # Velocidad del punto del punto Q\n",
    "vQ "
   ]
  },
  {
   "cell_type": "markdown",
   "metadata": {},
   "source": [
    "De manera similar se puede proceder para las velocidades de los puntos $M$ y $P$."
   ]
  },
  {
   "cell_type": "code",
   "execution_count": 12,
   "metadata": {},
   "outputs": [
    {
     "data": {
      "image/png": "[encoded data removed]",
      "text/latex": [
       "$$\\left ( \\left[\\begin{matrix}19882.4972242779\\\\-11037.4953737966\\\\0\\end{matrix}\\right], \\quad \\left[\\begin{matrix}19694.034629806\\\\11370.3561949483\\\\0\\end{matrix}\\right]\\right )$$"
      ],
      "text/plain": [
       "⎛⎡19882.4972242779 ⎤  ⎡19694.034629806 ⎤⎞\n",
       "⎜⎢                 ⎥  ⎢                ⎥⎟\n",
       "⎜⎢-11037.4953737966⎥, ⎢11370.3561949483⎥⎟\n",
       "⎜⎢                 ⎥  ⎢                ⎥⎟\n",
       "⎝⎣        0        ⎦  ⎣       0        ⎦⎠"
      ]
     },
     "execution_count": 12,
     "metadata": {},
     "output_type": "execute_result"
    }
   ],
   "source": [
    "beta = atan(h/b)\n",
    "tQ = th + beta # ángulo formado por el vector r_M/O con respecto a la horizontal\n",
    "tP = th + pi/2 # ángulo formado por el vector r_P/O con respecto a la horizontal\n",
    "r = sqrt(h**2 + b**2) # diagonal del rectángulo\n",
    "rMO = Matrix([r*cos(tQ), r*sin(tQ), 0])\n",
    "rPO = Matrix([r*cos(tP), r*sin(tP), 0])\n",
    "\n",
    "vM = w.cross(rMO) # velocidad de M\n",
    "vP = w.cross(rPO) # velocidad de P\n",
    "\n",
    "vM.evalf(), vP.evalf()"
   ]
  },
  {
   "cell_type": "markdown",
   "metadata": {},
   "source": [
    "Para las aceleraciones, dado que $\\omega$ es constante, entonces, $\\alpha=0$.\n",
    "\n",
    "La aceleración del punto $Q$ se puede calcular como:\n",
    "\n",
    "$$ \\vec{a}_Q = \\vec{\\alpha} \\times \\vec{r}_{Q/O} + \\vec{\\omega} \\times \\left( \\vec{\\omega} \\times \\vec{r}_{Q/O} \\right)  $$\n",
    "\n",
    "Entonces:"
   ]
  },
  {
   "cell_type": "code",
   "execution_count": 13,
   "metadata": {},
   "outputs": [
    {
     "data": {
      "image/png": "[encoded data removed]",
      "text/latex": [
       "$$\\left[\\begin{matrix}-1097687.19929678\\\\-633750.0\\\\0\\end{matrix}\\right]$$"
      ],
      "text/plain": [
       "⎡-1097687.19929678⎤\n",
       "⎢                 ⎥\n",
       "⎢    -633750.0    ⎥\n",
       "⎢                 ⎥\n",
       "⎣        0        ⎦"
      ]
     },
     "execution_count": 13,
     "metadata": {},
     "output_type": "execute_result"
    }
   ],
   "source": [
    "alpha = Matrix([0,0,0]) # vector de velocidad angular\n",
    "\n",
    "aQ = alpha.cross(rQO) + w.cross(w.cross(rQO)) # Aceleración de Q\n",
    "aQ"
   ]
  },
  {
   "cell_type": "markdown",
   "metadata": {},
   "source": [
    "De manera similar para las aceleraciones de $P$ y $M$:"
   ]
  },
  {
   "cell_type": "code",
   "execution_count": 14,
   "metadata": {},
   "outputs": [
    {
     "data": {
      "image/png": "[encoded data removed]",
      "text/latex": [
       "$$\\left ( \\left[\\begin{matrix}-717437.199296776\\\\-1292362.31957807\\\\0\\end{matrix}\\right], \\quad \\left[\\begin{matrix}739073.152671642\\\\-1280112.25093739\\\\0\\end{matrix}\\right]\\right )$$"
      ],
      "text/plain": [
       "⎛⎡-717437.199296776⎤  ⎡739073.152671642 ⎤⎞\n",
       "⎜⎢                 ⎥  ⎢                 ⎥⎟\n",
       "⎜⎢-1292362.31957807⎥, ⎢-1280112.25093739⎥⎟\n",
       "⎜⎢                 ⎥  ⎢                 ⎥⎟\n",
       "⎝⎣        0        ⎦  ⎣        0        ⎦⎠"
      ]
     },
     "execution_count": 14,
     "metadata": {},
     "output_type": "execute_result"
    }
   ],
   "source": [
    "aM = alpha.cross(rMO) + w.cross(w.cross(rMO))\n",
    "aP = alpha.cross(rPO) + w.cross(w.cross(rPO))\n",
    "\n",
    "aM.evalf(), aP.evalf()"
   ]
  },
  {
   "cell_type": "markdown",
   "metadata": {},
   "source": [
    "<hr style=\"border-top: 3px solid #070707;\">\n",
    "\n",
    "**Ejemplo 2.** El bloque ubicado en $A$ se desplaza a 100 mm/s hacia arriba en el instante en que $\\varphi = 60°$. Calcule la velocidad angular de la barra $AB$ y la velocidad del bloque en $B$. Considere que la barra $AB$ mide 500 mm.\n",
    "\n",
    "<img src=\"img/acm/double_slider.svg\">\n",
    "\n",
    "*Solución*"
   ]
  },
  {
   "cell_type": "code",
   "execution_count": 15,
   "metadata": {},
   "outputs": [],
   "source": [
    "L = 500 # longitud de la barra AB (mm)\n",
    "phi = rad(60).evalf()\n",
    "VA = Matrix([0,100,0]) # vector de velocidad de A\n",
    "vB = symbols(\"v_B\") # \n",
    "VB = Matrix([vB,0,0]) # vector de velocidad de B\n",
    "wAB = symbols(\"\\\\omega_{AB}\")\n",
    "WAB = Matrix([0,0,wAB]) # vector de velocidad angular AB\n",
    "RBA = Matrix([L*cos(phi), L*sin(phi), 0])"
   ]
  },
  {
   "cell_type": "code",
   "execution_count": 16,
   "metadata": {},
   "outputs": [
    {
     "data": {
      "image/png": "[encoded data removed]",
      "text/latex": [
       "$$\\left[\\begin{matrix}v_{B}\\\\0\\\\0\\end{matrix}\\right] = \\left[\\begin{matrix}- 433.012701892219 \\omega_{AB}\\\\250.0 \\omega_{AB} + 100\\\\0\\end{matrix}\\right]$$"
      ],
      "text/plain": [
       "⎡v_B⎤   ⎡-433.012701892219⋅\\omega_{AB}⎤\n",
       "⎢   ⎥   ⎢                             ⎥\n",
       "⎢ 0 ⎥ = ⎢   250.0⋅\\omega_{AB} + 100   ⎥\n",
       "⎢   ⎥   ⎢                             ⎥\n",
       "⎣ 0 ⎦   ⎣              0              ⎦"
      ]
     },
     "execution_count": 16,
     "metadata": {},
     "output_type": "execute_result"
    }
   ],
   "source": [
    "ecvr = Eq(VB, VA + WAB.cross(RBA)) # ecuación de velocidad relativa\n",
    "ecvr"
   ]
  },
  {
   "cell_type": "code",
   "execution_count": 17,
   "metadata": {},
   "outputs": [
    {
     "data": {
      "image/png": "[encoded data removed]",
      "text/latex": [
       "$$\\left \\{ \\omega_{AB} : -0.4, \\quad v_{B} : 173.205080756888\\right \\}$$"
      ],
      "text/plain": [
       "{\\omega_{AB}: -0.4, v_B: 173.205080756888}"
      ]
     },
     "execution_count": 17,
     "metadata": {},
     "output_type": "execute_result"
    }
   ],
   "source": [
    "solve(ecvr) # resolviendo la ecuación de velocidad relativa"
   ]
  },
  {
   "cell_type": "code",
   "execution_count": null,
   "metadata": {},
   "outputs": [],
   "source": []
  }
 ],
 "metadata": {
  "kernelspec": {
   "display_name": "Python 3",
   "language": "python",
   "name": "python3"
  },
  "language_info": {
   "codemirror_mode": {
    "name": "ipython",
    "version": 3
   },
   "file_extension": ".py",
   "mimetype": "text/x-python",
   "name": "python",
   "nbconvert_exporter": "python",
   "pygments_lexer": "ipython3",
   "version": "3.6.5"
  },
  "toc": {
   "base_numbering": 1,
   "nav_menu": {},
   "number_sections": true,
   "sideBar": true,
   "skip_h1_title": false,
   "title_cell": "Table of Contents",
   "title_sidebar": "Contents",
   "toc_cell": false,
   "toc_position": {},
   "toc_section_display": true,
   "toc_window_display": false
  }
 },
 "nbformat": 4,
 "nbformat_minor": 2
}
