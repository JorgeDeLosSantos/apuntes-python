{
 "cells": [
  {
   "cell_type": "markdown",
   "metadata": {},
   "source": [
    "# Análisis cinemático de mecanismos"
   ]
  },
  {
   "cell_type": "markdown",
   "metadata": {},
   "source": [
    "## Ejemplos resueltos"
   ]
  },
  {
   "cell_type": "markdown",
   "metadata": {},
   "source": [
    "Para todos los ejemplos resueltos, asumiremos que hemos importado, previamente, la librería SymPy, de la siguiente manera:"
   ]
  },
  {
   "cell_type": "code",
   "execution_count": 29,
   "metadata": {},
   "outputs": [],
   "source": [
    "from sympy import *\n",
    "from sympy.matrices import Matrix"
   ]
  },
  {
   "cell_type": "markdown",
   "metadata": {},
   "source": [
    "Y que hemos colocado la instrucción `init_printing` para *renderizar* las expresiones de SymPy:"
   ]
  },
  {
   "cell_type": "code",
   "execution_count": 30,
   "metadata": {},
   "outputs": [],
   "source": [
    "init_printing()"
   ]
  },
  {
   "cell_type": "markdown",
   "metadata": {},
   "source": [
    "<hr style=\"border-top: 3px solid #070707;\">\n",
    "\n",
    "**Ejemplo 1**. En la figura se muestra una placa rectangular de (300x180) mm, la cual está rotando a una velocidad angular constante de 65 rad/s en el sentido de las manecillas del reloj. Calcule la velocidad y aceleración de los puntos $P$, $Q$ y $M$, para la posición esquematizada.\n",
    "\n",
    "<img src=\"img/acm/rectangular_plate.svg\">\n",
    "\n",
    "*Solución*\n",
    "\n",
    "Comenzamos definiendo el vector de velocidad angular, el ángulo de 30° y las dimensiones de la placa:"
   ]
  },
  {
   "cell_type": "code",
   "execution_count": 31,
   "metadata": {},
   "outputs": [],
   "source": [
    "w = Matrix([0,0,-65]) # Vector de velocidad angular\n",
    "th = rad(30).evalf() # Ángulo en radianes\n",
    "b = 300 # Base de la placa\n",
    "h = 180 # Alto de la placa"
   ]
  },
  {
   "cell_type": "markdown",
   "metadata": {},
   "source": [
    "Para la velocidad del punto $Q$ sabemos que:\n",
    "\n",
    "$$ \\vec{v}_Q = \\vec{\\omega} \\times \\vec{r}_{Q/O}$$\n",
    "\n",
    "Entonces:"
   ]
  },
  {
   "cell_type": "code",
   "execution_count": 32,
   "metadata": {},
   "outputs": [
    {
     "data": {
      "image/png": "[encoded data removed]",
      "text/latex": [
       "$$\\left[\\begin{matrix}9750.0\\\\-16887.4953737966\\\\0\\end{matrix}\\right]$$"
      ],
      "text/plain": [
       "⎡     9750.0      ⎤\n",
       "⎢                 ⎥\n",
       "⎢-16887.4953737966⎥\n",
       "⎢                 ⎥\n",
       "⎣        0        ⎦"
      ]
     },
     "execution_count": 32,
     "metadata": {},
     "output_type": "execute_result"
    }
   ],
   "source": [
    "rQO = Matrix([b*cos(th), b*sin(th), 0]) # Vector r_Q/O\n",
    "vQ = w.cross(rQO) # Velocidad del punto del punto Q\n",
    "vQ "
   ]
  },
  {
   "cell_type": "markdown",
   "metadata": {},
   "source": [
    "De manera similar se puede proceder para las velocidades de los puntos $M$ y $P$."
   ]
  },
  {
   "cell_type": "code",
   "execution_count": 33,
   "metadata": {},
   "outputs": [
    {
     "data": {
      "image/png": "[encoded data removed]",
      "text/latex": [
       "$$\\left ( \\left[\\begin{matrix}19882.4972242779\\\\-11037.4953737966\\\\0\\end{matrix}\\right], \\quad \\left[\\begin{matrix}19694.034629806\\\\11370.3561949483\\\\0\\end{matrix}\\right]\\right )$$"
      ],
      "text/plain": [
       "⎛⎡19882.4972242779 ⎤  ⎡19694.034629806 ⎤⎞\n",
       "⎜⎢                 ⎥  ⎢                ⎥⎟\n",
       "⎜⎢-11037.4953737966⎥, ⎢11370.3561949483⎥⎟\n",
       "⎜⎢                 ⎥  ⎢                ⎥⎟\n",
       "⎝⎣        0        ⎦  ⎣       0        ⎦⎠"
      ]
     },
     "execution_count": 33,
     "metadata": {},
     "output_type": "execute_result"
    }
   ],
   "source": [
    "beta = atan(h/b)\n",
    "tQ = th + beta # ángulo formado por el vector r_M/O con respecto a la horizontal\n",
    "tP = th + pi/2 # ángulo formado por el vector r_P/O con respecto a la horizontal\n",
    "r = sqrt(h**2 + b**2) # diagonal del rectángulo\n",
    "rMO = Matrix([r*cos(tQ), r*sin(tQ), 0])\n",
    "rPO = Matrix([r*cos(tP), r*sin(tP), 0])\n",
    "\n",
    "vM = w.cross(rMO) # velocidad de M\n",
    "vP = w.cross(rPO) # velocidad de P\n",
    "\n",
    "vM.evalf(), vP.evalf()"
   ]
  },
  {
   "cell_type": "markdown",
   "metadata": {},
   "source": [
    "Para las aceleraciones, dado que $\\omega$ es constante, entonces, $\\alpha=0$.\n",
    "\n",
    "La aceleración del punto $Q$ se puede calcular como:\n",
    "\n",
    "$$ \\vec{a}_Q = \\vec{\\alpha} \\times \\vec{r}_{Q/O} + \\vec{\\omega} \\times \\left( \\vec{\\omega} \\times \\vec{r}_{Q/O} \\right)  $$\n",
    "\n",
    "Entonces:"
   ]
  },
  {
   "cell_type": "code",
   "execution_count": 34,
   "metadata": {},
   "outputs": [
    {
     "data": {
      "image/png": "[encoded data removed]",
      "text/latex": [
       "$$\\left[\\begin{matrix}-1097687.19929678\\\\-633750.0\\\\0\\end{matrix}\\right]$$"
      ],
      "text/plain": [
       "⎡-1097687.19929678⎤\n",
       "⎢                 ⎥\n",
       "⎢    -633750.0    ⎥\n",
       "⎢                 ⎥\n",
       "⎣        0        ⎦"
      ]
     },
     "execution_count": 34,
     "metadata": {},
     "output_type": "execute_result"
    }
   ],
   "source": [
    "alpha = Matrix([0,0,0]) # vector de velocidad angular\n",
    "\n",
    "aQ = alpha.cross(rQO) + w.cross(w.cross(rQO)) # Aceleración de Q\n",
    "aQ"
   ]
  },
  {
   "cell_type": "markdown",
   "metadata": {},
   "source": [
    "De manera similar para las aceleraciones de $P$ y $M$:"
   ]
  },
  {
   "cell_type": "code",
   "execution_count": 35,
   "metadata": {},
   "outputs": [
    {
     "data": {
      "image/png": "[encoded data removed]",
      "text/latex": [
       "$$\\left ( \\left[\\begin{matrix}-717437.199296776\\\\-1292362.31957807\\\\0\\end{matrix}\\right], \\quad \\left[\\begin{matrix}739073.152671642\\\\-1280112.25093739\\\\0\\end{matrix}\\right]\\right )$$"
      ],
      "text/plain": [
       "⎛⎡-717437.199296776⎤  ⎡739073.152671642 ⎤⎞\n",
       "⎜⎢                 ⎥  ⎢                 ⎥⎟\n",
       "⎜⎢-1292362.31957807⎥, ⎢-1280112.25093739⎥⎟\n",
       "⎜⎢                 ⎥  ⎢                 ⎥⎟\n",
       "⎝⎣        0        ⎦  ⎣        0        ⎦⎠"
      ]
     },
     "execution_count": 35,
     "metadata": {},
     "output_type": "execute_result"
    }
   ],
   "source": [
    "aM = alpha.cross(rMO) + w.cross(w.cross(rMO))\n",
    "aP = alpha.cross(rPO) + w.cross(w.cross(rPO))\n",
    "\n",
    "aM.evalf(), aP.evalf()"
   ]
  },
  {
   "cell_type": "markdown",
   "metadata": {},
   "source": [
    "<hr style=\"border-top: 3px solid #070707;\">\n",
    "\n",
    "**Ejemplo 2.** El bloque ubicado en $A$ se desplaza a 100 mm/s hacia arriba en el instante en que $\\varphi = 60°$. Calcule la velocidad angular de la barra $AB$ y la velocidad del bloque en $B$. Considere que la barra $AB$ mide 500 mm.\n",
    "\n",
    "<img src=\"img/acm/double_slider.svg\">\n",
    "\n",
    "*Solución*"
   ]
  },
  {
   "cell_type": "code",
   "execution_count": 50,
   "metadata": {},
   "outputs": [],
   "source": [
    "L = 500 # longitud de la barra AB (mm)\n",
    "phi = rad(60).evalf()\n",
    "VA = Matrix([0,100,0]) # vector de velocidad de A\n",
    "vB = symbols(\"v_B\") # \n",
    "VB = Matrix([vB,0,0]) # vector de velocidad de B\n",
    "wAB = symbols(\"\\\\omega_{AB}\")\n",
    "WAB = Matrix([0,0,wAB]) # vector de velocidad angular AB\n",
    "RBA = Matrix([L*cos(phi), L*sin(phi), 0])"
   ]
  },
  {
   "cell_type": "code",
   "execution_count": 51,
   "metadata": {},
   "outputs": [
    {
     "data": {
      "image/png": "[encoded data removed]",
      "text/latex": [
       "$$\\left[\\begin{matrix}v_{B}\\\\0\\\\0\\end{matrix}\\right] = \\left[\\begin{matrix}- 433.012701892219 \\omega_{AB}\\\\250.0 \\omega_{AB} + 100\\\\0\\end{matrix}\\right]$$"
      ],
      "text/plain": [
       "⎡v_B⎤   ⎡-433.012701892219⋅\\omega_{AB}⎤\n",
       "⎢   ⎥   ⎢                             ⎥\n",
       "⎢ 0 ⎥ = ⎢   250.0⋅\\omega_{AB} + 100   ⎥\n",
       "⎢   ⎥   ⎢                             ⎥\n",
       "⎣ 0 ⎦   ⎣              0              ⎦"
      ]
     },
     "execution_count": 51,
     "metadata": {},
     "output_type": "execute_result"
    }
   ],
   "source": [
    "ecvr = Eq(VB, VA + WAB.cross(RBA)) # ecuación de velocidad relativa\n",
    "ecvr"
   ]
  },
  {
   "cell_type": "code",
   "execution_count": 52,
   "metadata": {},
   "outputs": [
    {
     "data": {
      "image/png": "[encoded data removed]",
      "text/latex": [
       "$$\\left \\{ \\omega_{AB} : -0.4, \\quad v_{B} : 173.205080756888\\right \\}$$"
      ],
      "text/plain": [
       "{\\omega_{AB}: -0.4, v_B: 173.205080756888}"
      ]
     },
     "execution_count": 52,
     "metadata": {},
     "output_type": "execute_result"
    }
   ],
   "source": [
    "solve(ecvr) # resolviendo la ecuación de velocidad relativa"
   ]
  },
  {
   "cell_type": "code",
   "execution_count": null,
   "metadata": {},
   "outputs": [],
   "source": []
  }
 ],
 "metadata": {
  "kernelspec": {
   "display_name": "Python 3",
   "language": "python",
   "name": "python3"
  },
  "language_info": {
   "codemirror_mode": {
    "name": "ipython",
    "version": 3
   },
   "file_extension": ".py",
   "mimetype": "text/x-python",
   "name": "python",
   "nbconvert_exporter": "python",
   "pygments_lexer": "ipython3",
   "version": "3.6.5"
  },
  "toc": {
   "base_numbering": 1,
   "nav_menu": {},
   "number_sections": true,
   "sideBar": true,
   "skip_h1_title": false,
   "title_cell": "Table of Contents",
   "title_sidebar": "Contents",
   "toc_cell": false,
   "toc_position": {},
   "toc_section_display": true,
   "toc_window_display": false
  }
 },
 "nbformat": 4,
 "nbformat_minor": 2
}
